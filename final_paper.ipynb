{
 "cells": [
  {
   "cell_type": "code",
   "execution_count": 1,
   "metadata": {},
   "outputs": [
    {
     "name": "stdout",
     "output_type": "stream",
     "text": [
      "--2023-11-07 10:41:30--  https://jmcauley.ucsd.edu/data/amazon_v2/categoryFilesSmall/Gift_Cards_5.json.gz\n",
      "Resolving jmcauley.ucsd.edu (jmcauley.ucsd.edu)... 137.110.160.73\n",
      "Connecting to jmcauley.ucsd.edu (jmcauley.ucsd.edu)|137.110.160.73|:443... connected.\n",
      "HTTP request sent, awaiting response... 200 OK\n",
      "Length: 176952 (173K) [application/x-gzip]\n",
      "Saving to: ‘Gift_Cards_5.json.gz’\n",
      "\n",
      "Gift_Cards_5.json.g 100%[===================>] 172.80K  --.-KB/s    in 0.02s   \n",
      "\n",
      "2023-11-07 10:41:30 (7.94 MB/s) - ‘Gift_Cards_5.json.gz’ saved [176952/176952]\n",
      "\n",
      "--2023-11-07 10:41:30--  https://jmcauley.ucsd.edu/data/amazon_v2/categoryFilesSmall/Gift_Cards.csv\n",
      "Resolving jmcauley.ucsd.edu (jmcauley.ucsd.edu)... 137.110.160.73\n",
      "Connecting to jmcauley.ucsd.edu (jmcauley.ucsd.edu)|137.110.160.73|:443... connected.\n",
      "HTTP request sent, awaiting response... 200 OK\n",
      "Length: 6143525 (5.9M) [text/csv]\n",
      "Saving to: ‘Gift_Cards.csv.1’\n",
      "\n",
      "Gift_Cards.csv.1    100%[===================>]   5.86M  15.0MB/s    in 0.4s    \n",
      "\n",
      "2023-11-07 10:41:31 (15.0 MB/s) - ‘Gift_Cards.csv.1’ saved [6143525/6143525]\n",
      "\n",
      "Gift_Cards_5.json already exists -- do you wish to overwrite (y or n)? ^C\n",
      "{\"overall\": 5.0, \"verified\": true, \"reviewTime\": \"06 17, 2018\", \"reviewerID\": \"A31UBHTUUIFJUT\", \"asin\": \"B004LLIKVU\", \"style\": {\"Gift Amount:\": \" 50\"}, \"reviewerName\": \"john stoiber\", \"reviewText\": \"Another great gift.\", \"summary\": \"Five Stars\", \"unixReviewTime\": 1529193600}\n",
      "{\"overall\": 4.0, \"verified\": true, \"reviewTime\": \"06 14, 2018\", \"reviewerID\": \"A2MN5JQMIY0FQ2\", \"asin\": \"B004LLIKVU\", \"style\": {\"Gift Amount:\": \" 50\"}, \"reviewerName\": \"Amazon Customer\", \"reviewText\": \"Gift card for my daughter\", \"summary\": \"Ease of use\", \"unixReviewTime\": 1528934400}\n",
      "{\"overall\": 5.0, \"verified\": true, \"reviewTime\": \"06 2, 2018\", \"reviewerID\": \"A25POI5IGGENPM\", \"asin\": \"B004LLIKVU\", \"style\": {\"Gift Amount:\": \" 50\"}, \"reviewerName\": \"Kindle Customer\", \"reviewText\": \"Nice present\", \"summary\": \"Five Stars\", \"unixReviewTime\": 1527897600}\n",
      "{\"overall\": 5.0, \"verified\": true, \"reviewTime\": \"05 19, 2018\", \"reviewerID\": \"A2HYGTHB4LJ9FW\", \"asin\": \"B004LLIKVU\", \"style\": {\"Gift Amount:\": \" 50\"}, \"reviewerName\": \"Amante dei Gatti\", \"reviewText\": \"My niece loved this birthday greeting/gift card.\", \"summary\": \"Love the convenience of eCards\", \"unixReviewTime\": 1526688000}\n",
      "{\"overall\": 5.0, \"verified\": true, \"reviewTime\": \"05 18, 2018\", \"reviewerID\": \"ACDG3M94UMZGJ\", \"asin\": \"B004LLIKVU\", \"style\": {\"Gift Amount:\": \" 50\"}, \"reviewerName\": \"Joan Freesh\", \"reviewText\": \"fine as a gift.\", \"summary\": \"Five Stars\", \"unixReviewTime\": 1526601600}\n",
      "{\"overall\": 5.0, \"verified\": true, \"reviewTime\": \"05 8, 2018\", \"reviewerID\": \"ABWSFKJ1MRN1Q\", \"asin\": \"B004LLIKVU\", \"style\": {\"Gift Amount:\": \" 50\"}, \"reviewerName\": \"Barb Peterson\", \"reviewText\": \"I would have preferred some more choices.\", \"summary\": \"Five Stars\", \"unixReviewTime\": 1525737600}\n",
      "{\"overall\": 5.0, \"verified\": true, \"reviewTime\": \"05 1, 2018\", \"reviewerID\": \"A34JP8QRZRS7W5\", \"asin\": \"B004LLIKVU\", \"style\": {\"Gift Amount:\": \" 50\"}, \"reviewerName\": \"dood\", \"reviewText\": \"great\", \"summary\": \"great\", \"unixReviewTime\": 1525132800}\n",
      "{\"overall\": 5.0, \"verified\": true, \"reviewTime\": \"04 27, 2018\", \"reviewerID\": \"A2JCUY769II5B5\", \"asin\": \"B004LLIKVU\", \"style\": {\"Gift Amount:\": \" 50\"}, \"reviewerName\": \"Stephanie K\", \"reviewText\": \"Very cute design and enjoyed by recipient.\", \"summary\": \"Five Stars\", \"unixReviewTime\": 1524787200}\n",
      "{\"overall\": 4.0, \"verified\": true, \"reviewTime\": \"04 12, 2018\", \"reviewerID\": \"A1MAKKM3E4PFE2\", \"asin\": \"B004LLIKVU\", \"style\": {\"Gift Amount:\": \" 50\"}, \"reviewerName\": \"NPR MAN\", \"reviewText\": \"I used the text option to send these last minute gift cards to my Granddaughters (via their mom's phone). Works really well, you get a confirmation email that it has been received, and a confirmation that the cards have been redeemed. Granddaughter's very happy with the card design. I love the options you have when you send Amazon gift cards!\", \"summary\": \"I texted this gift card to my Granddaughter, works like a charm, they get the card instantly!\", \"unixReviewTime\": 1523491200}\n",
      "{\"overall\": 5.0, \"verified\": true, \"reviewTime\": \"04 12, 2018\", \"reviewerID\": \"A35NK1PEDWMV0I\", \"asin\": \"B004LLIKVU\", \"style\": {\"Gift Amount:\": \" 50\"}, \"reviewerName\": \"Traveler\", \"reviewText\": \"This was for a gift and it was well received.\", \"summary\": \"Five Stars\", \"unixReviewTime\": 1523491200}\n",
      "B001GXRQW0,APV13CM0919JD,1.0,1229644800\n",
      "B001GXRQW0,A3G8U1G1V082SN,5.0,1229472000\n",
      "B001GXRQW0,A11T2Q0EVTUWP,5.0,1229472000\n",
      "B001GXRQW0,A9YKGBH3SV22C,5.0,1229472000\n",
      "B001GXRQW0,A34WZIHVF3OKOL,1.0,1229472000\n",
      "B001GXRQW0,A221J8EC5HNPY6,3.0,1229385600\n",
      "B001GXRQW0,A204VFHD6JWASO,1.0,1229212800\n",
      "B001GXRQW0,A3QN3GMNS7NBIQ,1.0,1228953600\n",
      "B001GXRQW0,A1BXZIDZOMBAV2,5.0,1228867200\n",
      "B001GXRQW0,AJ7D8N3Z1Q7MK,1.0,1228521600\n",
      "--2023-11-07 10:42:44--  https://datarepo.eng.ucsd.edu/mcauley_group/data/amazon_v2/metaFiles2/meta_Gift_Cards.json.gz\n",
      "Resolving datarepo.eng.ucsd.edu (datarepo.eng.ucsd.edu)... 132.239.8.30\n",
      "Connecting to datarepo.eng.ucsd.edu (datarepo.eng.ucsd.edu)|132.239.8.30|:443... connected.\n",
      "HTTP request sent, awaiting response... 200 OK\n",
      "Length: 389825 (381K) [application/x-gzip]\n",
      "Saving to: ‘meta_Gift_Cards.json.gz’\n",
      "\n",
      "meta_Gift_Cards.jso 100%[===================>] 380.69K   844KB/s    in 0.5s    \n",
      "\n",
      "2023-11-07 10:42:45 (844 KB/s) - ‘meta_Gift_Cards.json.gz’ saved [389825/389825]\n",
      "\n",
      "meta_Gift_Cards.json already exists -- do you wish to overwrite (y or n)? "
     ]
    }
   ],
   "source": [
    "#Loading in our data\n",
    "!wget https://jmcauley.ucsd.edu/data/amazon_v2/categoryFilesSmall/Gift_Cards_5.json.gz --no-check-certificate\n",
    "!wget https://jmcauley.ucsd.edu/data/amazon_v2/categoryFilesSmall/Gift_Cards.csv --no-check-certificate\n",
    "!gzip -d Gift_Cards_5.json.gz\n",
    "!head Gift_Cards_5.json\n",
    "!head Gift_Cards.csv\n",
    "!wget https://datarepo.eng.ucsd.edu/mcauley_group/data/amazon_v2/metaFiles2/meta_Gift_Cards.json.gz --no-check-certificate\n",
    "!gzip -d meta_Gift_Cards.json.gz\n",
    "!head meta_Gift_Cards.json"
   ]
  },
  {
   "cell_type": "code",
   "execution_count": 1,
   "metadata": {},
   "outputs": [
    {
     "name": "stdout",
     "output_type": "stream",
     "text": [
      "Looking in links: https://data.pyg.org/whl/torch-1.13.1+cu116.html\n",
      "Collecting torch-scatter\n",
      "  Using cached torch_scatter-2.1.2.tar.gz (108 kB)\n",
      "  Preparing metadata (setup.py) ... \u001b[?25ldone\n",
      "\u001b[?25hBuilding wheels for collected packages: torch-scatter\n",
      "  Building wheel for torch-scatter (setup.py) ... \u001b[?25ldone\n",
      "\u001b[?25h  Created wheel for torch-scatter: filename=torch_scatter-2.1.2-cp39-cp39-macosx_11_0_arm64.whl size=268030 sha256=e6f251fa9f1c62a6980349854399a7c2fbc75a25352965f8ba1b45597358068e\n",
      "  Stored in directory: /Users/aidenchang/Library/Caches/pip/wheels/b8/9c/c0/d261e1e64cc49e6b14dd7319d8b61eb14168529d810dbba00e\n",
      "Successfully built torch-scatter\n",
      "Installing collected packages: torch-scatter\n",
      "Successfully installed torch-scatter-2.1.2\n",
      "Looking in links: https://data.pyg.org/whl/torch-1.13.1+cu116.html\n",
      "Collecting torch-sparse\n",
      "  Using cached torch_sparse-0.6.18.tar.gz (209 kB)\n",
      "  Preparing metadata (setup.py) ... \u001b[?25ldone\n",
      "\u001b[?25hRequirement already satisfied: scipy in /Users/aidenchang/miniforge3/envs/ml_final/lib/python3.9/site-packages (from torch-sparse) (1.11.3)\n",
      "Requirement already satisfied: numpy<1.28.0,>=1.21.6 in /Users/aidenchang/miniforge3/envs/ml_final/lib/python3.9/site-packages (from scipy->torch-sparse) (1.26.1)\n",
      "Building wheels for collected packages: torch-sparse\n",
      "  Building wheel for torch-sparse (setup.py) ... \u001b[?25ldone\n",
      "\u001b[?25h  Created wheel for torch-sparse: filename=torch_sparse-0.6.18-cp39-cp39-macosx_11_0_arm64.whl size=463278 sha256=648402f2557253b592a7e08fbc561f3cd1bbb375b68363cef3ab2f02085bcc8c\n",
      "  Stored in directory: /Users/aidenchang/Library/Caches/pip/wheels/c0/15/18/881c60adefeb60882987c23aa5ecced0ab7257c3162acab518\n",
      "Successfully built torch-sparse\n",
      "Installing collected packages: torch-sparse\n",
      "Successfully installed torch-sparse-0.6.18\n",
      "Collecting torch-geometric\n",
      "  Using cached torch_geometric-2.4.0-py3-none-any.whl.metadata (63 kB)\n",
      "Collecting tqdm (from torch-geometric)\n",
      "  Using cached tqdm-4.66.1-py3-none-any.whl.metadata (57 kB)\n",
      "Requirement already satisfied: numpy in /Users/aidenchang/miniforge3/envs/ml_final/lib/python3.9/site-packages (from torch-geometric) (1.26.1)\n",
      "Requirement already satisfied: scipy in /Users/aidenchang/miniforge3/envs/ml_final/lib/python3.9/site-packages (from torch-geometric) (1.11.3)\n",
      "Requirement already satisfied: jinja2 in /Users/aidenchang/miniforge3/envs/ml_final/lib/python3.9/site-packages (from torch-geometric) (3.1.2)\n",
      "Collecting requests (from torch-geometric)\n",
      "  Using cached requests-2.31.0-py3-none-any.whl.metadata (4.6 kB)\n",
      "Collecting pyparsing (from torch-geometric)\n",
      "  Using cached pyparsing-3.1.1-py3-none-any.whl.metadata (5.1 kB)\n",
      "Requirement already satisfied: scikit-learn in /Users/aidenchang/miniforge3/envs/ml_final/lib/python3.9/site-packages (from torch-geometric) (1.3.2)\n",
      "Requirement already satisfied: psutil>=5.8.0 in /Users/aidenchang/miniforge3/envs/ml_final/lib/python3.9/site-packages (from torch-geometric) (5.9.5)\n",
      "Requirement already satisfied: MarkupSafe>=2.0 in /Users/aidenchang/miniforge3/envs/ml_final/lib/python3.9/site-packages (from jinja2->torch-geometric) (2.1.3)\n",
      "Collecting charset-normalizer<4,>=2 (from requests->torch-geometric)\n",
      "  Downloading charset_normalizer-3.3.2-cp39-cp39-macosx_11_0_arm64.whl.metadata (33 kB)\n",
      "Collecting idna<4,>=2.5 (from requests->torch-geometric)\n",
      "  Using cached idna-3.4-py3-none-any.whl (61 kB)\n",
      "Collecting urllib3<3,>=1.21.1 (from requests->torch-geometric)\n",
      "  Using cached urllib3-2.0.7-py3-none-any.whl.metadata (6.6 kB)\n",
      "Collecting certifi>=2017.4.17 (from requests->torch-geometric)\n",
      "  Using cached certifi-2023.7.22-py3-none-any.whl.metadata (2.2 kB)\n",
      "Requirement already satisfied: joblib>=1.1.1 in /Users/aidenchang/miniforge3/envs/ml_final/lib/python3.9/site-packages (from scikit-learn->torch-geometric) (1.3.2)\n",
      "Requirement already satisfied: threadpoolctl>=2.0.0 in /Users/aidenchang/miniforge3/envs/ml_final/lib/python3.9/site-packages (from scikit-learn->torch-geometric) (3.2.0)\n",
      "Using cached torch_geometric-2.4.0-py3-none-any.whl (1.0 MB)\n",
      "Using cached pyparsing-3.1.1-py3-none-any.whl (103 kB)\n",
      "Using cached requests-2.31.0-py3-none-any.whl (62 kB)\n",
      "Using cached tqdm-4.66.1-py3-none-any.whl (78 kB)\n",
      "Using cached certifi-2023.7.22-py3-none-any.whl (158 kB)\n",
      "Downloading charset_normalizer-3.3.2-cp39-cp39-macosx_11_0_arm64.whl (120 kB)\n",
      "\u001b[2K   \u001b[90m━━━━━━━━━━━━━━━━━━━━━━━━━━━━━━━━━━━━━━━━\u001b[0m \u001b[32m120.4/120.4 kB\u001b[0m \u001b[31m8.0 MB/s\u001b[0m eta \u001b[36m0:00:00\u001b[0m\n",
      "\u001b[?25hUsing cached urllib3-2.0.7-py3-none-any.whl (124 kB)\n",
      "Installing collected packages: urllib3, tqdm, pyparsing, idna, charset-normalizer, certifi, requests, torch-geometric\n",
      "Successfully installed certifi-2023.7.22 charset-normalizer-3.3.2 idna-3.4 pyparsing-3.1.1 requests-2.31.0 torch-geometric-2.4.0 tqdm-4.66.1 urllib3-2.0.7\n",
      "Collecting umap-learn\n",
      "  Using cached umap-learn-0.5.4.tar.gz (90 kB)\n",
      "  Preparing metadata (setup.py) ... \u001b[?25ldone\n",
      "\u001b[?25hRequirement already satisfied: numpy>=1.17 in /Users/aidenchang/miniforge3/envs/ml_final/lib/python3.9/site-packages (from umap-learn) (1.26.1)\n",
      "Requirement already satisfied: scipy>=1.3.1 in /Users/aidenchang/miniforge3/envs/ml_final/lib/python3.9/site-packages (from umap-learn) (1.11.3)\n",
      "Requirement already satisfied: scikit-learn>=0.22 in /Users/aidenchang/miniforge3/envs/ml_final/lib/python3.9/site-packages (from umap-learn) (1.3.2)\n",
      "Collecting numba>=0.51.2 (from umap-learn)\n",
      "  Downloading numba-0.58.1-cp39-cp39-macosx_11_0_arm64.whl.metadata (2.7 kB)\n",
      "Collecting pynndescent>=0.5 (from umap-learn)\n",
      "  Downloading pynndescent-0.5.10.tar.gz (1.1 MB)\n",
      "\u001b[2K     \u001b[90m━━━━━━━━━━━━━━━━━━━━━━━━━━━━━━━━━━━━━━━━\u001b[0m \u001b[32m1.1/1.1 MB\u001b[0m \u001b[31m22.4 MB/s\u001b[0m eta \u001b[36m0:00:00\u001b[0ma \u001b[36m0:00:01\u001b[0m\n",
      "\u001b[?25h  Preparing metadata (setup.py) ... \u001b[?25ldone\n",
      "\u001b[?25hRequirement already satisfied: tqdm in /Users/aidenchang/miniforge3/envs/ml_final/lib/python3.9/site-packages (from umap-learn) (4.66.1)\n",
      "Collecting llvmlite<0.42,>=0.41.0dev0 (from numba>=0.51.2->umap-learn)\n",
      "  Downloading llvmlite-0.41.1-cp39-cp39-macosx_11_0_arm64.whl.metadata (4.8 kB)\n",
      "Requirement already satisfied: joblib>=0.11 in /Users/aidenchang/miniforge3/envs/ml_final/lib/python3.9/site-packages (from pynndescent>=0.5->umap-learn) (1.3.2)\n",
      "Requirement already satisfied: threadpoolctl>=2.0.0 in /Users/aidenchang/miniforge3/envs/ml_final/lib/python3.9/site-packages (from scikit-learn>=0.22->umap-learn) (3.2.0)\n",
      "Downloading numba-0.58.1-cp39-cp39-macosx_11_0_arm64.whl (2.6 MB)\n",
      "\u001b[2K   \u001b[90m━━━━━━━━━━━━━━━━━━━━━━━━━━━━━━━━━━━━━━━━\u001b[0m \u001b[32m2.6/2.6 MB\u001b[0m \u001b[31m25.4 MB/s\u001b[0m eta \u001b[36m0:00:00\u001b[0ma \u001b[36m0:00:01\u001b[0m\n",
      "\u001b[?25hDownloading llvmlite-0.41.1-cp39-cp39-macosx_11_0_arm64.whl (28.8 MB)\n",
      "\u001b[2K   \u001b[90m━━━━━━━━━━━━━━━━━━━━━━━━━━━━━━━━━━━━━━━━\u001b[0m \u001b[32m28.8/28.8 MB\u001b[0m \u001b[31m22.8 MB/s\u001b[0m eta \u001b[36m0:00:00\u001b[0m00:01\u001b[0m00:01\u001b[0m\n",
      "\u001b[?25hBuilding wheels for collected packages: umap-learn, pynndescent\n",
      "  Building wheel for umap-learn (setup.py) ... \u001b[?25ldone\n",
      "\u001b[?25h  Created wheel for umap-learn: filename=umap_learn-0.5.4-py3-none-any.whl size=86759 sha256=d04862591f357364541c69e240b7270cf9f8889139e18e6c1ee605daee116172\n",
      "  Stored in directory: /Users/aidenchang/Library/Caches/pip/wheels/e1/8b/ec/51afd5b0c041b6a7dd5777ceb58cc0d645ba9454cc5a923e96\n",
      "  Building wheel for pynndescent (setup.py) ... \u001b[?25ldone\n",
      "\u001b[?25h  Created wheel for pynndescent: filename=pynndescent-0.5.10-py3-none-any.whl size=55615 sha256=f78e76d7f0add597f08aec58260e4c401d252cef5cf16ea961051bc56f50bd2c\n",
      "  Stored in directory: /Users/aidenchang/Library/Caches/pip/wheels/12/f9/4d/ec5ad1c823c710fcc4473669fdcffc8891f4bc398c841af22e\n",
      "Successfully built umap-learn pynndescent\n",
      "Installing collected packages: llvmlite, numba, pynndescent, umap-learn\n",
      "Successfully installed llvmlite-0.41.1 numba-0.58.1 pynndescent-0.5.10 umap-learn-0.5.4\n"
     ]
    }
   ],
   "source": [
    "#Installing packages that do not come pre installed\n",
    "!pip install torch-scatter -f https://data.pyg.org/whl/torch-1.13.1+cu116.html\n",
    "!pip install torch-sparse -f https://data.pyg.org/whl/torch-1.13.1+cu116.html\n",
    "!pip install torch-geometric\n",
    "!pip install umap-learn"
   ]
  },
  {
   "cell_type": "code",
   "execution_count": 3,
   "metadata": {},
   "outputs": [
    {
     "name": "stdout",
     "output_type": "stream",
     "text": [
      "Collecting matplotlib\n",
      "  Downloading matplotlib-3.8.1-cp39-cp39-macosx_11_0_arm64.whl.metadata (5.8 kB)\n",
      "Collecting contourpy>=1.0.1 (from matplotlib)\n",
      "  Downloading contourpy-1.2.0-cp39-cp39-macosx_11_0_arm64.whl.metadata (5.8 kB)\n",
      "Collecting cycler>=0.10 (from matplotlib)\n",
      "  Downloading cycler-0.12.1-py3-none-any.whl.metadata (3.8 kB)\n",
      "Collecting fonttools>=4.22.0 (from matplotlib)\n",
      "  Downloading fonttools-4.44.0-cp39-cp39-macosx_10_9_universal2.whl.metadata (153 kB)\n",
      "\u001b[2K     \u001b[90m━━━━━━━━━━━━━━━━━━━━━━━━━━━━━━━━━━━━━━\u001b[0m \u001b[32m153.6/153.6 kB\u001b[0m \u001b[31m13.4 MB/s\u001b[0m eta \u001b[36m0:00:00\u001b[0m\n",
      "\u001b[?25hCollecting kiwisolver>=1.3.1 (from matplotlib)\n",
      "  Downloading kiwisolver-1.4.5-cp39-cp39-macosx_11_0_arm64.whl.metadata (6.4 kB)\n",
      "Requirement already satisfied: numpy<2,>=1.21 in /Users/aidenchang/miniforge3/envs/ml_final/lib/python3.9/site-packages (from matplotlib) (1.26.1)\n",
      "Requirement already satisfied: packaging>=20.0 in /Users/aidenchang/miniforge3/envs/ml_final/lib/python3.9/site-packages (from matplotlib) (23.2)\n",
      "Collecting pillow>=8 (from matplotlib)\n",
      "  Downloading Pillow-10.1.0-cp39-cp39-macosx_11_0_arm64.whl.metadata (9.5 kB)\n",
      "Requirement already satisfied: pyparsing>=2.3.1 in /Users/aidenchang/miniforge3/envs/ml_final/lib/python3.9/site-packages (from matplotlib) (3.1.1)\n",
      "Requirement already satisfied: python-dateutil>=2.7 in /Users/aidenchang/miniforge3/envs/ml_final/lib/python3.9/site-packages (from matplotlib) (2.8.2)\n",
      "Collecting importlib-resources>=3.2.0 (from matplotlib)\n",
      "  Downloading importlib_resources-6.1.1-py3-none-any.whl.metadata (4.1 kB)\n",
      "Requirement already satisfied: zipp>=3.1.0 in /Users/aidenchang/miniforge3/envs/ml_final/lib/python3.9/site-packages (from importlib-resources>=3.2.0->matplotlib) (3.17.0)\n",
      "Requirement already satisfied: six>=1.5 in /Users/aidenchang/miniforge3/envs/ml_final/lib/python3.9/site-packages (from python-dateutil>=2.7->matplotlib) (1.16.0)\n",
      "Downloading matplotlib-3.8.1-cp39-cp39-macosx_11_0_arm64.whl (7.5 MB)\n",
      "\u001b[2K   \u001b[90m━━━━━━━━━━━━━━━━━━━━━━━━━━━━━━━━━━━━━━━━\u001b[0m \u001b[32m7.5/7.5 MB\u001b[0m \u001b[31m16.1 MB/s\u001b[0m eta \u001b[36m0:00:00\u001b[0m00:01\u001b[0m00:01\u001b[0m\n",
      "\u001b[?25hDownloading contourpy-1.2.0-cp39-cp39-macosx_11_0_arm64.whl (242 kB)\n",
      "\u001b[2K   \u001b[90m━━━━━━━━━━━━━━━━━━━━━━━━━━━━━━━━━━━━━━━━\u001b[0m \u001b[32m242.4/242.4 kB\u001b[0m \u001b[31m14.1 MB/s\u001b[0m eta \u001b[36m0:00:00\u001b[0m\n",
      "\u001b[?25hDownloading cycler-0.12.1-py3-none-any.whl (8.3 kB)\n",
      "Downloading fonttools-4.44.0-cp39-cp39-macosx_10_9_universal2.whl (2.7 MB)\n",
      "\u001b[2K   \u001b[90m━━━━━━━━━━━━━━━━━━━━━━━━━━━━━━━━━━━━━━━━\u001b[0m \u001b[32m2.7/2.7 MB\u001b[0m \u001b[31m41.5 MB/s\u001b[0m eta \u001b[36m0:00:00\u001b[0ma \u001b[36m0:00:01\u001b[0m\n",
      "\u001b[?25hDownloading importlib_resources-6.1.1-py3-none-any.whl (33 kB)\n",
      "Downloading kiwisolver-1.4.5-cp39-cp39-macosx_11_0_arm64.whl (66 kB)\n",
      "\u001b[2K   \u001b[90m━━━━━━━━━━━━━━━━━━━━━━━━━━━━━━━━━━━━━━━━\u001b[0m \u001b[32m66.2/66.2 kB\u001b[0m \u001b[31m8.0 MB/s\u001b[0m eta \u001b[36m0:00:00\u001b[0m\n",
      "\u001b[?25hDownloading Pillow-10.1.0-cp39-cp39-macosx_11_0_arm64.whl (3.3 MB)\n",
      "\u001b[2K   \u001b[90m━━━━━━━━━━━━━━━━━━━━━━━━━━━━━━━━━━━━━━━━\u001b[0m \u001b[32m3.3/3.3 MB\u001b[0m \u001b[31m14.3 MB/s\u001b[0m eta \u001b[36m0:00:00\u001b[0ma \u001b[36m0:00:01\u001b[0m\n",
      "\u001b[?25hInstalling collected packages: pillow, kiwisolver, importlib-resources, fonttools, cycler, contourpy, matplotlib\n",
      "Successfully installed contourpy-1.2.0 cycler-0.12.1 fonttools-4.44.0 importlib-resources-6.1.1 kiwisolver-1.4.5 matplotlib-3.8.1 pillow-10.1.0\n"
     ]
    }
   ],
   "source": []
  },
  {
   "cell_type": "code",
   "execution_count": 1,
   "metadata": {},
   "outputs": [],
   "source": [
    "# General libraries\n",
    "import json\n",
    "from pathlib import Path as Data_Path\n",
    "import os\n",
    "from os.path import isfile, join\n",
    "import pickle\n",
    "import random\n",
    "\n",
    "import numpy as np\n",
    "import networkx as nx\n",
    "import pandas as pd\n",
    "from sklearn.metrics import f1_score, roc_auc_score\n",
    "import matplotlib.pyplot as plt\n",
    "%matplotlib inline\n",
    "\n",
    "from tqdm.notebook import tqdm"
   ]
  },
  {
   "cell_type": "code",
   "execution_count": 2,
   "metadata": {},
   "outputs": [
    {
     "name": "stderr",
     "output_type": "stream",
     "text": [
      "/Users/aidenchang/miniforge3/envs/ml_final/lib/python3.9/site-packages/tqdm/auto.py:21: TqdmWarning: IProgress not found. Please update jupyter and ipywidgets. See https://ipywidgets.readthedocs.io/en/stable/user_install.html\n",
      "  from .autonotebook import tqdm as notebook_tqdm\n"
     ]
    },
    {
     "name": "stdout",
     "output_type": "stream",
     "text": [
      "Torch version: 2.1.0; Torch-cuda version: None; Torch Geometric version: 2.4.0.\n"
     ]
    }
   ],
   "source": [
    "from typing import Optional, Union\n",
    "\n",
    "import torch\n",
    "from torch import Tensor\n",
    "import torch.nn as nn\n",
    "from torch.nn import Embedding, ModuleList, Linear\n",
    "import torch.nn.functional as F\n",
    "\n",
    "import torch_geometric\n",
    "import torch_geometric.nn as pyg_nn\n",
    "from torch_geometric.data import Data\n",
    "from torch_geometric.transforms import RandomLinkSplit\n",
    "from torch.nn.modules.loss import _Loss\n",
    "\n",
    "from torch_geometric.nn.conv import LGConv, GATConv, SAGEConv\n",
    "from torch_geometric.typing import Adj, OptTensor, SparseTensor\n",
    "\n",
    "\n",
    "print(f\"Torch version: {torch.__version__}; Torch-cuda version: {torch.version.cuda}; Torch Geometric version: {torch_geometric.__version__}.\")"
   ]
  },
  {
   "cell_type": "code",
   "execution_count": 3,
   "metadata": {},
   "outputs": [],
   "source": [
    "# set the seed for reproducibility\n",
    "seed = 224\n",
    "torch.manual_seed(seed)\n",
    "np.random.seed(seed)\n",
    "random.seed(seed)"
   ]
  },
  {
   "cell_type": "code",
   "execution_count": 4,
   "metadata": {},
   "outputs": [],
   "source": [
    "##Defining classes\n",
    "\n",
    "class Product:\n",
    "  def __init__(self, title, asin, description, also_bought, categories):\n",
    "    self.title = title #name, string\n",
    "    self.asin = asin #string\n",
    "    self.description = description #string\n",
    "    # self.features = features # String[]\n",
    "    self.also_bought = also_bought #asin[]\n",
    "    self.categories = set(categories) #categories[]\n",
    "\n",
    "\n",
    "  def __str__(self):\n",
    "    return f\"Product {self.title}\"\n",
    "\n",
    "class Category:\n",
    "  def __init__(self, name):\n",
    "    self.name = name\n",
    "    self.products = []\n",
    "\n",
    "  def add_to_category(self, product):\n",
    "    self.products.append(product)\n",
    "\n",
    "  def __str__(self):\n",
    "    return f\"Category {self.name} has {len(self.products)} in it.\"\n",
    "\n",
    "class User:\n",
    "  def __init__(self, reviewerID):\n",
    "    self.reviewerID = reviewerID\n",
    "    self.products_reviewed = []\n",
    "    #maybe we can add the categories that they reviewed?\n",
    "\n",
    "  def add_to_reviewed(self, product):\n",
    "    self.products_reviewed.append(product)\n",
    "\n",
    "  def __str__(self):\n",
    "    return f\"User {self.reviewerID} has reviewed {len(self.products_reviewed)} products\""
   ]
  },
  {
   "cell_type": "code",
   "execution_count": 5,
   "metadata": {},
   "outputs": [],
   "source": [
    "import pandas as pd\n",
    "import json\n",
    "\n",
    "# reviews = pd.read_csv(\"Gift_Cards.csv\")\n",
    "review_data = []\n",
    "review_name = 'Gift_Cards_5.json'\n",
    "with open(review_name, 'r') as file:\n",
    "    for line in file:\n",
    "      review_data.append(json.loads(line))\n",
    "file_metadata = []\n",
    "metadata_link = \"meta_Gift_Cards.json\"\n",
    "with open(metadata_link, 'r') as file:\n",
    "    for line in file:\n",
    "      file_metadata.append(json.loads(line))"
   ]
  },
  {
   "cell_type": "code",
   "execution_count": 35,
   "metadata": {},
   "outputs": [
    {
     "data": {
      "text/plain": [
       "{'overall': 4.0,\n",
       " 'verified': True,\n",
       " 'reviewTime': '06 14, 2018',\n",
       " 'reviewerID': 'A2MN5JQMIY0FQ2',\n",
       " 'asin': 'B004LLIKVU',\n",
       " 'style': {'Gift Amount:': ' 50'},\n",
       " 'reviewerName': 'Amazon Customer',\n",
       " 'reviewText': 'Gift card for my daughter',\n",
       " 'summary': 'Ease of use',\n",
       " 'unixReviewTime': 1528934400}"
      ]
     },
     "execution_count": 35,
     "metadata": {},
     "output_type": "execute_result"
    }
   ],
   "source": [
    "review_data[1]"
   ]
  },
  {
   "cell_type": "code",
   "execution_count": null,
   "metadata": {},
   "outputs": [],
   "source": []
  },
  {
   "cell_type": "code",
   "execution_count": 36,
   "metadata": {},
   "outputs": [],
   "source": [
    "products = {}\n",
    "all_categories = {}\n",
    "users = {}\n",
    "\n",
    "def process_review_data(review):\n",
    "  try:\n",
    "    userID = review['reviewerID']\n",
    "  except:\n",
    "    print(review)\n",
    "  if userID not in users:\n",
    "    new_user = User(userID)\n",
    "    users[userID] = new_user\n",
    "  rating = int(review['overall'])\n",
    "  users[userID].add_to_reviewed((review['asin'], rating))\n",
    "\n",
    "def process_metadata(metadata):\n",
    "  asin = metadata['asin']\n",
    "  # features = metadata['features']\n",
    "  also_bought = metadata['also_buy']\n",
    "  description = metadata['description']\n",
    "  categories = metadata['category']\n",
    "  title = metadata['title']\n",
    "  if asin not in products:\n",
    "    new_product = Product(title, asin, description, also_bought, categories)\n",
    "    products[asin] = new_product\n",
    "  for category in categories:\n",
    "    if category not in all_categories:\n",
    "      all_categories[category] = Category(category)\n",
    "    all_categories[category].add_to_category(asin)\n",
    "\n",
    "\n",
    "def load_data():\n",
    "  for line in review_data:\n",
    "    process_review_data(line)\n",
    "  for line in file_metadata:\n",
    "    process_metadata(line)\n"
   ]
  },
  {
   "cell_type": "code",
   "execution_count": 37,
   "metadata": {},
   "outputs": [],
   "source": [
    "load_data()"
   ]
  },
  {
   "cell_type": "code",
   "execution_count": 38,
   "metadata": {},
   "outputs": [
    {
     "name": "stdout",
     "output_type": "stream",
     "text": [
      "torch.Size([2, 2972])\n"
     ]
    }
   ],
   "source": [
    "import torch\n",
    "from torch_geometric.data import Data\n",
    "\n",
    "# Create instances of your classes\n",
    "# This is just a placeholder. Replace this with your actual data.\n",
    "# products = [...]\n",
    "# categories = [...]\n",
    "# users = [...]\n",
    "\n",
    "# Create mappings from unique IDs to consecutive integers\n",
    "unique_user_id = [user for user in users]\n",
    "unique_user_id = pd.DataFrame(data={\n",
    "   'userId': unique_user_id,\n",
    "   'mappedID': pd.RangeIndex(len(unique_user_id)),\n",
    "})\n",
    "\n",
    "unique_product_id = [product for product in products]\n",
    "unique_product_id = pd.DataFrame(data={\n",
    "   'productId': unique_product_id,\n",
    "   'mappedID': pd.RangeIndex(len(unique_product_id)),\n",
    "})\n",
    "\n",
    "unique_category_id = [category for category in all_categories]\n",
    "unique_category_id = pd.DataFrame(data={\n",
    "   'categoryId': unique_category_id,\n",
    "   'mappedID': pd.RangeIndex(len(unique_category_id)),\n",
    "})\n",
    "# print(unique_user_id)\n",
    "# Construct the edge indices\n",
    "# User to Product (Review)\n",
    "user_product_edges = []\n",
    "user_product_ratings = []\n",
    "for user_name in users:\n",
    "   user_object = users[user_name]\n",
    "   for product_id, rating in users[user_name].products_reviewed:\n",
    "      product = products[product_id]\n",
    "      user_product_edges.append([unique_user_id.loc[unique_user_id['userId'] == user_object.reviewerID, 'mappedID'].values[0],\n",
    "                              unique_product_id.loc[unique_product_id['productId'] == product.asin, 'mappedID'].values[0]])\n",
    "      user_product_ratings.append(rating)\n",
    "user_product_edges = torch.t(torch.tensor(user_product_edges, dtype=torch.long))\n",
    "user_product_ratings = torch.tensor(user_product_ratings, dtype=torch.float) \n",
    "# user_product_ratings = torch.reshape(user_product_ratings, (1, len(user_product_ratings)))\n",
    "\n",
    "print(user_product_edges.shape)\n",
    "\n",
    "# Product to Product (Also Bought)\n",
    "product_product_edges = []\n",
    "for product_id in products:\n",
    "   product = products[product_id]\n",
    "   for also_bought_product in products[product_id].also_bought:\n",
    "      #  print(also_bought_product)\n",
    " \n",
    "       if (unique_product_id['productId'] == also_bought_product).any():  \n",
    "         product_product_edges.append([unique_product_id.loc[unique_product_id['productId'] == product.asin, 'mappedID'].values[0],\n",
    "                                   unique_product_id.loc[unique_product_id['productId'] == also_bought_product, 'mappedID'].values[0]])\n",
    "# print(len(product_product_edges))\n",
    "product_product_edges = torch.t(torch.tensor(product_product_edges, dtype=torch.long))\n",
    "\n",
    "# Product to Category\n",
    "product_category_edges = []\n",
    "for product_id in products:\n",
    "   product = products[product_id]\n",
    "   for category in products[product_id].categories:\n",
    "       product_category_edges.append([unique_product_id.loc[unique_product_id['productId'] == product.asin, 'mappedID'].values[0],\n",
    "                                    unique_category_id.loc[unique_category_id['categoryId'] == category, 'mappedID'].values[0]])\n",
    "\n",
    "product_category_edges = torch.t(torch.tensor(product_category_edges, dtype=torch.long))"
   ]
  },
  {
   "cell_type": "code",
   "execution_count": 9,
   "metadata": {},
   "outputs": [
    {
     "name": "stdout",
     "output_type": "stream",
     "text": [
      "2 2 2\n"
     ]
    }
   ],
   "source": [
    "print(len(product_product_edges), len(product_category_edges), len(product_category_edges))\n",
    "\n"
   ]
  },
  {
   "cell_type": "code",
   "execution_count": 10,
   "metadata": {},
   "outputs": [],
   "source": [
    "from sentence_transformers import SentenceTransformer\n",
    "\n",
    "class TextEncoder:\n",
    "    \"\"\"\n",
    "    A class for encoding text using a SentenceTransformer model.\n",
    "    \"\"\"\n",
    "    def __init__(self, model='all-MiniLM-L6-v2', device=None):\n",
    "        \"\"\"\n",
    "        :param model: Name of the SentenceTransformer model to use.\n",
    "        :param device: Device to use for model inference. Default is None.\n",
    "        \"\"\"\n",
    "        self.device = device\n",
    "        self.model = SentenceTransformer(model, device=self.device)\n",
    "\n",
    "    @torch.no_grad()\n",
    "    def __call__(self, values: list):\n",
    "        \"\"\"\n",
    "        Encode a list of text values into embeddings.\n",
    "\n",
    "        :param values: List of text values to encode.\n",
    "        :return: Encoded embeddings as a PyTorch tensor.\n",
    "        \"\"\"\n",
    "        x = self.model.encode(values,\n",
    "                              show_progress_bar=True,\n",
    "                              convert_to_tensor=True,\n",
    "                              device=self.device)\n",
    "        return x.cpu()\n",
    "\n",
    "\n",
    "# Check if CUDA is available, and set the device accordingly\n",
    "device = 'cuda:0' if torch.cuda.is_available() else 'cpu'\n",
    "# Create an instance of the TextEncoder class with the determined device\n",
    "encoder = TextEncoder(device=device)"
   ]
  },
  {
   "cell_type": "code",
   "execution_count": 11,
   "metadata": {},
   "outputs": [
    {
     "name": "stderr",
     "output_type": "stream",
     "text": [
      "Batches:   0%|          | 0/1 [00:00<?, ?it/s]"
     ]
    },
    {
     "name": "stderr",
     "output_type": "stream",
     "text": [
      "Batches: 100%|██████████| 1/1 [00:00<00:00, 14.14it/s]"
     ]
    },
    {
     "name": "stdout",
     "output_type": "stream",
     "text": [
      "torch.Size([384])\n"
     ]
    },
    {
     "name": "stderr",
     "output_type": "stream",
     "text": [
      "\n"
     ]
    }
   ],
   "source": [
    "ex = \"I am aiden\"\n",
    "e = encoder(ex)\n",
    "print(e.shape)\n"
   ]
  },
  {
   "cell_type": "code",
   "execution_count": 12,
   "metadata": {},
   "outputs": [
    {
     "data": {
      "text/plain": [
       "['Gift card for the purchase of goods or services at Serendipity 3 in New York City only. Not valid for online purchases.',\n",
       " 'Statements regarding dietary supplements have not been evaluated by the FDA and are not intended to diagnose, treat, cure, or prevent any disease or health condition.']"
      ]
     },
     "execution_count": 12,
     "metadata": {},
     "output_type": "execute_result"
    }
   ],
   "source": [
    "products[list(products.keys())[0]].description"
   ]
  },
  {
   "cell_type": "code",
   "execution_count": 13,
   "metadata": {},
   "outputs": [
    {
     "name": "stderr",
     "output_type": "stream",
     "text": [
      "Batches: 100%|██████████| 1/1 [00:00<00:00, 73.94it/s]\n",
      "Batches: 100%|██████████| 1/1 [00:00<00:00, 75.45it/s]\n",
      "Batches: 100%|██████████| 1/1 [00:00<00:00, 27.67it/s]\n",
      "Batches: 100%|██████████| 1/1 [00:00<00:00, 30.31it/s]\n",
      "Batches: 100%|██████████| 1/1 [00:00<00:00, 119.13it/s]\n",
      "Batches: 100%|██████████| 1/1 [00:00<00:00, 124.98it/s]\n",
      "Batches: 100%|██████████| 1/1 [00:00<00:00, 134.16it/s]\n",
      "Batches: 100%|██████████| 1/1 [00:00<00:00, 23.99it/s]\n",
      "Batches: 100%|██████████| 1/1 [00:00<00:00, 103.65it/s]\n",
      "Batches: 100%|██████████| 1/1 [00:00<00:00, 140.94it/s]\n",
      "Batches: 100%|██████████| 1/1 [00:00<00:00, 91.52it/s]\n",
      "Batches: 100%|██████████| 1/1 [00:00<00:00, 79.26it/s]\n",
      "Batches: 100%|██████████| 1/1 [00:00<00:00, 118.34it/s]\n",
      "Batches: 100%|██████████| 1/1 [00:00<00:00, 76.50it/s]\n",
      "Batches: 100%|██████████| 1/1 [00:00<00:00, 56.45it/s]\n",
      "Batches: 100%|██████████| 1/1 [00:00<00:00, 93.68it/s]\n",
      "Batches: 100%|██████████| 1/1 [00:00<00:00, 99.26it/s]\n",
      "Batches: 100%|██████████| 1/1 [00:00<00:00, 99.82it/s]\n",
      "Batches: 100%|██████████| 1/1 [00:00<00:00, 82.01it/s]\n",
      "Batches: 100%|██████████| 1/1 [00:00<00:00, 79.84it/s]\n",
      "Batches: 100%|██████████| 1/1 [00:00<00:00, 72.53it/s]\n",
      "Batches: 100%|██████████| 1/1 [00:00<00:00, 80.15it/s]\n",
      "Batches: 100%|██████████| 1/1 [00:00<00:00, 99.39it/s]\n",
      "Batches: 100%|██████████| 1/1 [00:00<00:00, 56.57it/s]\n",
      "Batches: 100%|██████████| 1/1 [00:00<00:00, 92.57it/s]\n",
      "Batches: 100%|██████████| 1/1 [00:00<00:00, 98.63it/s]\n",
      "Batches: 100%|██████████| 1/1 [00:00<00:00, 99.39it/s]\n",
      "Batches: 100%|██████████| 1/1 [00:00<00:00, 96.43it/s]\n",
      "Batches: 100%|██████████| 1/1 [00:00<00:00, 64.78it/s]\n",
      "Batches: 100%|██████████| 1/1 [00:00<00:00, 86.69it/s]\n",
      "Batches: 100%|██████████| 1/1 [00:00<00:00, 85.05it/s]\n",
      "Batches: 100%|██████████| 1/1 [00:00<00:00, 147.38it/s]\n",
      "Batches: 100%|██████████| 1/1 [00:00<00:00, 97.54it/s]\n",
      "Batches: 100%|██████████| 1/1 [00:00<00:00, 83.45it/s]\n",
      "Batches: 100%|██████████| 1/1 [00:00<00:00, 34.82it/s]\n",
      "Batches: 100%|██████████| 1/1 [00:00<00:00, 75.60it/s]\n",
      "Batches: 100%|██████████| 1/1 [00:00<00:00, 89.87it/s]\n",
      "Batches: 100%|██████████| 1/1 [00:00<00:00, 125.79it/s]\n",
      "Batches: 100%|██████████| 1/1 [00:00<00:00, 65.03it/s]\n",
      "Batches: 100%|██████████| 1/1 [00:00<00:00, 74.13it/s]\n",
      "Batches: 100%|██████████| 1/1 [00:00<00:00, 139.67it/s]\n",
      "Batches: 100%|██████████| 1/1 [00:00<00:00, 138.68it/s]\n",
      "Batches: 100%|██████████| 1/1 [00:00<00:00, 131.76it/s]\n",
      "Batches: 100%|██████████| 1/1 [00:00<00:00, 96.53it/s]\n",
      "Batches: 100%|██████████| 1/1 [00:00<00:00, 34.83it/s]\n",
      "Batches: 100%|██████████| 1/1 [00:00<00:00, 73.64it/s]\n",
      "Batches: 100%|██████████| 1/1 [00:00<00:00, 112.64it/s]\n",
      "Batches: 100%|██████████| 1/1 [00:00<00:00, 136.28it/s]\n",
      "Batches: 100%|██████████| 1/1 [00:00<00:00, 132.38it/s]\n",
      "Batches: 100%|██████████| 1/1 [00:00<00:00, 110.76it/s]\n",
      "Batches: 100%|██████████| 1/1 [00:00<00:00, 141.86it/s]\n",
      "Batches: 100%|██████████| 1/1 [00:00<00:00, 27.77it/s]\n",
      "Batches: 100%|██████████| 1/1 [00:00<00:00, 131.98it/s]\n",
      "Batches: 100%|██████████| 1/1 [00:00<00:00, 105.92it/s]\n",
      "Batches: 100%|██████████| 1/1 [00:00<00:00, 139.49it/s]\n",
      "Batches: 100%|██████████| 1/1 [00:00<00:00, 135.72it/s]\n",
      "Batches: 100%|██████████| 1/1 [00:00<00:00, 133.25it/s]\n",
      "Batches: 100%|██████████| 1/1 [00:00<00:00, 137.59it/s]\n",
      "Batches: 100%|██████████| 1/1 [00:00<00:00, 124.18it/s]\n",
      "Batches: 100%|██████████| 1/1 [00:00<00:00, 126.55it/s]\n",
      "Batches: 100%|██████████| 1/1 [00:00<00:00, 82.84it/s]\n",
      "Batches: 100%|██████████| 1/1 [00:00<00:00, 57.37it/s]\n",
      "Batches: 100%|██████████| 1/1 [00:00<00:00, 82.51it/s]\n",
      "Batches: 100%|██████████| 1/1 [00:00<00:00, 110.00it/s]\n",
      "Batches: 100%|██████████| 1/1 [00:00<00:00, 110.95it/s]\n",
      "Batches: 100%|██████████| 1/1 [00:00<00:00, 117.19it/s]\n",
      "Batches: 100%|██████████| 1/1 [00:00<00:00, 137.05it/s]\n",
      "Batches: 100%|██████████| 1/1 [00:00<00:00, 133.92it/s]\n",
      "Batches: 100%|██████████| 1/1 [00:00<00:00, 140.00it/s]\n",
      "Batches: 100%|██████████| 1/1 [00:00<00:00, 138.03it/s]\n",
      "Batches: 100%|██████████| 1/1 [00:00<00:00, 141.84it/s]\n",
      "Batches: 100%|██████████| 1/1 [00:00<00:00, 131.13it/s]\n",
      "Batches: 100%|██████████| 1/1 [00:00<00:00, 141.26it/s]\n",
      "Batches: 100%|██████████| 1/1 [00:00<00:00, 131.61it/s]\n",
      "Batches: 100%|██████████| 1/1 [00:00<00:00, 128.88it/s]\n",
      "Batches: 100%|██████████| 1/1 [00:00<00:00, 132.45it/s]\n",
      "Batches: 100%|██████████| 1/1 [00:00<00:00, 143.78it/s]\n",
      "Batches: 100%|██████████| 1/1 [00:00<00:00, 140.55it/s]\n",
      "Batches: 100%|██████████| 1/1 [00:00<00:00, 133.42it/s]\n",
      "Batches: 100%|██████████| 1/1 [00:00<00:00, 132.33it/s]\n",
      "Batches: 100%|██████████| 1/1 [00:00<00:00, 139.64it/s]\n",
      "Batches: 100%|██████████| 1/1 [00:00<00:00, 147.08it/s]\n",
      "Batches: 100%|██████████| 1/1 [00:00<00:00, 137.59it/s]\n",
      "Batches: 100%|██████████| 1/1 [00:00<00:00, 139.12it/s]\n",
      "Batches: 100%|██████████| 1/1 [00:00<00:00, 142.51it/s]\n",
      "Batches: 100%|██████████| 1/1 [00:00<00:00, 147.52it/s]\n",
      "Batches: 100%|██████████| 1/1 [00:00<00:00, 132.15it/s]\n",
      "Batches: 100%|██████████| 1/1 [00:00<00:00, 148.35it/s]\n",
      "Batches: 100%|██████████| 1/1 [00:00<00:00, 136.44it/s]\n",
      "Batches: 100%|██████████| 1/1 [00:00<00:00, 127.10it/s]\n",
      "Batches: 100%|██████████| 1/1 [00:00<00:00, 131.33it/s]\n",
      "Batches: 100%|██████████| 1/1 [00:00<00:00, 130.81it/s]\n",
      "Batches: 100%|██████████| 1/1 [00:00<00:00, 126.39it/s]\n",
      "Batches: 100%|██████████| 1/1 [00:00<00:00, 123.20it/s]\n",
      "Batches: 100%|██████████| 1/1 [00:00<00:00, 124.62it/s]\n",
      "Batches: 100%|██████████| 1/1 [00:00<00:00, 130.67it/s]\n",
      "Batches: 100%|██████████| 1/1 [00:00<00:00, 138.25it/s]\n",
      "Batches: 100%|██████████| 1/1 [00:00<00:00, 124.49it/s]\n",
      "Batches: 100%|██████████| 1/1 [00:00<00:00, 144.97it/s]\n",
      "Batches: 100%|██████████| 1/1 [00:00<00:00, 106.77it/s]\n",
      "Batches: 100%|██████████| 1/1 [00:00<00:00, 133.46it/s]\n",
      "Batches: 100%|██████████| 1/1 [00:00<00:00, 126.34it/s]\n",
      "Batches: 100%|██████████| 1/1 [00:00<00:00, 95.26it/s]\n",
      "Batches: 100%|██████████| 1/1 [00:00<00:00, 100.98it/s]\n",
      "Batches: 100%|██████████| 1/1 [00:00<00:00, 104.02it/s]\n",
      "Batches: 100%|██████████| 1/1 [00:00<00:00, 117.92it/s]\n",
      "Batches: 100%|██████████| 1/1 [00:00<00:00, 127.81it/s]\n",
      "Batches: 100%|██████████| 1/1 [00:00<00:00, 128.27it/s]\n",
      "Batches: 100%|██████████| 1/1 [00:00<00:00, 145.84it/s]\n",
      "Batches: 100%|██████████| 1/1 [00:00<00:00, 144.63it/s]\n",
      "Batches: 100%|██████████| 1/1 [00:00<00:00, 137.24it/s]\n",
      "Batches: 100%|██████████| 1/1 [00:00<00:00, 138.28it/s]\n",
      "Batches: 100%|██████████| 1/1 [00:00<00:00, 138.80it/s]\n",
      "Batches: 100%|██████████| 1/1 [00:00<00:00, 137.92it/s]\n",
      "Batches: 100%|██████████| 1/1 [00:00<00:00, 130.14it/s]\n",
      "Batches: 100%|██████████| 1/1 [00:00<00:00, 136.72it/s]\n",
      "Batches: 100%|██████████| 1/1 [00:00<00:00, 120.80it/s]\n",
      "Batches: 100%|██████████| 1/1 [00:00<00:00, 126.82it/s]\n",
      "Batches: 100%|██████████| 1/1 [00:00<00:00, 128.97it/s]\n",
      "Batches: 100%|██████████| 1/1 [00:00<00:00, 135.46it/s]\n",
      "Batches: 100%|██████████| 1/1 [00:00<00:00, 129.38it/s]\n",
      "Batches: 100%|██████████| 1/1 [00:00<00:00, 148.87it/s]\n",
      "Batches: 100%|██████████| 1/1 [00:00<00:00, 134.48it/s]\n",
      "Batches: 100%|██████████| 1/1 [00:00<00:00, 135.70it/s]\n",
      "Batches: 100%|██████████| 1/1 [00:00<00:00, 131.05it/s]\n",
      "Batches: 100%|██████████| 1/1 [00:00<00:00, 135.34it/s]\n",
      "Batches: 100%|██████████| 1/1 [00:00<00:00, 134.70it/s]\n",
      "Batches: 100%|██████████| 1/1 [00:00<00:00, 148.77it/s]\n",
      "Batches: 100%|██████████| 1/1 [00:00<00:00, 131.72it/s]\n",
      "Batches: 100%|██████████| 1/1 [00:00<00:00, 141.04it/s]\n",
      "Batches: 100%|██████████| 1/1 [00:00<00:00, 123.15it/s]\n",
      "Batches: 100%|██████████| 1/1 [00:00<00:00, 137.59it/s]\n",
      "Batches: 100%|██████████| 1/1 [00:00<00:00, 128.27it/s]\n",
      "Batches: 100%|██████████| 1/1 [00:00<00:00, 134.34it/s]\n",
      "Batches: 100%|██████████| 1/1 [00:00<00:00, 136.26it/s]\n",
      "Batches: 100%|██████████| 1/1 [00:00<00:00, 129.60it/s]\n",
      "Batches: 100%|██████████| 1/1 [00:00<00:00, 130.48it/s]\n",
      "Batches: 100%|██████████| 1/1 [00:00<00:00, 146.01it/s]\n",
      "Batches: 100%|██████████| 1/1 [00:00<00:00, 139.12it/s]\n",
      "Batches: 100%|██████████| 1/1 [00:00<00:00, 144.47it/s]\n",
      "Batches: 100%|██████████| 1/1 [00:00<00:00, 129.75it/s]\n",
      "Batches: 100%|██████████| 1/1 [00:00<00:00, 130.73it/s]\n",
      "Batches: 100%|██████████| 1/1 [00:00<00:00, 135.44it/s]\n",
      "Batches: 100%|██████████| 1/1 [00:00<00:00, 130.86it/s]\n",
      "Batches: 100%|██████████| 1/1 [00:00<00:00, 114.31it/s]\n",
      "Batches: 100%|██████████| 1/1 [00:00<00:00, 106.70it/s]\n",
      "Batches: 100%|██████████| 1/1 [00:00<00:00, 97.09it/s]\n",
      "Batches: 100%|██████████| 1/1 [00:00<00:00, 107.12it/s]\n",
      "Batches: 100%|██████████| 1/1 [00:00<00:00, 127.89it/s]\n",
      "Batches: 100%|██████████| 1/1 [00:00<00:00, 128.20it/s]\n",
      "Batches: 100%|██████████| 1/1 [00:00<00:00, 126.01it/s]\n",
      "Batches: 100%|██████████| 1/1 [00:00<00:00, 131.75it/s]\n",
      "Batches: 100%|██████████| 1/1 [00:00<00:00, 29.07it/s]\n",
      "Batches: 100%|██████████| 1/1 [00:00<00:00, 98.82it/s]\n",
      "Batches: 100%|██████████| 1/1 [00:00<00:00, 59.11it/s]\n",
      "Batches: 100%|██████████| 1/1 [00:00<00:00, 119.36it/s]\n",
      "Batches: 100%|██████████| 1/1 [00:00<00:00, 129.70it/s]\n",
      "Batches: 100%|██████████| 1/1 [00:00<00:00, 125.09it/s]\n",
      "Batches: 100%|██████████| 1/1 [00:00<00:00, 123.35it/s]\n",
      "Batches: 100%|██████████| 1/1 [00:00<00:00, 130.71it/s]\n",
      "Batches: 100%|██████████| 1/1 [00:00<00:00, 130.91it/s]\n",
      "Batches: 100%|██████████| 1/1 [00:00<00:00, 137.10it/s]\n",
      "Batches: 100%|██████████| 1/1 [00:00<00:00, 144.62it/s]\n",
      "Batches: 100%|██████████| 1/1 [00:00<00:00, 144.93it/s]\n",
      "Batches: 100%|██████████| 1/1 [00:00<00:00, 126.78it/s]\n",
      "Batches: 100%|██████████| 1/1 [00:00<00:00, 129.31it/s]\n",
      "Batches: 100%|██████████| 1/1 [00:00<00:00, 126.43it/s]\n",
      "Batches: 100%|██████████| 1/1 [00:00<00:00, 127.72it/s]\n",
      "Batches: 100%|██████████| 1/1 [00:00<00:00, 120.43it/s]\n",
      "Batches: 100%|██████████| 1/1 [00:00<00:00, 121.04it/s]\n",
      "Batches: 100%|██████████| 1/1 [00:00<00:00, 125.26it/s]\n",
      "Batches: 100%|██████████| 1/1 [00:00<00:00, 129.52it/s]\n",
      "Batches: 100%|██████████| 1/1 [00:00<00:00, 123.70it/s]\n",
      "Batches: 100%|██████████| 1/1 [00:00<00:00, 126.80it/s]\n",
      "Batches: 100%|██████████| 1/1 [00:00<00:00, 139.97it/s]\n",
      "Batches: 100%|██████████| 1/1 [00:00<00:00, 122.50it/s]\n",
      "Batches: 100%|██████████| 1/1 [00:00<00:00, 117.00it/s]\n",
      "Batches: 100%|██████████| 1/1 [00:00<00:00, 136.56it/s]\n",
      "Batches: 100%|██████████| 1/1 [00:00<00:00, 117.78it/s]\n",
      "Batches: 100%|██████████| 1/1 [00:00<00:00, 122.56it/s]\n",
      "Batches: 100%|██████████| 1/1 [00:00<00:00, 124.97it/s]\n",
      "Batches: 100%|██████████| 1/1 [00:00<00:00, 130.52it/s]\n",
      "Batches: 100%|██████████| 1/1 [00:00<00:00, 129.80it/s]\n",
      "Batches: 100%|██████████| 1/1 [00:00<00:00, 120.06it/s]\n",
      "Batches: 100%|██████████| 1/1 [00:00<00:00, 111.76it/s]\n",
      "Batches: 100%|██████████| 1/1 [00:00<00:00, 136.13it/s]\n",
      "Batches: 100%|██████████| 1/1 [00:00<00:00, 133.62it/s]\n",
      "Batches: 100%|██████████| 1/1 [00:00<00:00, 109.85it/s]\n",
      "Batches: 100%|██████████| 1/1 [00:00<00:00, 128.04it/s]\n",
      "Batches: 100%|██████████| 1/1 [00:00<00:00, 97.40it/s]\n",
      "Batches: 100%|██████████| 1/1 [00:00<00:00, 85.88it/s]\n",
      "Batches: 100%|██████████| 1/1 [00:00<00:00, 100.99it/s]\n",
      "Batches: 100%|██████████| 1/1 [00:00<00:00, 101.72it/s]\n",
      "Batches: 100%|██████████| 1/1 [00:00<00:00, 119.33it/s]\n",
      "Batches: 100%|██████████| 1/1 [00:00<00:00, 67.52it/s]\n",
      "Batches: 100%|██████████| 1/1 [00:00<00:00, 144.76it/s]\n",
      "Batches: 100%|██████████| 1/1 [00:00<00:00, 115.56it/s]\n",
      "Batches: 100%|██████████| 1/1 [00:00<00:00, 120.15it/s]\n",
      "Batches: 100%|██████████| 1/1 [00:00<00:00, 115.22it/s]\n",
      "Batches: 100%|██████████| 1/1 [00:00<00:00, 122.18it/s]\n",
      "Batches: 100%|██████████| 1/1 [00:00<00:00, 123.74it/s]\n",
      "Batches: 100%|██████████| 1/1 [00:00<00:00, 122.72it/s]\n",
      "Batches: 100%|██████████| 1/1 [00:00<00:00, 114.84it/s]\n",
      "Batches: 100%|██████████| 1/1 [00:00<00:00, 129.75it/s]\n",
      "Batches: 100%|██████████| 1/1 [00:00<00:00, 129.27it/s]\n",
      "Batches: 100%|██████████| 1/1 [00:00<00:00, 125.58it/s]\n",
      "Batches: 100%|██████████| 1/1 [00:00<00:00, 121.26it/s]\n",
      "Batches: 100%|██████████| 1/1 [00:00<00:00, 123.54it/s]\n",
      "Batches: 100%|██████████| 1/1 [00:00<00:00, 114.00it/s]\n",
      "Batches: 100%|██████████| 1/1 [00:00<00:00, 93.89it/s]\n",
      "Batches: 100%|██████████| 1/1 [00:00<00:00, 94.18it/s]\n",
      "Batches: 100%|██████████| 1/1 [00:00<00:00, 88.33it/s]\n",
      "Batches: 100%|██████████| 1/1 [00:00<00:00, 88.39it/s]\n",
      "Batches: 100%|██████████| 1/1 [00:00<00:00, 91.69it/s]\n",
      "Batches: 100%|██████████| 1/1 [00:00<00:00, 21.20it/s]\n",
      "Batches: 100%|██████████| 1/1 [00:00<00:00, 137.25it/s]\n",
      "Batches: 100%|██████████| 1/1 [00:00<00:00, 91.65it/s]\n",
      "Batches: 100%|██████████| 1/1 [00:00<00:00, 44.74it/s]\n",
      "Batches: 100%|██████████| 1/1 [00:00<00:00, 128.30it/s]\n",
      "Batches: 100%|██████████| 1/1 [00:00<00:00, 28.65it/s]\n",
      "Batches: 100%|██████████| 1/1 [00:00<00:00, 123.06it/s]\n",
      "Batches: 100%|██████████| 1/1 [00:00<00:00, 96.42it/s]\n",
      "Batches: 100%|██████████| 1/1 [00:00<00:00, 110.19it/s]\n",
      "Batches: 100%|██████████| 1/1 [00:00<00:00, 120.72it/s]\n",
      "Batches: 100%|██████████| 1/1 [00:00<00:00, 126.77it/s]\n",
      "Batches: 100%|██████████| 1/1 [00:00<00:00, 125.80it/s]\n",
      "Batches: 100%|██████████| 1/1 [00:00<00:00, 133.53it/s]\n",
      "Batches: 100%|██████████| 1/1 [00:00<00:00, 130.17it/s]\n",
      "Batches: 100%|██████████| 1/1 [00:00<00:00, 141.16it/s]\n",
      "Batches: 100%|██████████| 1/1 [00:00<00:00, 122.54it/s]\n",
      "Batches: 100%|██████████| 1/1 [00:00<00:00, 127.55it/s]\n",
      "Batches: 100%|██████████| 1/1 [00:00<00:00, 80.74it/s]\n",
      "Batches: 100%|██████████| 1/1 [00:00<00:00, 83.86it/s]\n",
      "Batches: 100%|██████████| 1/1 [00:00<00:00, 96.04it/s]\n",
      "Batches: 100%|██████████| 1/1 [00:00<00:00, 77.21it/s]\n",
      "Batches: 100%|██████████| 1/1 [00:00<00:00, 95.13it/s]\n",
      "Batches: 100%|██████████| 1/1 [00:00<00:00, 91.78it/s]\n",
      "Batches: 100%|██████████| 1/1 [00:00<00:00, 79.24it/s]\n",
      "Batches: 100%|██████████| 1/1 [00:00<00:00, 78.63it/s]\n",
      "Batches: 100%|██████████| 1/1 [00:00<00:00, 63.06it/s]\n",
      "Batches: 100%|██████████| 1/1 [00:00<00:00, 139.28it/s]\n",
      "Batches: 100%|██████████| 1/1 [00:00<00:00, 95.00it/s]\n",
      "Batches: 100%|██████████| 1/1 [00:00<00:00, 139.53it/s]\n",
      "Batches: 100%|██████████| 1/1 [00:00<00:00, 33.81it/s]\n",
      "Batches: 100%|██████████| 1/1 [00:00<00:00, 34.50it/s]\n",
      "Batches: 100%|██████████| 1/1 [00:00<00:00, 124.92it/s]\n",
      "Batches: 100%|██████████| 1/1 [00:00<00:00, 121.97it/s]\n",
      "Batches: 100%|██████████| 1/1 [00:00<00:00, 33.48it/s]\n",
      "Batches: 100%|██████████| 1/1 [00:00<00:00, 120.63it/s]\n",
      "Batches: 100%|██████████| 1/1 [00:00<00:00, 103.56it/s]\n",
      "Batches: 100%|██████████| 1/1 [00:00<00:00, 28.80it/s]\n",
      "Batches: 100%|██████████| 1/1 [00:00<00:00, 117.65it/s]\n",
      "Batches: 100%|██████████| 1/1 [00:00<00:00, 44.22it/s]\n",
      "Batches: 100%|██████████| 1/1 [00:00<00:00, 39.01it/s]\n",
      "Batches: 100%|██████████| 1/1 [00:00<00:00, 60.34it/s]\n",
      "Batches: 100%|██████████| 1/1 [00:00<00:00, 51.04it/s]\n",
      "Batches: 100%|██████████| 1/1 [00:00<00:00, 22.09it/s]\n",
      "Batches: 100%|██████████| 1/1 [00:00<00:00, 99.59it/s]\n",
      "Batches: 100%|██████████| 1/1 [00:00<00:00, 131.75it/s]\n",
      "Batches: 100%|██████████| 1/1 [00:00<00:00, 31.32it/s]\n",
      "Batches: 100%|██████████| 1/1 [00:00<00:00, 119.56it/s]\n",
      "Batches: 100%|██████████| 1/1 [00:00<00:00, 129.98it/s]\n",
      "Batches: 100%|██████████| 1/1 [00:00<00:00, 121.78it/s]\n",
      "Batches: 100%|██████████| 1/1 [00:00<00:00, 124.49it/s]\n",
      "Batches: 100%|██████████| 1/1 [00:00<00:00, 126.42it/s]\n",
      "Batches: 100%|██████████| 1/1 [00:00<00:00, 112.86it/s]\n",
      "Batches: 100%|██████████| 1/1 [00:00<00:00, 120.91it/s]\n",
      "Batches: 100%|██████████| 1/1 [00:00<00:00, 80.33it/s]\n",
      "Batches: 100%|██████████| 1/1 [00:00<00:00, 21.08it/s]\n",
      "Batches: 100%|██████████| 1/1 [00:00<00:00, 97.81it/s]\n",
      "Batches: 100%|██████████| 1/1 [00:00<00:00, 79.56it/s]\n",
      "Batches: 100%|██████████| 1/1 [00:00<00:00, 147.78it/s]\n",
      "Batches: 100%|██████████| 1/1 [00:00<00:00, 105.84it/s]\n",
      "Batches: 100%|██████████| 1/1 [00:00<00:00, 60.82it/s]\n",
      "Batches: 100%|██████████| 1/1 [00:00<00:00, 77.66it/s]\n",
      "Batches: 100%|██████████| 1/1 [00:00<00:00, 74.93it/s]\n",
      "Batches: 100%|██████████| 1/1 [00:00<00:00, 77.34it/s]\n",
      "Batches: 100%|██████████| 1/1 [00:00<00:00, 86.65it/s]\n",
      "Batches: 100%|██████████| 1/1 [00:00<00:00, 82.17it/s]\n",
      "Batches: 100%|██████████| 1/1 [00:00<00:00, 67.34it/s]\n",
      "Batches: 100%|██████████| 1/1 [00:00<00:00, 91.00it/s]\n",
      "Batches: 100%|██████████| 1/1 [00:00<00:00, 63.69it/s]\n",
      "Batches: 100%|██████████| 1/1 [00:00<00:00, 80.48it/s]\n",
      "Batches: 100%|██████████| 1/1 [00:00<00:00, 91.72it/s]\n",
      "Batches: 100%|██████████| 1/1 [00:00<00:00, 94.29it/s]\n",
      "Batches: 100%|██████████| 1/1 [00:00<00:00, 90.85it/s]\n",
      "Batches: 100%|██████████| 1/1 [00:00<00:00, 90.17it/s]\n",
      "Batches: 100%|██████████| 1/1 [00:00<00:00, 92.22it/s]\n",
      "Batches: 100%|██████████| 1/1 [00:00<00:00, 63.77it/s]\n",
      "Batches: 100%|██████████| 1/1 [00:00<00:00, 66.41it/s]\n",
      "Batches: 100%|██████████| 1/1 [00:00<00:00, 77.74it/s]\n",
      "Batches: 100%|██████████| 1/1 [00:00<00:00, 79.58it/s]\n",
      "Batches: 100%|██████████| 1/1 [00:00<00:00, 75.74it/s]\n",
      "Batches: 100%|██████████| 1/1 [00:00<00:00, 132.70it/s]\n",
      "Batches: 100%|██████████| 1/1 [00:00<00:00, 139.65it/s]\n",
      "Batches: 100%|██████████| 1/1 [00:00<00:00, 127.96it/s]\n",
      "Batches: 100%|██████████| 1/1 [00:00<00:00, 123.82it/s]\n",
      "Batches: 100%|██████████| 1/1 [00:00<00:00, 128.30it/s]\n",
      "Batches: 100%|██████████| 1/1 [00:00<00:00, 72.34it/s]\n",
      "Batches: 100%|██████████| 1/1 [00:00<00:00, 122.31it/s]\n",
      "Batches: 100%|██████████| 1/1 [00:00<00:00, 56.44it/s]\n",
      "Batches: 100%|██████████| 1/1 [00:00<00:00, 90.24it/s]\n",
      "Batches: 100%|██████████| 1/1 [00:00<00:00, 89.18it/s]\n",
      "Batches: 100%|██████████| 1/1 [00:00<00:00, 85.22it/s]\n",
      "Batches: 100%|██████████| 1/1 [00:00<00:00, 71.82it/s]\n",
      "Batches: 100%|██████████| 1/1 [00:00<00:00, 64.16it/s]\n",
      "Batches: 100%|██████████| 1/1 [00:00<00:00, 77.68it/s]\n",
      "Batches: 100%|██████████| 1/1 [00:00<00:00, 76.65it/s]\n",
      "Batches: 100%|██████████| 1/1 [00:00<00:00, 75.87it/s]\n",
      "Batches: 100%|██████████| 1/1 [00:00<00:00, 73.23it/s]\n",
      "Batches: 100%|██████████| 1/1 [00:00<00:00, 94.71it/s]\n",
      "Batches: 100%|██████████| 1/1 [00:00<00:00, 72.88it/s]\n",
      "Batches: 100%|██████████| 1/1 [00:00<00:00, 29.24it/s]\n",
      "Batches: 100%|██████████| 1/1 [00:00<00:00, 61.34it/s]\n",
      "Batches: 100%|██████████| 1/1 [00:00<00:00, 62.17it/s]\n",
      "Batches: 100%|██████████| 1/1 [00:00<00:00, 71.67it/s]\n",
      "Batches: 100%|██████████| 1/1 [00:00<00:00, 60.63it/s]\n",
      "Batches: 100%|██████████| 1/1 [00:00<00:00, 86.41it/s]\n",
      "Batches: 100%|██████████| 1/1 [00:00<00:00, 94.00it/s]\n",
      "Batches: 100%|██████████| 1/1 [00:00<00:00, 92.99it/s]\n",
      "Batches: 100%|██████████| 1/1 [00:00<00:00, 84.37it/s]\n",
      "Batches: 100%|██████████| 1/1 [00:00<00:00, 78.05it/s]\n",
      "Batches: 100%|██████████| 1/1 [00:00<00:00, 71.08it/s]\n",
      "Batches: 100%|██████████| 1/1 [00:00<00:00, 16.88it/s]\n",
      "Batches: 100%|██████████| 1/1 [00:00<00:00, 28.86it/s]\n",
      "Batches: 100%|██████████| 1/1 [00:00<00:00, 29.65it/s]\n",
      "Batches: 100%|██████████| 1/1 [00:00<00:00, 65.00it/s]\n",
      "Batches: 100%|██████████| 1/1 [00:00<00:00, 57.09it/s]\n",
      "Batches: 100%|██████████| 1/1 [00:00<00:00, 52.33it/s]\n",
      "Batches: 100%|██████████| 1/1 [00:00<00:00, 20.65it/s]\n",
      "Batches: 100%|██████████| 1/1 [00:00<00:00, 71.71it/s]\n",
      "Batches: 100%|██████████| 1/1 [00:00<00:00, 73.35it/s]\n",
      "Batches: 100%|██████████| 1/1 [00:00<00:00, 110.29it/s]\n",
      "Batches: 100%|██████████| 1/1 [00:00<00:00, 98.68it/s]\n",
      "Batches: 100%|██████████| 1/1 [00:00<00:00, 106.53it/s]\n",
      "Batches: 100%|██████████| 1/1 [00:00<00:00, 109.72it/s]\n",
      "Batches: 100%|██████████| 1/1 [00:00<00:00, 57.20it/s]\n",
      "Batches: 100%|██████████| 1/1 [00:00<00:00, 63.24it/s]\n",
      "Batches: 100%|██████████| 1/1 [00:00<00:00, 119.40it/s]\n",
      "Batches: 100%|██████████| 1/1 [00:00<00:00, 111.49it/s]\n",
      "Batches: 100%|██████████| 1/1 [00:00<00:00, 90.62it/s]\n",
      "Batches: 100%|██████████| 1/1 [00:00<00:00, 111.00it/s]\n",
      "Batches: 100%|██████████| 1/1 [00:00<00:00, 111.31it/s]\n",
      "Batches: 100%|██████████| 1/1 [00:00<00:00, 91.06it/s]\n",
      "Batches: 100%|██████████| 1/1 [00:00<00:00, 57.04it/s]\n",
      "Batches: 100%|██████████| 1/1 [00:00<00:00, 85.62it/s]\n",
      "Batches: 100%|██████████| 1/1 [00:00<00:00, 133.76it/s]\n",
      "Batches: 100%|██████████| 1/1 [00:00<00:00, 123.77it/s]\n",
      "Batches: 100%|██████████| 1/1 [00:00<00:00, 122.88it/s]\n",
      "Batches: 100%|██████████| 1/1 [00:00<00:00, 126.24it/s]\n",
      "Batches: 100%|██████████| 1/1 [00:00<00:00, 121.64it/s]\n",
      "Batches: 100%|██████████| 1/1 [00:00<00:00, 118.82it/s]\n",
      "Batches: 100%|██████████| 1/1 [00:00<00:00, 92.56it/s]\n",
      "Batches: 100%|██████████| 1/1 [00:00<00:00, 134.75it/s]\n",
      "Batches: 100%|██████████| 1/1 [00:00<00:00, 78.19it/s]\n",
      "Batches: 100%|██████████| 1/1 [00:00<00:00, 134.40it/s]\n",
      "Batches: 100%|██████████| 1/1 [00:00<00:00, 136.32it/s]\n",
      "Batches: 100%|██████████| 1/1 [00:00<00:00, 124.67it/s]\n",
      "Batches: 100%|██████████| 1/1 [00:00<00:00, 76.00it/s]\n",
      "Batches: 100%|██████████| 1/1 [00:00<00:00, 94.11it/s]\n",
      "Batches: 100%|██████████| 1/1 [00:00<00:00, 48.18it/s]\n",
      "Batches: 100%|██████████| 1/1 [00:00<00:00, 76.83it/s]\n",
      "Batches: 100%|██████████| 1/1 [00:00<00:00, 99.57it/s]\n",
      "Batches: 100%|██████████| 1/1 [00:00<00:00, 115.49it/s]\n",
      "Batches: 100%|██████████| 1/1 [00:00<00:00, 111.09it/s]\n",
      "Batches: 100%|██████████| 1/1 [00:00<00:00, 106.59it/s]\n",
      "Batches: 100%|██████████| 1/1 [00:00<00:00, 120.15it/s]\n",
      "Batches: 100%|██████████| 1/1 [00:00<00:00, 34.10it/s]\n",
      "Batches: 100%|██████████| 1/1 [00:00<00:00, 112.71it/s]\n",
      "Batches: 100%|██████████| 1/1 [00:00<00:00, 93.32it/s]\n",
      "Batches: 100%|██████████| 1/1 [00:00<00:00, 127.29it/s]\n",
      "Batches: 100%|██████████| 1/1 [00:00<00:00, 100.46it/s]\n",
      "Batches: 100%|██████████| 1/1 [00:00<00:00, 27.07it/s]\n",
      "Batches: 100%|██████████| 1/1 [00:00<00:00, 94.79it/s]\n",
      "Batches: 100%|██████████| 1/1 [00:00<00:00, 120.86it/s]\n",
      "Batches: 100%|██████████| 1/1 [00:00<00:00, 135.94it/s]\n",
      "Batches: 100%|██████████| 1/1 [00:00<00:00, 122.57it/s]\n",
      "Batches: 100%|██████████| 1/1 [00:00<00:00, 125.19it/s]\n",
      "Batches: 100%|██████████| 1/1 [00:00<00:00, 13.51it/s]\n",
      "Batches: 100%|██████████| 1/1 [00:00<00:00, 99.55it/s]\n",
      "Batches: 100%|██████████| 1/1 [00:00<00:00, 93.09it/s]\n",
      "Batches: 100%|██████████| 1/1 [00:00<00:00, 94.81it/s]\n",
      "Batches: 100%|██████████| 1/1 [00:00<00:00, 118.99it/s]\n",
      "Batches: 100%|██████████| 1/1 [00:00<00:00, 61.61it/s]\n",
      "Batches: 100%|██████████| 1/1 [00:00<00:00, 110.27it/s]\n",
      "Batches: 100%|██████████| 1/1 [00:00<00:00, 113.19it/s]\n",
      "Batches: 100%|██████████| 1/1 [00:00<00:00, 72.05it/s]\n",
      "Batches: 100%|██████████| 1/1 [00:00<00:00, 85.87it/s]\n",
      "Batches: 100%|██████████| 1/1 [00:00<00:00, 82.30it/s]\n",
      "Batches: 100%|██████████| 1/1 [00:00<00:00, 107.90it/s]\n",
      "Batches: 100%|██████████| 1/1 [00:00<00:00, 106.57it/s]\n",
      "Batches: 100%|██████████| 1/1 [00:00<00:00, 90.50it/s]\n",
      "Batches: 100%|██████████| 1/1 [00:00<00:00, 45.02it/s]\n",
      "Batches: 100%|██████████| 1/1 [00:00<00:00, 72.03it/s]\n",
      "Batches: 100%|██████████| 1/1 [00:00<00:00, 95.98it/s]\n",
      "Batches: 100%|██████████| 1/1 [00:00<00:00, 103.46it/s]\n",
      "Batches: 100%|██████████| 1/1 [00:00<00:00, 102.70it/s]\n",
      "Batches: 100%|██████████| 1/1 [00:00<00:00, 48.61it/s]\n",
      "Batches: 100%|██████████| 1/1 [00:00<00:00, 83.68it/s]\n",
      "Batches: 100%|██████████| 1/1 [00:00<00:00, 105.27it/s]\n",
      "Batches: 100%|██████████| 1/1 [00:00<00:00, 28.25it/s]\n",
      "Batches: 100%|██████████| 1/1 [00:00<00:00, 94.82it/s]\n",
      "Batches: 100%|██████████| 1/1 [00:00<00:00, 93.57it/s]\n",
      "Batches: 100%|██████████| 1/1 [00:00<00:00, 118.04it/s]\n",
      "Batches: 100%|██████████| 1/1 [00:00<00:00, 119.36it/s]\n",
      "Batches: 100%|██████████| 1/1 [00:00<00:00, 130.36it/s]\n",
      "Batches: 100%|██████████| 1/1 [00:00<00:00, 112.83it/s]\n",
      "Batches: 100%|██████████| 1/1 [00:00<00:00, 122.79it/s]\n",
      "Batches: 100%|██████████| 1/1 [00:00<00:00, 128.87it/s]\n",
      "Batches: 100%|██████████| 1/1 [00:00<00:00, 115.66it/s]\n",
      "Batches: 100%|██████████| 1/1 [00:00<00:00, 124.19it/s]\n",
      "Batches: 100%|██████████| 1/1 [00:00<00:00, 120.22it/s]\n",
      "Batches: 100%|██████████| 1/1 [00:00<00:00, 105.64it/s]\n",
      "Batches: 100%|██████████| 1/1 [00:00<00:00, 115.54it/s]\n",
      "Batches: 100%|██████████| 1/1 [00:00<00:00, 101.70it/s]\n",
      "Batches: 100%|██████████| 1/1 [00:00<00:00, 77.30it/s]\n",
      "Batches: 100%|██████████| 1/1 [00:00<00:00, 107.77it/s]\n",
      "Batches: 100%|██████████| 1/1 [00:00<00:00, 115.93it/s]\n",
      "Batches: 100%|██████████| 1/1 [00:00<00:00, 130.37it/s]\n",
      "Batches: 100%|██████████| 1/1 [00:00<00:00, 125.50it/s]\n",
      "Batches: 100%|██████████| 1/1 [00:00<00:00, 125.39it/s]\n",
      "Batches: 100%|██████████| 1/1 [00:00<00:00, 121.31it/s]\n",
      "Batches: 100%|██████████| 1/1 [00:00<00:00, 119.86it/s]\n",
      "Batches: 100%|██████████| 1/1 [00:00<00:00, 125.01it/s]\n",
      "Batches: 100%|██████████| 1/1 [00:00<00:00, 139.96it/s]\n",
      "Batches: 100%|██████████| 1/1 [00:00<00:00, 35.15it/s]\n",
      "Batches: 100%|██████████| 1/1 [00:00<00:00, 76.29it/s]\n",
      "Batches: 100%|██████████| 1/1 [00:00<00:00, 68.30it/s]\n",
      "Batches: 100%|██████████| 1/1 [00:00<00:00, 78.46it/s]\n",
      "Batches: 100%|██████████| 1/1 [00:00<00:00, 87.29it/s]\n",
      "Batches: 100%|██████████| 1/1 [00:00<00:00, 80.59it/s]\n",
      "Batches: 100%|██████████| 1/1 [00:00<00:00, 97.76it/s]\n",
      "Batches: 100%|██████████| 1/1 [00:00<00:00, 54.94it/s]\n",
      "Batches: 100%|██████████| 1/1 [00:00<00:00, 92.28it/s]\n",
      "Batches: 100%|██████████| 1/1 [00:00<00:00, 78.11it/s]\n",
      "Batches: 100%|██████████| 1/1 [00:00<00:00, 94.86it/s]\n",
      "Batches: 100%|██████████| 1/1 [00:00<00:00, 82.91it/s]\n",
      "Batches: 100%|██████████| 1/1 [00:00<00:00, 42.50it/s]\n",
      "Batches: 100%|██████████| 1/1 [00:00<00:00, 27.82it/s]\n",
      "Batches: 100%|██████████| 1/1 [00:00<00:00, 72.45it/s]\n",
      "Batches: 100%|██████████| 1/1 [00:00<00:00, 26.20it/s]\n",
      "Batches: 100%|██████████| 1/1 [00:00<00:00, 62.75it/s]\n",
      "Batches: 100%|██████████| 1/1 [00:00<00:00, 74.58it/s]\n",
      "Batches: 100%|██████████| 1/1 [00:00<00:00, 74.06it/s]\n",
      "Batches: 100%|██████████| 1/1 [00:00<00:00, 83.56it/s]\n",
      "Batches: 100%|██████████| 1/1 [00:00<00:00, 96.36it/s]\n",
      "Batches: 100%|██████████| 1/1 [00:00<00:00, 42.08it/s]\n",
      "Batches: 100%|██████████| 1/1 [00:00<00:00, 98.02it/s]\n",
      "Batches: 100%|██████████| 1/1 [00:00<00:00, 87.24it/s]\n",
      "Batches: 100%|██████████| 1/1 [00:00<00:00, 103.66it/s]\n",
      "Batches: 100%|██████████| 1/1 [00:00<00:00, 77.00it/s]\n",
      "Batches: 100%|██████████| 1/1 [00:00<00:00, 84.85it/s]\n",
      "Batches: 100%|██████████| 1/1 [00:00<00:00, 73.08it/s]\n",
      "Batches: 100%|██████████| 1/1 [00:00<00:00, 93.88it/s]\n",
      "Batches: 100%|██████████| 1/1 [00:00<00:00, 76.37it/s]\n",
      "Batches: 100%|██████████| 1/1 [00:00<00:00, 80.68it/s]\n",
      "Batches: 100%|██████████| 1/1 [00:00<00:00, 72.43it/s]\n",
      "Batches: 100%|██████████| 1/1 [00:00<00:00, 71.82it/s]\n",
      "Batches: 100%|██████████| 1/1 [00:00<00:00, 35.38it/s]\n",
      "Batches: 100%|██████████| 1/1 [00:00<00:00, 50.24it/s]\n",
      "Batches: 100%|██████████| 1/1 [00:00<00:00, 65.94it/s]\n",
      "Batches: 100%|██████████| 1/1 [00:00<00:00, 86.78it/s]\n",
      "Batches: 100%|██████████| 1/1 [00:00<00:00, 88.05it/s]\n",
      "Batches: 100%|██████████| 1/1 [00:00<00:00, 80.20it/s]\n",
      "Batches: 100%|██████████| 1/1 [00:00<00:00, 76.75it/s]\n",
      "Batches: 100%|██████████| 1/1 [00:00<00:00, 72.41it/s]\n",
      "Batches: 100%|██████████| 1/1 [00:00<00:00, 78.46it/s]\n",
      "Batches: 100%|██████████| 1/1 [00:00<00:00, 90.12it/s]\n",
      "Batches: 100%|██████████| 1/1 [00:00<00:00, 95.16it/s]\n",
      "Batches: 100%|██████████| 1/1 [00:00<00:00, 90.13it/s]\n",
      "Batches: 100%|██████████| 1/1 [00:00<00:00, 80.10it/s]\n",
      "Batches: 100%|██████████| 1/1 [00:00<00:00, 83.36it/s]\n",
      "Batches: 100%|██████████| 1/1 [00:00<00:00, 102.28it/s]\n",
      "Batches: 100%|██████████| 1/1 [00:00<00:00, 77.67it/s]\n",
      "Batches: 100%|██████████| 1/1 [00:00<00:00, 94.82it/s]\n",
      "Batches: 100%|██████████| 1/1 [00:00<00:00, 73.25it/s]\n",
      "Batches: 100%|██████████| 1/1 [00:00<00:00, 92.75it/s]\n",
      "Batches: 100%|██████████| 1/1 [00:00<00:00, 54.40it/s]\n",
      "Batches: 100%|██████████| 1/1 [00:00<00:00, 81.82it/s]\n",
      "Batches: 100%|██████████| 1/1 [00:00<00:00, 78.25it/s]\n",
      "Batches: 100%|██████████| 1/1 [00:00<00:00, 100.16it/s]\n",
      "Batches: 100%|██████████| 1/1 [00:00<00:00, 76.00it/s]\n",
      "Batches: 100%|██████████| 1/1 [00:00<00:00, 84.76it/s]\n",
      "Batches: 100%|██████████| 1/1 [00:00<00:00, 62.03it/s]\n",
      "Batches: 100%|██████████| 1/1 [00:00<00:00, 72.23it/s]\n",
      "Batches: 100%|██████████| 1/1 [00:00<00:00, 80.30it/s]\n",
      "Batches: 100%|██████████| 1/1 [00:00<00:00, 86.49it/s]\n",
      "Batches: 100%|██████████| 1/1 [00:00<00:00, 90.97it/s]\n",
      "Batches: 100%|██████████| 1/1 [00:00<00:00, 81.16it/s]\n",
      "Batches: 100%|██████████| 1/1 [00:00<00:00, 85.90it/s]\n",
      "Batches: 100%|██████████| 1/1 [00:00<00:00, 81.05it/s]\n",
      "Batches: 100%|██████████| 1/1 [00:00<00:00, 89.55it/s]\n",
      "Batches: 100%|██████████| 1/1 [00:00<00:00, 21.42it/s]\n",
      "Batches: 100%|██████████| 1/1 [00:00<00:00, 61.67it/s]\n",
      "Batches: 100%|██████████| 1/1 [00:00<00:00, 61.17it/s]\n",
      "Batches: 100%|██████████| 1/1 [00:00<00:00, 139.16it/s]\n",
      "Batches: 100%|██████████| 1/1 [00:00<00:00, 132.19it/s]\n",
      "Batches: 100%|██████████| 1/1 [00:00<00:00, 131.89it/s]\n",
      "Batches: 100%|██████████| 1/1 [00:00<00:00, 141.30it/s]\n",
      "Batches: 100%|██████████| 1/1 [00:00<00:00, 141.95it/s]\n",
      "Batches: 100%|██████████| 1/1 [00:00<00:00, 137.83it/s]\n",
      "Batches: 100%|██████████| 1/1 [00:00<00:00, 114.12it/s]\n",
      "Batches: 100%|██████████| 1/1 [00:00<00:00, 126.33it/s]\n",
      "Batches: 100%|██████████| 1/1 [00:00<00:00, 148.32it/s]\n",
      "Batches: 100%|██████████| 1/1 [00:00<00:00, 128.95it/s]\n",
      "Batches: 100%|██████████| 1/1 [00:00<00:00, 83.18it/s]\n",
      "Batches: 100%|██████████| 1/1 [00:00<00:00, 133.14it/s]\n",
      "Batches: 100%|██████████| 1/1 [00:00<00:00, 122.68it/s]\n",
      "Batches: 100%|██████████| 1/1 [00:00<00:00, 113.61it/s]\n",
      "Batches: 100%|██████████| 1/1 [00:00<00:00, 64.45it/s]\n",
      "Batches: 100%|██████████| 1/1 [00:00<00:00, 121.27it/s]\n",
      "Batches: 100%|██████████| 1/1 [00:00<00:00, 125.24it/s]\n",
      "Batches: 100%|██████████| 1/1 [00:00<00:00, 128.09it/s]\n",
      "Batches: 100%|██████████| 1/1 [00:00<00:00, 129.82it/s]\n",
      "Batches: 100%|██████████| 1/1 [00:00<00:00, 143.37it/s]\n",
      "Batches: 100%|██████████| 1/1 [00:00<00:00, 129.45it/s]\n",
      "Batches: 100%|██████████| 1/1 [00:00<00:00, 132.15it/s]\n",
      "Batches: 100%|██████████| 1/1 [00:00<00:00, 122.63it/s]\n",
      "Batches: 100%|██████████| 1/1 [00:00<00:00, 130.84it/s]\n",
      "Batches: 100%|██████████| 1/1 [00:00<00:00, 131.17it/s]\n",
      "Batches: 100%|██████████| 1/1 [00:00<00:00, 134.14it/s]\n",
      "Batches: 100%|██████████| 1/1 [00:00<00:00, 41.69it/s]\n",
      "Batches: 100%|██████████| 1/1 [00:00<00:00, 77.06it/s]\n",
      "Batches: 100%|██████████| 1/1 [00:00<00:00, 70.15it/s]\n",
      "Batches: 100%|██████████| 1/1 [00:00<00:00, 33.39it/s]\n",
      "Batches: 100%|██████████| 1/1 [00:00<00:00, 80.95it/s]\n",
      "Batches: 100%|██████████| 1/1 [00:00<00:00, 137.08it/s]\n",
      "Batches: 100%|██████████| 1/1 [00:00<00:00, 135.21it/s]\n",
      "Batches: 100%|██████████| 1/1 [00:00<00:00, 134.71it/s]\n",
      "Batches: 100%|██████████| 1/1 [00:00<00:00, 135.92it/s]\n",
      "Batches: 100%|██████████| 1/1 [00:00<00:00, 126.65it/s]\n",
      "Batches: 100%|██████████| 1/1 [00:00<00:00, 136.15it/s]\n",
      "Batches: 100%|██████████| 1/1 [00:00<00:00, 133.61it/s]\n",
      "Batches: 100%|██████████| 1/1 [00:00<00:00, 134.61it/s]\n",
      "Batches: 100%|██████████| 1/1 [00:00<00:00, 145.92it/s]\n",
      "Batches: 100%|██████████| 1/1 [00:00<00:00, 144.63it/s]\n",
      "Batches: 100%|██████████| 1/1 [00:00<00:00, 131.30it/s]\n",
      "Batches: 100%|██████████| 1/1 [00:00<00:00, 140.57it/s]\n",
      "Batches: 100%|██████████| 1/1 [00:00<00:00, 139.62it/s]\n",
      "Batches: 100%|██████████| 1/1 [00:00<00:00, 135.72it/s]\n",
      "Batches: 100%|██████████| 1/1 [00:00<00:00, 129.50it/s]\n",
      "Batches: 100%|██████████| 1/1 [00:00<00:00, 138.41it/s]\n",
      "Batches: 100%|██████████| 1/1 [00:00<00:00, 119.82it/s]\n",
      "Batches: 100%|██████████| 1/1 [00:00<00:00, 99.82it/s]\n",
      "Batches: 100%|██████████| 1/1 [00:00<00:00, 114.57it/s]\n",
      "Batches: 100%|██████████| 1/1 [00:00<00:00, 116.74it/s]\n",
      "Batches: 100%|██████████| 1/1 [00:00<00:00, 120.43it/s]\n",
      "Batches: 100%|██████████| 1/1 [00:00<00:00, 129.27it/s]\n",
      "Batches: 100%|██████████| 1/1 [00:00<00:00, 134.77it/s]\n",
      "Batches: 100%|██████████| 1/1 [00:00<00:00, 130.29it/s]\n",
      "Batches: 100%|██████████| 1/1 [00:00<00:00, 133.82it/s]\n",
      "Batches: 100%|██████████| 1/1 [00:00<00:00, 49.09it/s]\n",
      "Batches: 100%|██████████| 1/1 [00:00<00:00, 78.33it/s]\n",
      "Batches: 100%|██████████| 1/1 [00:00<00:00, 121.58it/s]\n",
      "Batches: 100%|██████████| 1/1 [00:00<00:00, 138.88it/s]\n",
      "Batches: 100%|██████████| 1/1 [00:00<00:00, 135.11it/s]\n",
      "Batches: 100%|██████████| 1/1 [00:00<00:00, 127.72it/s]\n",
      "Batches: 100%|██████████| 1/1 [00:00<00:00, 133.30it/s]\n",
      "Batches: 100%|██████████| 1/1 [00:00<00:00, 127.55it/s]\n",
      "Batches: 100%|██████████| 1/1 [00:00<00:00, 145.69it/s]\n",
      "Batches: 100%|██████████| 1/1 [00:00<00:00, 122.25it/s]\n",
      "Batches: 100%|██████████| 1/1 [00:00<00:00, 131.94it/s]\n",
      "Batches: 100%|██████████| 1/1 [00:00<00:00, 132.12it/s]\n",
      "Batches: 100%|██████████| 1/1 [00:00<00:00, 133.87it/s]\n",
      "Batches: 100%|██████████| 1/1 [00:00<00:00, 134.36it/s]\n",
      "Batches: 100%|██████████| 1/1 [00:00<00:00, 136.09it/s]\n",
      "Batches: 100%|██████████| 1/1 [00:00<00:00, 136.06it/s]\n",
      "Batches: 100%|██████████| 1/1 [00:00<00:00, 137.89it/s]\n",
      "Batches: 100%|██████████| 1/1 [00:00<00:00, 126.04it/s]\n",
      "Batches: 100%|██████████| 1/1 [00:00<00:00, 140.51it/s]\n",
      "Batches: 100%|██████████| 1/1 [00:00<00:00, 138.33it/s]\n",
      "Batches: 100%|██████████| 1/1 [00:00<00:00, 130.33it/s]\n",
      "Batches: 100%|██████████| 1/1 [00:00<00:00, 116.59it/s]\n",
      "Batches: 100%|██████████| 1/1 [00:00<00:00, 117.51it/s]\n",
      "Batches: 100%|██████████| 1/1 [00:00<00:00, 115.69it/s]\n",
      "Batches: 100%|██████████| 1/1 [00:00<00:00, 132.98it/s]\n",
      "Batches: 100%|██████████| 1/1 [00:00<00:00, 127.55it/s]\n",
      "Batches: 100%|██████████| 1/1 [00:00<00:00, 72.19it/s]\n",
      "Batches: 100%|██████████| 1/1 [00:00<00:00, 11.07it/s]\n",
      "Batches: 100%|██████████| 1/1 [00:00<00:00, 74.32it/s]\n",
      "Batches: 100%|██████████| 1/1 [00:00<00:00, 56.65it/s]\n",
      "Batches: 100%|██████████| 1/1 [00:00<00:00, 25.55it/s]\n",
      "Batches: 100%|██████████| 1/1 [00:00<00:00, 94.68it/s]\n",
      "Batches: 100%|██████████| 1/1 [00:00<00:00, 86.39it/s]\n",
      "Batches: 100%|██████████| 1/1 [00:00<00:00, 62.79it/s]\n",
      "Batches: 100%|██████████| 1/1 [00:00<00:00, 130.94it/s]\n",
      "Batches: 100%|██████████| 1/1 [00:00<00:00, 133.74it/s]\n",
      "Batches: 100%|██████████| 1/1 [00:00<00:00, 41.58it/s]\n",
      "Batches: 100%|██████████| 1/1 [00:00<00:00, 27.37it/s]\n",
      "Batches: 100%|██████████| 1/1 [00:00<00:00, 40.29it/s]\n",
      "Batches: 100%|██████████| 1/1 [00:00<00:00, 25.01it/s]\n",
      "Batches: 100%|██████████| 1/1 [00:00<00:00, 40.86it/s]\n",
      "Batches: 100%|██████████| 1/1 [00:00<00:00, 40.42it/s]\n",
      "Batches: 100%|██████████| 1/1 [00:00<00:00, 44.10it/s]\n",
      "Batches: 100%|██████████| 1/1 [00:00<00:00, 136.78it/s]\n",
      "Batches: 100%|██████████| 1/1 [00:00<00:00, 112.09it/s]\n",
      "Batches: 100%|██████████| 1/1 [00:00<00:00, 116.81it/s]\n",
      "Batches: 100%|██████████| 1/1 [00:00<00:00, 128.13it/s]\n",
      "Batches: 100%|██████████| 1/1 [00:00<00:00, 113.33it/s]\n",
      "Batches: 100%|██████████| 1/1 [00:00<00:00, 84.99it/s]\n",
      "Batches: 100%|██████████| 1/1 [00:00<00:00, 95.52it/s]\n",
      "Batches: 100%|██████████| 1/1 [00:00<00:00, 102.81it/s]\n",
      "Batches: 100%|██████████| 1/1 [00:00<00:00, 97.84it/s]\n",
      "Batches: 100%|██████████| 1/1 [00:00<00:00, 106.71it/s]\n",
      "Batches: 100%|██████████| 1/1 [00:00<00:00, 29.53it/s]\n",
      "Batches: 100%|██████████| 1/1 [00:00<00:00, 95.11it/s]\n",
      "Batches: 100%|██████████| 1/1 [00:00<00:00, 35.01it/s]\n",
      "Batches: 100%|██████████| 1/1 [00:00<00:00, 52.10it/s]\n",
      "Batches: 100%|██████████| 1/1 [00:00<00:00, 113.45it/s]\n",
      "Batches: 100%|██████████| 1/1 [00:00<00:00, 99.19it/s]\n",
      "Batches: 100%|██████████| 1/1 [00:00<00:00, 85.27it/s]\n",
      "Batches: 100%|██████████| 1/1 [00:00<00:00, 72.29it/s]\n",
      "Batches: 100%|██████████| 1/1 [00:00<00:00, 116.45it/s]\n",
      "Batches: 100%|██████████| 1/1 [00:00<00:00, 115.22it/s]\n",
      "Batches: 100%|██████████| 1/1 [00:00<00:00, 114.84it/s]\n",
      "Batches: 100%|██████████| 1/1 [00:00<00:00, 120.76it/s]\n",
      "Batches: 100%|██████████| 1/1 [00:00<00:00, 134.92it/s]\n",
      "Batches: 100%|██████████| 1/1 [00:00<00:00, 131.37it/s]\n",
      "Batches: 100%|██████████| 1/1 [00:00<00:00,  4.93it/s]\n",
      "Batches: 100%|██████████| 1/1 [00:00<00:00, 33.23it/s]\n",
      "Batches: 100%|██████████| 1/1 [00:00<00:00, 65.18it/s]\n",
      "Batches: 100%|██████████| 1/1 [00:00<00:00, 83.52it/s]\n",
      "Batches: 100%|██████████| 1/1 [00:00<00:00, 71.60it/s]\n",
      "Batches: 100%|██████████| 1/1 [00:00<00:00, 58.17it/s]\n",
      "Batches: 100%|██████████| 1/1 [00:00<00:00, 37.67it/s]\n",
      "Batches: 100%|██████████| 1/1 [00:00<00:00, 28.93it/s]\n",
      "Batches: 100%|██████████| 1/1 [00:00<00:00, 35.38it/s]\n",
      "Batches: 100%|██████████| 1/1 [00:00<00:00, 25.67it/s]\n",
      "Batches: 100%|██████████| 1/1 [00:00<00:00, 41.07it/s]\n",
      "Batches: 100%|██████████| 1/1 [00:00<00:00,  2.70it/s]\n",
      "Batches: 100%|██████████| 1/1 [00:00<00:00, 13.58it/s]\n",
      "Batches: 100%|██████████| 1/1 [00:00<00:00, 10.75it/s]\n",
      "Batches: 100%|██████████| 1/1 [00:00<00:00, 87.21it/s]\n",
      "Batches: 100%|██████████| 1/1 [00:00<00:00, 53.34it/s]\n",
      "Batches: 100%|██████████| 1/1 [00:00<00:00, 47.07it/s]\n",
      "Batches: 100%|██████████| 1/1 [00:00<00:00, 88.33it/s]\n",
      "Batches: 100%|██████████| 1/1 [00:00<00:00, 99.31it/s]\n",
      "Batches: 100%|██████████| 1/1 [00:00<00:00, 101.18it/s]\n",
      "Batches: 100%|██████████| 1/1 [00:00<00:00, 123.92it/s]\n",
      "Batches: 100%|██████████| 1/1 [00:00<00:00, 110.28it/s]\n",
      "Batches: 100%|██████████| 1/1 [00:00<00:00, 89.62it/s]\n",
      "Batches: 100%|██████████| 1/1 [00:00<00:00, 95.89it/s]\n",
      "Batches: 100%|██████████| 1/1 [00:00<00:00, 52.40it/s]\n",
      "Batches: 100%|██████████| 1/1 [00:00<00:00, 10.28it/s]\n",
      "Batches: 100%|██████████| 1/1 [00:00<00:00,  7.91it/s]\n",
      "Batches: 100%|██████████| 1/1 [00:00<00:00, 31.35it/s]\n",
      "Batches: 100%|██████████| 1/1 [00:00<00:00, 28.56it/s]\n",
      "Batches: 100%|██████████| 1/1 [00:00<00:00, 33.23it/s]\n",
      "Batches: 100%|██████████| 1/1 [00:00<00:00, 89.79it/s]\n",
      "Batches: 100%|██████████| 1/1 [00:00<00:00, 83.99it/s]\n",
      "Batches: 100%|██████████| 1/1 [00:00<00:00, 63.55it/s]\n",
      "Batches: 100%|██████████| 1/1 [00:00<00:00, 91.13it/s]\n",
      "Batches: 100%|██████████| 1/1 [00:00<00:00, 76.46it/s]\n",
      "Batches: 100%|██████████| 1/1 [00:00<00:00, 78.08it/s]\n",
      "Batches: 100%|██████████| 1/1 [00:00<00:00, 73.54it/s]\n",
      "Batches: 100%|██████████| 1/1 [00:00<00:00, 62.50it/s]\n",
      "Batches: 100%|██████████| 1/1 [00:00<00:00, 44.69it/s]\n",
      "Batches: 100%|██████████| 1/1 [00:00<00:00, 67.24it/s]\n",
      "Batches: 100%|██████████| 1/1 [00:00<00:00, 62.58it/s]\n",
      "Batches: 100%|██████████| 1/1 [00:00<00:00, 86.79it/s]\n",
      "Batches: 100%|██████████| 1/1 [00:00<00:00, 88.63it/s]\n",
      "Batches: 100%|██████████| 1/1 [00:00<00:00, 70.82it/s]\n",
      "Batches: 100%|██████████| 1/1 [00:00<00:00, 60.43it/s]\n",
      "Batches: 100%|██████████| 1/1 [00:00<00:00, 24.76it/s]\n",
      "Batches: 100%|██████████| 1/1 [00:00<00:00, 86.63it/s]\n",
      "Batches: 100%|██████████| 1/1 [00:00<00:00, 96.28it/s]\n",
      "Batches: 100%|██████████| 1/1 [00:00<00:00, 75.54it/s]\n",
      "Batches: 100%|██████████| 1/1 [00:00<00:00, 76.50it/s]\n",
      "Batches: 100%|██████████| 1/1 [00:00<00:00, 57.81it/s]\n",
      "Batches: 100%|██████████| 1/1 [00:00<00:00, 83.69it/s]\n",
      "Batches: 100%|██████████| 1/1 [00:00<00:00, 16.96it/s]\n",
      "Batches: 100%|██████████| 1/1 [00:00<00:00, 44.72it/s]\n",
      "Batches: 100%|██████████| 1/1 [00:00<00:00, 74.28it/s]\n",
      "Batches: 100%|██████████| 1/1 [00:00<00:00, 95.96it/s]\n",
      "Batches: 100%|██████████| 1/1 [00:00<00:00, 77.56it/s]\n",
      "Batches: 100%|██████████| 1/1 [00:00<00:00, 112.15it/s]\n",
      "Batches: 100%|██████████| 1/1 [00:00<00:00, 119.59it/s]\n",
      "Batches: 100%|██████████| 1/1 [00:00<00:00, 136.89it/s]\n",
      "Batches: 100%|██████████| 1/1 [00:00<00:00, 121.02it/s]\n",
      "Batches: 100%|██████████| 1/1 [00:00<00:00, 125.54it/s]\n",
      "Batches: 100%|██████████| 1/1 [00:00<00:00, 129.43it/s]\n",
      "Batches: 100%|██████████| 1/1 [00:00<00:00, 134.30it/s]\n",
      "Batches: 100%|██████████| 1/1 [00:00<00:00, 125.69it/s]\n",
      "Batches: 100%|██████████| 1/1 [00:00<00:00, 130.83it/s]\n",
      "Batches: 100%|██████████| 1/1 [00:00<00:00, 121.72it/s]\n",
      "Batches: 100%|██████████| 1/1 [00:00<00:00, 130.00it/s]\n",
      "Batches: 100%|██████████| 1/1 [00:00<00:00, 122.63it/s]\n",
      "Batches: 100%|██████████| 1/1 [00:00<00:00, 138.05it/s]\n",
      "Batches: 100%|██████████| 1/1 [00:00<00:00, 121.06it/s]\n",
      "Batches: 100%|██████████| 1/1 [00:00<00:00, 127.36it/s]\n",
      "Batches: 100%|██████████| 1/1 [00:00<00:00, 120.06it/s]\n",
      "Batches: 100%|██████████| 1/1 [00:00<00:00, 121.05it/s]\n",
      "Batches: 100%|██████████| 1/1 [00:00<00:00, 119.29it/s]\n",
      "Batches: 100%|██████████| 1/1 [00:00<00:00, 114.29it/s]\n",
      "Batches: 100%|██████████| 1/1 [00:00<00:00, 114.55it/s]\n",
      "Batches: 100%|██████████| 1/1 [00:00<00:00, 94.80it/s]\n",
      "Batches: 100%|██████████| 1/1 [00:00<00:00, 82.31it/s]\n",
      "Batches: 100%|██████████| 1/1 [00:00<00:00, 29.79it/s]\n",
      "Batches: 100%|██████████| 1/1 [00:00<00:00, 53.76it/s]\n",
      "Batches: 100%|██████████| 1/1 [00:00<00:00, 123.20it/s]\n",
      "Batches: 100%|██████████| 1/1 [00:00<00:00, 11.12it/s]\n",
      "Batches: 100%|██████████| 1/1 [00:00<00:00, 20.37it/s]\n",
      "Batches: 100%|██████████| 1/1 [00:00<00:00, 16.51it/s]\n",
      "Batches: 100%|██████████| 1/1 [00:00<00:00, 61.79it/s]\n",
      "Batches: 100%|██████████| 1/1 [00:00<00:00, 73.58it/s]\n",
      "Batches: 100%|██████████| 1/1 [00:00<00:00, 61.71it/s]\n",
      "Batches: 100%|██████████| 1/1 [00:00<00:00, 34.50it/s]\n",
      "Batches: 100%|██████████| 1/1 [00:00<00:00, 87.45it/s]\n",
      "Batches: 100%|██████████| 1/1 [00:00<00:00, 41.14it/s]\n",
      "Batches: 100%|██████████| 1/1 [00:00<00:00, 43.64it/s]\n",
      "Batches: 100%|██████████| 1/1 [00:00<00:00, 43.28it/s]\n",
      "Batches: 100%|██████████| 1/1 [00:00<00:00, 78.84it/s]\n",
      "Batches: 100%|██████████| 1/1 [00:00<00:00, 76.25it/s]\n",
      "Batches: 100%|██████████| 1/1 [00:00<00:00, 85.24it/s]\n",
      "Batches: 100%|██████████| 1/1 [00:00<00:00, 83.01it/s]\n",
      "Batches: 100%|██████████| 1/1 [00:00<00:00, 122.43it/s]\n",
      "Batches: 100%|██████████| 1/1 [00:00<00:00, 133.21it/s]\n",
      "Batches: 100%|██████████| 1/1 [00:00<00:00, 137.91it/s]\n",
      "Batches: 100%|██████████| 1/1 [00:00<00:00, 137.48it/s]\n",
      "Batches: 100%|██████████| 1/1 [00:00<00:00, 72.53it/s]\n",
      "Batches: 100%|██████████| 1/1 [00:00<00:00, 33.26it/s]\n",
      "Batches: 100%|██████████| 1/1 [00:00<00:00, 25.04it/s]\n",
      "Batches: 100%|██████████| 1/1 [00:00<00:00, 31.35it/s]\n",
      "Batches: 100%|██████████| 1/1 [00:00<00:00, 33.31it/s]\n",
      "Batches: 100%|██████████| 1/1 [00:00<00:00, 25.22it/s]\n",
      "Batches: 100%|██████████| 1/1 [00:00<00:00, 14.26it/s]\n",
      "Batches: 100%|██████████| 1/1 [00:00<00:00, 28.84it/s]\n",
      "Batches: 100%|██████████| 1/1 [00:00<00:00, 33.20it/s]\n",
      "Batches: 100%|██████████| 1/1 [00:00<00:00, 24.39it/s]\n",
      "Batches: 100%|██████████| 1/1 [00:00<00:00, 29.61it/s]\n",
      "Batches: 100%|██████████| 1/1 [00:00<00:00, 32.43it/s]\n",
      "Batches: 100%|██████████| 1/1 [00:00<00:00, 33.31it/s]\n",
      "Batches: 100%|██████████| 1/1 [00:00<00:00, 32.29it/s]\n",
      "Batches: 100%|██████████| 1/1 [00:00<00:00, 33.57it/s]\n",
      "Batches: 100%|██████████| 1/1 [00:00<00:00, 32.90it/s]\n",
      "Batches: 100%|██████████| 1/1 [00:00<00:00, 32.07it/s]\n",
      "Batches: 100%|██████████| 1/1 [00:00<00:00, 31.85it/s]\n",
      "Batches: 100%|██████████| 1/1 [00:00<00:00, 31.52it/s]\n",
      "Batches: 100%|██████████| 1/1 [00:00<00:00, 31.54it/s]\n",
      "Batches: 100%|██████████| 1/1 [00:00<00:00, 32.65it/s]\n",
      "Batches: 100%|██████████| 1/1 [00:00<00:00, 32.64it/s]\n",
      "Batches: 100%|██████████| 1/1 [00:00<00:00, 27.94it/s]\n",
      "Batches: 100%|██████████| 1/1 [00:00<00:00, 111.42it/s]\n",
      "Batches: 100%|██████████| 1/1 [00:00<00:00, 119.62it/s]\n",
      "Batches: 100%|██████████| 1/1 [00:00<00:00, 32.30it/s]\n",
      "Batches: 100%|██████████| 1/1 [00:00<00:00, 122.82it/s]\n",
      "Batches: 100%|██████████| 1/1 [00:00<00:00, 117.46it/s]\n",
      "Batches: 100%|██████████| 1/1 [00:00<00:00, 34.22it/s]\n",
      "Batches: 100%|██████████| 1/1 [00:00<00:00, 34.93it/s]\n",
      "Batches: 100%|██████████| 1/1 [00:00<00:00, 33.20it/s]\n",
      "Batches: 100%|██████████| 1/1 [00:00<00:00, 123.93it/s]\n",
      "Batches: 100%|██████████| 1/1 [00:00<00:00, 32.60it/s]\n",
      "Batches: 100%|██████████| 1/1 [00:00<00:00, 134.08it/s]\n",
      "Batches: 100%|██████████| 1/1 [00:00<00:00, 40.97it/s]\n",
      "Batches: 100%|██████████| 1/1 [00:00<00:00, 69.46it/s]\n",
      "Batches: 100%|██████████| 1/1 [00:00<00:00, 81.38it/s]\n",
      "Batches: 100%|██████████| 1/1 [00:00<00:00, 107.03it/s]\n",
      "Batches: 100%|██████████| 1/1 [00:00<00:00, 121.36it/s]\n",
      "Batches: 100%|██████████| 1/1 [00:00<00:00, 110.48it/s]\n",
      "Batches: 100%|██████████| 1/1 [00:00<00:00, 63.25it/s]\n",
      "Batches: 100%|██████████| 1/1 [00:00<00:00, 17.14it/s]\n",
      "Batches: 100%|██████████| 1/1 [00:00<00:00, 24.97it/s]\n",
      "Batches: 100%|██████████| 1/1 [00:00<00:00, 107.13it/s]\n",
      "Batches: 100%|██████████| 1/1 [00:00<00:00, 108.86it/s]\n",
      "Batches: 100%|██████████| 1/1 [00:00<00:00, 22.71it/s]\n",
      "Batches: 100%|██████████| 1/1 [00:00<00:00, 62.15it/s]\n",
      "Batches: 100%|██████████| 1/1 [00:00<00:00, 56.14it/s]\n",
      "Batches: 100%|██████████| 1/1 [00:00<00:00, 20.98it/s]\n",
      "Batches: 100%|██████████| 1/1 [00:00<00:00, 120.52it/s]\n",
      "Batches: 100%|██████████| 1/1 [00:00<00:00, 29.19it/s]\n",
      "Batches: 100%|██████████| 1/1 [00:00<00:00, 122.99it/s]\n",
      "Batches: 100%|██████████| 1/1 [00:00<00:00, 118.20it/s]\n",
      "Batches: 100%|██████████| 1/1 [00:00<00:00, 33.40it/s]\n",
      "Batches: 100%|██████████| 1/1 [00:00<00:00, 124.33it/s]\n",
      "Batches: 100%|██████████| 1/1 [00:00<00:00, 34.22it/s]\n",
      "Batches: 100%|██████████| 1/1 [00:00<00:00, 33.57it/s]\n",
      "Batches: 100%|██████████| 1/1 [00:00<00:00, 33.48it/s]\n",
      "Batches: 100%|██████████| 1/1 [00:00<00:00, 48.55it/s]\n",
      "Batches: 100%|██████████| 1/1 [00:00<00:00, 74.51it/s]\n",
      "Batches: 100%|██████████| 1/1 [00:00<00:00, 20.81it/s]\n",
      "Batches: 100%|██████████| 1/1 [00:00<00:00, 19.21it/s]\n",
      "Batches: 100%|██████████| 1/1 [00:00<00:00, 59.98it/s]\n",
      "Batches: 100%|██████████| 1/1 [00:00<00:00, 80.61it/s]\n",
      "Batches: 100%|██████████| 1/1 [00:00<00:00, 89.63it/s]\n",
      "Batches: 100%|██████████| 1/1 [00:00<00:00, 40.39it/s]\n",
      "Batches: 100%|██████████| 1/1 [00:00<00:00, 60.04it/s]\n",
      "Batches: 100%|██████████| 1/1 [00:00<00:00, 88.56it/s]\n",
      "Batches: 100%|██████████| 1/1 [00:00<00:00, 56.68it/s]\n",
      "Batches: 100%|██████████| 1/1 [00:00<00:00, 58.99it/s]\n",
      "Batches: 100%|██████████| 1/1 [00:00<00:00, 107.67it/s]\n",
      "Batches: 100%|██████████| 1/1 [00:00<00:00, 128.24it/s]\n",
      "Batches: 100%|██████████| 1/1 [00:00<00:00, 124.55it/s]\n",
      "Batches: 100%|██████████| 1/1 [00:00<00:00, 127.30it/s]\n",
      "Batches: 100%|██████████| 1/1 [00:00<00:00, 128.07it/s]\n",
      "Batches: 100%|██████████| 1/1 [00:00<00:00, 121.97it/s]\n",
      "Batches: 100%|██████████| 1/1 [00:00<00:00, 112.17it/s]\n",
      "Batches: 100%|██████████| 1/1 [00:00<00:00, 97.89it/s]\n",
      "Batches: 100%|██████████| 1/1 [00:00<00:00, 94.89it/s]\n",
      "Batches: 100%|██████████| 1/1 [00:00<00:00, 91.09it/s]\n",
      "Batches: 100%|██████████| 1/1 [00:00<00:00, 86.78it/s]\n",
      "Batches: 100%|██████████| 1/1 [00:00<00:00, 100.38it/s]\n",
      "Batches: 100%|██████████| 1/1 [00:00<00:00, 103.41it/s]\n",
      "Batches: 100%|██████████| 1/1 [00:00<00:00, 117.94it/s]\n",
      "Batches: 100%|██████████| 1/1 [00:00<00:00, 102.27it/s]\n",
      "Batches: 100%|██████████| 1/1 [00:00<00:00, 125.09it/s]\n",
      "Batches: 100%|██████████| 1/1 [00:00<00:00, 101.10it/s]\n",
      "Batches: 100%|██████████| 1/1 [00:00<00:00, 92.11it/s]\n",
      "Batches: 100%|██████████| 1/1 [00:00<00:00, 100.34it/s]\n",
      "Batches: 100%|██████████| 1/1 [00:00<00:00, 98.37it/s]\n",
      "Batches: 100%|██████████| 1/1 [00:00<00:00, 99.77it/s]\n",
      "Batches: 100%|██████████| 1/1 [00:00<00:00, 100.17it/s]\n",
      "Batches: 100%|██████████| 1/1 [00:00<00:00, 120.73it/s]\n",
      "Batches: 100%|██████████| 1/1 [00:00<00:00, 15.31it/s]\n",
      "Batches: 100%|██████████| 1/1 [00:00<00:00, 34.25it/s]\n",
      "Batches: 100%|██████████| 1/1 [00:00<00:00, 86.82it/s]\n",
      "Batches: 100%|██████████| 1/1 [00:00<00:00, 77.92it/s]\n",
      "Batches: 100%|██████████| 1/1 [00:00<00:00, 118.12it/s]\n",
      "Batches: 100%|██████████| 1/1 [00:00<00:00, 95.32it/s]\n",
      "Batches: 100%|██████████| 1/1 [00:00<00:00, 111.66it/s]\n",
      "Batches: 100%|██████████| 1/1 [00:00<00:00, 126.83it/s]\n",
      "Batches: 100%|██████████| 1/1 [00:00<00:00, 117.76it/s]\n",
      "Batches: 100%|██████████| 1/1 [00:00<00:00, 120.37it/s]\n",
      "Batches: 100%|██████████| 1/1 [00:00<00:00, 133.30it/s]\n",
      "Batches: 100%|██████████| 1/1 [00:00<00:00, 129.00it/s]\n",
      "Batches: 100%|██████████| 1/1 [00:00<00:00, 131.13it/s]\n",
      "Batches: 100%|██████████| 1/1 [00:00<00:00, 123.70it/s]\n",
      "Batches: 100%|██████████| 1/1 [00:00<00:00, 126.77it/s]\n",
      "Batches: 100%|██████████| 1/1 [00:00<00:00, 110.25it/s]\n",
      "Batches: 100%|██████████| 1/1 [00:00<00:00, 125.79it/s]\n",
      "Batches: 100%|██████████| 1/1 [00:00<00:00, 126.14it/s]\n",
      "Batches: 100%|██████████| 1/1 [00:00<00:00, 109.95it/s]\n",
      "Batches: 100%|██████████| 1/1 [00:00<00:00, 102.88it/s]\n",
      "Batches: 100%|██████████| 1/1 [00:00<00:00, 119.37it/s]\n",
      "Batches: 100%|██████████| 1/1 [00:00<00:00, 114.55it/s]\n",
      "Batches: 100%|██████████| 1/1 [00:00<00:00, 126.23it/s]\n",
      "Batches: 100%|██████████| 1/1 [00:00<00:00, 77.17it/s]\n",
      "Batches: 100%|██████████| 1/1 [00:00<00:00, 118.76it/s]\n",
      "Batches: 100%|██████████| 1/1 [00:00<00:00, 94.01it/s]\n",
      "Batches: 100%|██████████| 1/1 [00:00<00:00, 57.54it/s]\n",
      "Batches: 100%|██████████| 1/1 [00:00<00:00, 87.25it/s]\n",
      "Batches: 100%|██████████| 1/1 [00:00<00:00, 107.47it/s]\n",
      "Batches: 100%|██████████| 1/1 [00:00<00:00, 123.69it/s]\n",
      "Batches: 100%|██████████| 1/1 [00:00<00:00, 106.63it/s]\n",
      "Batches: 100%|██████████| 1/1 [00:00<00:00, 66.04it/s]\n",
      "Batches: 100%|██████████| 1/1 [00:00<00:00, 57.07it/s]\n",
      "Batches: 100%|██████████| 1/1 [00:00<00:00, 103.31it/s]\n",
      "Batches: 100%|██████████| 1/1 [00:00<00:00, 83.58it/s]\n",
      "Batches: 100%|██████████| 1/1 [00:00<00:00, 97.68it/s]\n",
      "Batches: 100%|██████████| 1/1 [00:00<00:00, 123.67it/s]\n",
      "Batches: 100%|██████████| 1/1 [00:00<00:00, 133.22it/s]\n",
      "Batches: 100%|██████████| 1/1 [00:00<00:00, 121.25it/s]\n",
      "Batches: 100%|██████████| 1/1 [00:00<00:00, 129.35it/s]\n",
      "Batches: 100%|██████████| 1/1 [00:00<00:00, 125.39it/s]\n",
      "Batches: 100%|██████████| 1/1 [00:00<00:00, 122.77it/s]\n",
      "Batches: 100%|██████████| 1/1 [00:00<00:00, 119.44it/s]\n",
      "Batches: 100%|██████████| 1/1 [00:00<00:00, 128.72it/s]\n",
      "Batches: 100%|██████████| 1/1 [00:00<00:00, 29.86it/s]\n",
      "Batches: 100%|██████████| 1/1 [00:00<00:00, 83.31it/s]\n",
      "Batches: 100%|██████████| 1/1 [00:00<00:00, 57.52it/s]\n",
      "Batches: 100%|██████████| 1/1 [00:00<00:00, 62.50it/s]\n",
      "Batches: 100%|██████████| 1/1 [00:00<00:00, 82.95it/s]\n",
      "Batches: 100%|██████████| 1/1 [00:00<00:00, 116.01it/s]\n",
      "Batches: 100%|██████████| 1/1 [00:00<00:00, 116.47it/s]\n",
      "Batches: 100%|██████████| 1/1 [00:00<00:00, 122.35it/s]\n",
      "Batches: 100%|██████████| 1/1 [00:00<00:00, 30.45it/s]\n",
      "Batches: 100%|██████████| 1/1 [00:00<00:00, 12.01it/s]\n",
      "Batches: 100%|██████████| 1/1 [00:00<00:00, 26.11it/s]\n",
      "Batches: 100%|██████████| 1/1 [00:00<00:00, 33.00it/s]\n",
      "Batches: 100%|██████████| 1/1 [00:00<00:00, 27.89it/s]\n",
      "Batches: 100%|██████████| 1/1 [00:00<00:00, 25.55it/s]\n",
      "Batches: 100%|██████████| 1/1 [00:00<00:00, 29.30it/s]\n",
      "Batches: 100%|██████████| 1/1 [00:00<00:00, 32.44it/s]\n",
      "Batches: 100%|██████████| 1/1 [00:00<00:00, 34.78it/s]\n",
      "Batches: 100%|██████████| 1/1 [00:00<00:00, 36.25it/s]\n",
      "Batches: 100%|██████████| 1/1 [00:00<00:00, 35.38it/s]\n",
      "Batches: 100%|██████████| 1/1 [00:00<00:00, 34.19it/s]\n",
      "Batches: 100%|██████████| 1/1 [00:00<00:00, 35.36it/s]\n",
      "Batches: 100%|██████████| 1/1 [00:00<00:00, 31.80it/s]\n",
      "Batches: 100%|██████████| 1/1 [00:00<00:00, 30.35it/s]\n",
      "Batches: 100%|██████████| 1/1 [00:00<00:00, 110.76it/s]\n",
      "Batches: 100%|██████████| 1/1 [00:00<00:00, 28.55it/s]\n",
      "Batches: 100%|██████████| 1/1 [00:00<00:00, 29.37it/s]\n",
      "Batches: 100%|██████████| 1/1 [00:00<00:00, 31.85it/s]\n",
      "Batches: 100%|██████████| 1/1 [00:00<00:00, 29.15it/s]\n",
      "Batches: 100%|██████████| 1/1 [00:00<00:00, 26.52it/s]\n",
      "Batches: 100%|██████████| 1/1 [00:00<00:00, 32.89it/s]\n",
      "Batches: 100%|██████████| 1/1 [00:00<00:00, 119.03it/s]\n",
      "Batches: 100%|██████████| 1/1 [00:00<00:00, 123.02it/s]\n",
      "Batches: 100%|██████████| 1/1 [00:00<00:00, 124.13it/s]\n",
      "Batches: 100%|██████████| 1/1 [00:00<00:00, 69.14it/s]\n",
      "Batches: 100%|██████████| 1/1 [00:00<00:00, 114.39it/s]\n",
      "Batches: 100%|██████████| 1/1 [00:00<00:00, 16.96it/s]\n",
      "Batches: 100%|██████████| 1/1 [00:00<00:00, 50.30it/s]\n",
      "Batches: 100%|██████████| 1/1 [00:00<00:00, 85.92it/s]\n",
      "Batches: 100%|██████████| 1/1 [00:00<00:00, 69.27it/s]\n",
      "Batches: 100%|██████████| 1/1 [00:00<00:00, 126.40it/s]\n",
      "Batches: 100%|██████████| 1/1 [00:00<00:00, 125.96it/s]\n",
      "Batches: 100%|██████████| 1/1 [00:00<00:00, 117.36it/s]\n",
      "Batches: 100%|██████████| 1/1 [00:00<00:00, 102.56it/s]\n",
      "Batches: 100%|██████████| 1/1 [00:00<00:00, 115.75it/s]\n",
      "Batches: 100%|██████████| 1/1 [00:00<00:00, 89.82it/s]\n",
      "Batches: 100%|██████████| 1/1 [00:00<00:00, 96.81it/s]\n",
      "Batches: 100%|██████████| 1/1 [00:00<00:00, 99.06it/s]\n",
      "Batches: 100%|██████████| 1/1 [00:00<00:00, 115.72it/s]\n",
      "Batches: 100%|██████████| 1/1 [00:00<00:00, 119.79it/s]\n",
      "Batches: 100%|██████████| 1/1 [00:00<00:00, 103.97it/s]\n",
      "Batches: 100%|██████████| 1/1 [00:00<00:00, 104.23it/s]\n",
      "Batches: 100%|██████████| 1/1 [00:00<00:00, 101.52it/s]\n",
      "Batches: 100%|██████████| 1/1 [00:00<00:00, 101.66it/s]\n",
      "Batches: 100%|██████████| 1/1 [00:00<00:00, 36.92it/s]\n",
      "Batches: 100%|██████████| 1/1 [00:00<00:00, 37.32it/s]\n",
      "Batches: 100%|██████████| 1/1 [00:00<00:00, 43.70it/s]\n",
      "Batches: 100%|██████████| 1/1 [00:00<00:00, 22.28it/s]\n",
      "Batches: 100%|██████████| 1/1 [00:00<00:00, 11.10it/s]\n",
      "Batches: 100%|██████████| 1/1 [00:00<00:00, 36.83it/s]\n",
      "Batches: 100%|██████████| 1/1 [00:00<00:00, 52.75it/s]\n",
      "Batches: 100%|██████████| 1/1 [00:00<00:00, 48.02it/s]\n",
      "Batches: 100%|██████████| 1/1 [00:00<00:00, 46.75it/s]\n",
      "Batches: 100%|██████████| 1/1 [00:00<00:00, 123.08it/s]\n",
      "Batches: 100%|██████████| 1/1 [00:00<00:00, 135.83it/s]\n",
      "Batches: 100%|██████████| 1/1 [00:00<00:00, 121.54it/s]\n",
      "Batches: 100%|██████████| 1/1 [00:00<00:00, 83.99it/s]\n",
      "Batches: 100%|██████████| 1/1 [00:00<00:00, 61.57it/s]\n",
      "Batches: 100%|██████████| 1/1 [00:00<00:00, 81.65it/s]\n",
      "Batches: 100%|██████████| 1/1 [00:00<00:00, 83.67it/s]\n",
      "Batches: 100%|██████████| 1/1 [00:00<00:00, 87.90it/s]\n",
      "Batches: 100%|██████████| 1/1 [00:00<00:00, 56.10it/s]\n",
      "Batches: 100%|██████████| 1/1 [00:00<00:00, 63.78it/s]\n",
      "Batches: 100%|██████████| 1/1 [00:00<00:00, 119.65it/s]\n",
      "Batches: 100%|██████████| 1/1 [00:00<00:00, 123.73it/s]\n",
      "Batches: 100%|██████████| 1/1 [00:00<00:00, 122.91it/s]\n",
      "Batches: 100%|██████████| 1/1 [00:00<00:00, 133.12it/s]\n",
      "Batches: 100%|██████████| 1/1 [00:00<00:00, 129.08it/s]\n",
      "Batches: 100%|██████████| 1/1 [00:00<00:00, 130.04it/s]\n",
      "Batches: 100%|██████████| 1/1 [00:00<00:00, 135.12it/s]\n",
      "Batches: 100%|██████████| 1/1 [00:00<00:00, 141.57it/s]\n",
      "Batches: 100%|██████████| 1/1 [00:00<00:00, 119.02it/s]\n",
      "Batches: 100%|██████████| 1/1 [00:00<00:00, 27.92it/s]\n",
      "Batches: 100%|██████████| 1/1 [00:00<00:00, 69.41it/s]\n",
      "Batches: 100%|██████████| 1/1 [00:00<00:00, 119.58it/s]\n",
      "Batches: 100%|██████████| 1/1 [00:00<00:00, 109.37it/s]\n",
      "Batches: 100%|██████████| 1/1 [00:00<00:00, 118.35it/s]\n",
      "Batches: 100%|██████████| 1/1 [00:00<00:00, 113.90it/s]\n",
      "Batches: 100%|██████████| 1/1 [00:00<00:00, 137.06it/s]\n",
      "Batches: 100%|██████████| 1/1 [00:00<00:00, 135.20it/s]\n",
      "Batches: 100%|██████████| 1/1 [00:00<00:00, 129.80it/s]\n",
      "Batches: 100%|██████████| 1/1 [00:00<00:00, 59.65it/s]\n",
      "Batches: 100%|██████████| 1/1 [00:00<00:00, 46.81it/s]\n",
      "Batches: 100%|██████████| 1/1 [00:00<00:00, 52.79it/s]\n",
      "Batches: 100%|██████████| 1/1 [00:00<00:00, 64.17it/s]\n",
      "Batches: 100%|██████████| 1/1 [00:00<00:00, 65.82it/s]\n",
      "Batches: 100%|██████████| 1/1 [00:00<00:00, 47.24it/s]\n",
      "Batches: 100%|██████████| 1/1 [00:00<00:00, 44.64it/s]\n",
      "Batches: 100%|██████████| 1/1 [00:00<00:00, 90.20it/s]\n",
      "Batches: 100%|██████████| 1/1 [00:00<00:00, 14.94it/s]\n",
      "Batches: 100%|██████████| 1/1 [00:00<00:00, 46.13it/s]\n",
      "Batches: 100%|██████████| 1/1 [00:00<00:00, 103.90it/s]\n",
      "Batches: 100%|██████████| 1/1 [00:00<00:00, 86.10it/s]\n",
      "Batches: 100%|██████████| 1/1 [00:00<00:00, 45.78it/s]\n",
      "Batches: 100%|██████████| 1/1 [00:00<00:00, 81.90it/s]\n",
      "Batches: 100%|██████████| 1/1 [00:00<00:00, 75.49it/s]\n",
      "Batches: 100%|██████████| 1/1 [00:00<00:00, 59.76it/s]\n",
      "Batches: 100%|██████████| 1/1 [00:00<00:00, 90.55it/s]\n",
      "Batches: 100%|██████████| 1/1 [00:00<00:00, 107.89it/s]\n",
      "Batches: 100%|██████████| 1/1 [00:00<00:00, 98.04it/s]\n",
      "Batches: 100%|██████████| 1/1 [00:00<00:00, 88.03it/s]\n",
      "Batches: 100%|██████████| 1/1 [00:00<00:00, 97.87it/s]\n",
      "Batches: 100%|██████████| 1/1 [00:00<00:00, 74.26it/s]\n",
      "Batches: 100%|██████████| 1/1 [00:00<00:00, 77.17it/s]\n",
      "Batches: 100%|██████████| 1/1 [00:00<00:00, 93.59it/s]\n",
      "Batches: 100%|██████████| 1/1 [00:00<00:00, 95.60it/s]\n",
      "Batches: 100%|██████████| 1/1 [00:00<00:00, 32.66it/s]\n",
      "Batches: 100%|██████████| 1/1 [00:00<00:00, 93.09it/s]\n",
      "Batches: 100%|██████████| 1/1 [00:00<00:00, 77.37it/s]\n",
      "Batches: 100%|██████████| 1/1 [00:00<00:00, 94.45it/s]\n",
      "Batches: 100%|██████████| 1/1 [00:00<00:00, 81.47it/s]\n",
      "Batches: 100%|██████████| 1/1 [00:00<00:00, 128.42it/s]\n",
      "Batches: 100%|██████████| 1/1 [00:00<00:00, 133.19it/s]\n",
      "Batches: 100%|██████████| 1/1 [00:00<00:00, 138.62it/s]\n",
      "Batches: 100%|██████████| 1/1 [00:00<00:00, 77.95it/s]\n",
      "Batches: 100%|██████████| 1/1 [00:00<00:00, 106.54it/s]\n",
      "Batches: 100%|██████████| 1/1 [00:00<00:00, 110.78it/s]\n",
      "Batches: 100%|██████████| 1/1 [00:00<00:00, 17.66it/s]\n",
      "Batches: 100%|██████████| 1/1 [00:00<00:00, 30.65it/s]\n",
      "Batches: 100%|██████████| 1/1 [00:00<00:00, 32.92it/s]\n",
      "Batches: 100%|██████████| 1/1 [00:00<00:00, 93.07it/s]\n",
      "Batches: 100%|██████████| 1/1 [00:00<00:00, 50.69it/s]\n",
      "Batches: 100%|██████████| 1/1 [00:00<00:00, 50.26it/s]\n",
      "Batches: 100%|██████████| 1/1 [00:00<00:00, 144.30it/s]\n",
      "Batches: 100%|██████████| 1/1 [00:00<00:00, 140.31it/s]\n",
      "Batches: 100%|██████████| 1/1 [00:00<00:00, 118.43it/s]\n",
      "Batches: 100%|██████████| 1/1 [00:00<00:00, 102.72it/s]\n",
      "Batches: 100%|██████████| 1/1 [00:00<00:00, 82.81it/s]\n",
      "Batches: 100%|██████████| 1/1 [00:00<00:00, 75.35it/s]\n",
      "Batches: 100%|██████████| 1/1 [00:00<00:00, 114.17it/s]\n",
      "Batches: 100%|██████████| 1/1 [00:00<00:00, 91.64it/s]\n",
      "Batches: 100%|██████████| 1/1 [00:00<00:00, 76.98it/s]\n",
      "Batches: 100%|██████████| 1/1 [00:00<00:00, 87.67it/s]\n",
      "Batches: 100%|██████████| 1/1 [00:00<00:00, 96.71it/s]\n",
      "Batches: 100%|██████████| 1/1 [00:00<00:00, 86.75it/s]\n",
      "Batches: 100%|██████████| 1/1 [00:00<00:00, 106.31it/s]\n",
      "Batches: 100%|██████████| 1/1 [00:00<00:00, 95.10it/s]\n",
      "Batches: 100%|██████████| 1/1 [00:00<00:00, 84.98it/s]\n",
      "Batches: 100%|██████████| 1/1 [00:00<00:00, 92.89it/s]\n",
      "Batches: 100%|██████████| 1/1 [00:00<00:00, 98.09it/s]\n",
      "Batches: 100%|██████████| 1/1 [00:00<00:00, 98.82it/s]\n",
      "Batches: 100%|██████████| 1/1 [00:00<00:00, 99.58it/s]\n",
      "Batches: 100%|██████████| 1/1 [00:00<00:00, 89.86it/s]\n",
      "Batches: 100%|██████████| 1/1 [00:00<00:00, 33.15it/s]\n",
      "Batches: 100%|██████████| 1/1 [00:00<00:00, 83.49it/s]\n",
      "Batches: 100%|██████████| 1/1 [00:00<00:00, 97.17it/s]\n",
      "Batches: 100%|██████████| 1/1 [00:00<00:00, 99.39it/s]\n",
      "Batches: 100%|██████████| 1/1 [00:00<00:00, 95.86it/s]\n",
      "Batches: 100%|██████████| 1/1 [00:00<00:00, 103.09it/s]\n",
      "Batches: 100%|██████████| 1/1 [00:00<00:00, 27.14it/s]\n",
      "Batches: 100%|██████████| 1/1 [00:00<00:00, 70.75it/s]\n",
      "Batches: 100%|██████████| 1/1 [00:00<00:00, 90.13it/s]\n",
      "Batches: 100%|██████████| 1/1 [00:00<00:00, 107.27it/s]\n",
      "Batches: 100%|██████████| 1/1 [00:00<00:00, 104.98it/s]\n",
      "Batches: 100%|██████████| 1/1 [00:00<00:00, 102.47it/s]\n",
      "Batches: 100%|██████████| 1/1 [00:00<00:00, 87.53it/s]\n",
      "Batches: 100%|██████████| 1/1 [00:00<00:00, 74.79it/s]\n",
      "Batches: 100%|██████████| 1/1 [00:00<00:00, 91.38it/s]\n",
      "Batches: 100%|██████████| 1/1 [00:00<00:00, 90.95it/s]\n",
      "Batches: 100%|██████████| 1/1 [00:00<00:00, 80.62it/s]\n",
      "Batches: 100%|██████████| 1/1 [00:00<00:00, 94.13it/s]\n",
      "Batches: 100%|██████████| 1/1 [00:00<00:00, 98.85it/s]\n",
      "Batches: 100%|██████████| 1/1 [00:00<00:00, 97.69it/s]\n",
      "Batches: 100%|██████████| 1/1 [00:00<00:00, 93.90it/s]\n",
      "Batches: 100%|██████████| 1/1 [00:00<00:00, 83.13it/s]\n",
      "Batches: 100%|██████████| 1/1 [00:00<00:00, 13.30it/s]\n",
      "Batches: 100%|██████████| 1/1 [00:00<00:00, 43.83it/s]\n",
      "Batches: 100%|██████████| 1/1 [00:00<00:00, 44.11it/s]\n",
      "Batches: 100%|██████████| 1/1 [00:00<00:00, 74.70it/s]\n",
      "Batches: 100%|██████████| 1/1 [00:00<00:00, 104.19it/s]\n",
      "Batches: 100%|██████████| 1/1 [00:00<00:00, 85.35it/s]\n",
      "Batches: 100%|██████████| 1/1 [00:00<00:00, 90.04it/s]\n",
      "Batches: 100%|██████████| 1/1 [00:00<00:00, 88.58it/s]\n",
      "Batches: 100%|██████████| 1/1 [00:00<00:00, 65.09it/s]\n",
      "Batches: 100%|██████████| 1/1 [00:00<00:00, 65.85it/s]\n",
      "Batches: 100%|██████████| 1/1 [00:00<00:00, 85.13it/s]\n",
      "Batches: 100%|██████████| 1/1 [00:00<00:00, 81.56it/s]\n",
      "Batches: 100%|██████████| 1/1 [00:00<00:00, 76.92it/s]\n",
      "Batches: 100%|██████████| 1/1 [00:00<00:00, 89.60it/s]\n",
      "Batches: 100%|██████████| 1/1 [00:00<00:00, 79.18it/s]\n",
      "Batches: 100%|██████████| 1/1 [00:00<00:00, 72.77it/s]\n",
      "Batches: 100%|██████████| 1/1 [00:00<00:00, 85.48it/s]\n",
      "Batches: 100%|██████████| 1/1 [00:00<00:00, 87.50it/s]\n",
      "Batches: 100%|██████████| 1/1 [00:00<00:00, 85.32it/s]\n",
      "Batches: 100%|██████████| 1/1 [00:00<00:00, 40.89it/s]\n",
      "Batches: 100%|██████████| 1/1 [00:00<00:00, 51.57it/s]\n",
      "Batches: 100%|██████████| 1/1 [00:00<00:00, 82.27it/s]\n",
      "Batches: 100%|██████████| 1/1 [00:00<00:00, 89.83it/s]\n",
      "Batches: 100%|██████████| 1/1 [00:00<00:00, 93.65it/s]\n",
      "Batches: 100%|██████████| 1/1 [00:00<00:00, 88.64it/s]\n",
      "Batches: 100%|██████████| 1/1 [00:00<00:00, 123.32it/s]\n",
      "Batches: 100%|██████████| 1/1 [00:00<00:00, 91.96it/s]\n",
      "Batches: 100%|██████████| 1/1 [00:00<00:00, 87.47it/s]\n",
      "Batches: 100%|██████████| 1/1 [00:00<00:00, 69.23it/s]\n",
      "Batches: 100%|██████████| 1/1 [00:00<00:00, 129.73it/s]\n",
      "Batches: 100%|██████████| 1/1 [00:00<00:00, 114.97it/s]\n",
      "Batches: 100%|██████████| 1/1 [00:00<00:00, 122.02it/s]\n",
      "Batches: 100%|██████████| 1/1 [00:00<00:00, 111.65it/s]\n",
      "Batches: 100%|██████████| 1/1 [00:00<00:00, 62.70it/s]\n",
      "Batches: 100%|██████████| 1/1 [00:00<00:00, 61.19it/s]\n",
      "Batches: 100%|██████████| 1/1 [00:00<00:00, 53.76it/s]\n",
      "Batches: 100%|██████████| 1/1 [00:00<00:00, 59.78it/s]\n",
      "Batches: 100%|██████████| 1/1 [00:00<00:00, 41.86it/s]\n",
      "Batches: 100%|██████████| 1/1 [00:00<00:00, 96.61it/s]\n",
      "Batches: 100%|██████████| 1/1 [00:00<00:00, 100.08it/s]\n",
      "Batches: 100%|██████████| 1/1 [00:00<00:00, 98.92it/s]\n",
      "Batches: 100%|██████████| 1/1 [00:00<00:00, 102.92it/s]\n",
      "Batches: 100%|██████████| 1/1 [00:00<00:00, 17.87it/s]\n",
      "Batches: 100%|██████████| 1/1 [00:00<00:00, 52.01it/s]\n",
      "Batches: 100%|██████████| 1/1 [00:00<00:00, 104.89it/s]\n",
      "Batches: 100%|██████████| 1/1 [00:00<00:00, 104.80it/s]\n",
      "Batches: 100%|██████████| 1/1 [00:00<00:00, 93.27it/s]\n",
      "Batches: 100%|██████████| 1/1 [00:00<00:00, 104.33it/s]\n",
      "Batches: 100%|██████████| 1/1 [00:00<00:00, 34.46it/s]\n",
      "Batches: 100%|██████████| 1/1 [00:00<00:00, 72.10it/s]\n",
      "Batches: 100%|██████████| 1/1 [00:00<00:00, 54.66it/s]\n",
      "Batches: 100%|██████████| 1/1 [00:00<00:00, 87.15it/s]\n",
      "Batches: 100%|██████████| 1/1 [00:00<00:00, 74.75it/s]\n",
      "Batches: 100%|██████████| 1/1 [00:00<00:00, 94.91it/s]\n",
      "Batches: 100%|██████████| 1/1 [00:00<00:00, 67.73it/s]\n",
      "Batches: 100%|██████████| 1/1 [00:00<00:00, 67.34it/s]\n",
      "Batches: 100%|██████████| 1/1 [00:00<00:00, 39.79it/s]\n",
      "Batches: 100%|██████████| 1/1 [00:00<00:00, 91.84it/s]\n",
      "Batches: 100%|██████████| 1/1 [00:00<00:00, 95.05it/s]\n",
      "Batches: 100%|██████████| 1/1 [00:00<00:00, 77.69it/s]\n",
      "Batches: 100%|██████████| 1/1 [00:00<00:00, 56.48it/s]\n",
      "Batches: 100%|██████████| 1/1 [00:00<00:00, 81.05it/s]\n",
      "Batches: 100%|██████████| 1/1 [00:00<00:00, 92.54it/s]\n",
      "Batches: 100%|██████████| 1/1 [00:00<00:00, 96.32it/s]\n",
      "Batches: 100%|██████████| 1/1 [00:00<00:00, 94.57it/s]\n",
      "Batches: 100%|██████████| 1/1 [00:00<00:00, 16.81it/s]\n",
      "Batches: 100%|██████████| 1/1 [00:00<00:00, 40.33it/s]\n",
      "Batches: 100%|██████████| 1/1 [00:00<00:00, 81.77it/s]\n",
      "Batches: 100%|██████████| 1/1 [00:00<00:00, 84.36it/s]\n",
      "Batches: 100%|██████████| 1/1 [00:00<00:00, 94.41it/s]\n",
      "Batches: 100%|██████████| 1/1 [00:00<00:00, 95.49it/s]\n",
      "Batches: 100%|██████████| 1/1 [00:00<00:00, 89.97it/s]\n",
      "Batches: 100%|██████████| 1/1 [00:00<00:00, 97.53it/s]\n",
      "Batches: 100%|██████████| 1/1 [00:00<00:00, 88.93it/s]\n",
      "Batches: 100%|██████████| 1/1 [00:00<00:00, 81.52it/s]\n",
      "Batches: 100%|██████████| 1/1 [00:00<00:00, 75.84it/s]\n",
      "Batches: 100%|██████████| 1/1 [00:00<00:00, 73.94it/s]\n",
      "Batches: 100%|██████████| 1/1 [00:00<00:00, 70.94it/s]\n",
      "Batches: 100%|██████████| 1/1 [00:00<00:00, 64.11it/s]\n",
      "Batches: 100%|██████████| 1/1 [00:00<00:00, 71.55it/s]\n",
      "Batches: 100%|██████████| 1/1 [00:00<00:00, 122.34it/s]\n",
      "Batches: 100%|██████████| 1/1 [00:00<00:00, 33.37it/s]\n",
      "Batches: 100%|██████████| 1/1 [00:00<00:00, 51.13it/s]\n",
      "Batches: 100%|██████████| 1/1 [00:00<00:00, 80.59it/s]\n",
      "Batches: 100%|██████████| 1/1 [00:00<00:00, 70.06it/s]\n",
      "Batches: 100%|██████████| 1/1 [00:00<00:00, 80.62it/s]\n",
      "Batches: 100%|██████████| 1/1 [00:00<00:00, 87.57it/s]\n",
      "Batches: 100%|██████████| 1/1 [00:00<00:00, 82.00it/s]\n",
      "Batches: 100%|██████████| 1/1 [00:00<00:00, 97.88it/s]\n",
      "Batches: 100%|██████████| 1/1 [00:00<00:00, 90.57it/s]\n",
      "Batches: 100%|██████████| 1/1 [00:00<00:00, 85.28it/s]\n",
      "Batches: 100%|██████████| 1/1 [00:00<00:00, 88.13it/s]\n",
      "Batches: 100%|██████████| 1/1 [00:00<00:00, 83.09it/s]\n",
      "Batches: 100%|██████████| 1/1 [00:00<00:00, 27.33it/s]\n",
      "Batches: 100%|██████████| 1/1 [00:00<00:00, 88.01it/s]\n",
      "Batches: 100%|██████████| 1/1 [00:00<00:00, 92.14it/s]\n",
      "Batches: 100%|██████████| 1/1 [00:00<00:00, 51.05it/s]\n",
      "Batches: 100%|██████████| 1/1 [00:00<00:00, 64.53it/s]\n",
      "Batches: 100%|██████████| 1/1 [00:00<00:00, 84.58it/s]\n",
      "Batches: 100%|██████████| 1/1 [00:00<00:00, 80.65it/s]\n",
      "Batches: 100%|██████████| 1/1 [00:00<00:00, 93.74it/s]\n",
      "Batches: 100%|██████████| 1/1 [00:00<00:00, 93.60it/s]\n",
      "Batches: 100%|██████████| 1/1 [00:00<00:00, 91.55it/s]\n",
      "Batches: 100%|██████████| 1/1 [00:00<00:00, 91.45it/s]\n",
      "Batches: 100%|██████████| 1/1 [00:00<00:00, 101.06it/s]\n",
      "Batches: 100%|██████████| 1/1 [00:00<00:00, 99.48it/s]\n",
      "Batches: 100%|██████████| 1/1 [00:00<00:00, 93.83it/s]\n",
      "Batches: 100%|██████████| 1/1 [00:00<00:00, 134.80it/s]\n",
      "Batches: 100%|██████████| 1/1 [00:00<00:00, 114.67it/s]\n",
      "Batches: 100%|██████████| 1/1 [00:00<00:00, 95.11it/s]\n",
      "Batches: 100%|██████████| 1/1 [00:00<00:00, 94.37it/s]\n",
      "Batches: 100%|██████████| 1/1 [00:00<00:00, 99.15it/s]\n",
      "Batches: 100%|██████████| 1/1 [00:00<00:00, 82.51it/s]\n",
      "Batches: 100%|██████████| 1/1 [00:00<00:00, 87.56it/s]\n",
      "Batches: 100%|██████████| 1/1 [00:00<00:00, 84.11it/s]\n",
      "Batches: 100%|██████████| 1/1 [00:00<00:00, 100.69it/s]\n",
      "Batches: 100%|██████████| 1/1 [00:00<00:00, 98.16it/s]\n",
      "Batches: 100%|██████████| 1/1 [00:00<00:00, 87.21it/s]\n",
      "Batches: 100%|██████████| 1/1 [00:00<00:00, 77.78it/s]\n",
      "Batches: 100%|██████████| 1/1 [00:00<00:00, 100.05it/s]\n",
      "Batches: 100%|██████████| 1/1 [00:00<00:00, 94.81it/s]\n",
      "Batches: 100%|██████████| 1/1 [00:00<00:00, 87.58it/s]\n",
      "Batches: 100%|██████████| 1/1 [00:00<00:00, 99.84it/s]\n",
      "Batches: 100%|██████████| 1/1 [00:00<00:00, 101.25it/s]\n",
      "Batches: 100%|██████████| 1/1 [00:00<00:00, 75.65it/s]\n",
      "Batches: 100%|██████████| 1/1 [00:00<00:00, 105.44it/s]\n",
      "Batches: 100%|██████████| 1/1 [00:00<00:00, 21.25it/s]\n",
      "Batches: 100%|██████████| 1/1 [00:00<00:00, 48.78it/s]\n",
      "Batches: 100%|██████████| 1/1 [00:00<00:00, 74.96it/s]\n",
      "Batches: 100%|██████████| 1/1 [00:00<00:00, 60.54it/s]\n",
      "Batches: 100%|██████████| 1/1 [00:00<00:00, 87.35it/s]\n",
      "Batches: 100%|██████████| 1/1 [00:00<00:00, 51.05it/s]\n",
      "Batches: 100%|██████████| 1/1 [00:00<00:00, 96.69it/s]\n",
      "Batches: 100%|██████████| 1/1 [00:00<00:00, 46.47it/s]\n",
      "Batches: 100%|██████████| 1/1 [00:00<00:00, 90.60it/s]\n",
      "Batches: 100%|██████████| 1/1 [00:00<00:00, 85.09it/s]\n",
      "Batches: 100%|██████████| 1/1 [00:00<00:00, 88.49it/s]\n",
      "Batches: 100%|██████████| 1/1 [00:00<00:00, 89.41it/s]\n",
      "Batches: 100%|██████████| 1/1 [00:00<00:00, 79.03it/s]\n",
      "Batches: 100%|██████████| 1/1 [00:00<00:00, 71.53it/s]\n",
      "Batches: 100%|██████████| 1/1 [00:00<00:00, 36.83it/s]\n",
      "Batches: 100%|██████████| 1/1 [00:00<00:00, 36.01it/s]\n",
      "Batches: 100%|██████████| 1/1 [00:00<00:00, 49.39it/s]\n",
      "Batches: 100%|██████████| 1/1 [00:00<00:00, 34.82it/s]\n",
      "Batches: 100%|██████████| 1/1 [00:00<00:00, 74.27it/s]\n",
      "Batches: 100%|██████████| 1/1 [00:00<00:00, 47.88it/s]\n",
      "Batches: 100%|██████████| 1/1 [00:00<00:00, 70.34it/s]\n",
      "Batches: 100%|██████████| 1/1 [00:00<00:00, 83.61it/s]\n",
      "Batches: 100%|██████████| 1/1 [00:00<00:00, 128.29it/s]\n",
      "Batches: 100%|██████████| 1/1 [00:00<00:00, 112.57it/s]\n",
      "Batches: 100%|██████████| 1/1 [00:00<00:00, 85.87it/s]\n",
      "Batches: 100%|██████████| 1/1 [00:00<00:00, 125.74it/s]\n",
      "Batches: 100%|██████████| 1/1 [00:00<00:00, 101.98it/s]\n",
      "Batches: 100%|██████████| 1/1 [00:00<00:00, 129.92it/s]\n",
      "Batches: 100%|██████████| 1/1 [00:00<00:00, 96.03it/s]\n",
      "Batches: 100%|██████████| 1/1 [00:00<00:00, 114.49it/s]\n",
      "Batches: 100%|██████████| 1/1 [00:00<00:00, 118.45it/s]\n",
      "Batches: 100%|██████████| 1/1 [00:00<00:00, 105.72it/s]\n",
      "Batches: 100%|██████████| 1/1 [00:00<00:00, 120.47it/s]\n",
      "Batches: 100%|██████████| 1/1 [00:00<00:00, 122.90it/s]\n",
      "Batches: 100%|██████████| 1/1 [00:00<00:00, 81.20it/s]\n",
      "Batches: 100%|██████████| 1/1 [00:00<00:00, 111.00it/s]\n",
      "Batches: 100%|██████████| 1/1 [00:00<00:00, 110.91it/s]\n",
      "Batches: 100%|██████████| 1/1 [00:00<00:00, 28.62it/s]\n",
      "Batches: 100%|██████████| 1/1 [00:00<00:00, 83.87it/s]\n",
      "Batches: 100%|██████████| 1/1 [00:00<00:00, 124.52it/s]\n",
      "Batches: 100%|██████████| 1/1 [00:00<00:00, 76.95it/s]\n",
      "Batches: 100%|██████████| 1/1 [00:00<00:00, 81.53it/s]\n",
      "Batches: 100%|██████████| 1/1 [00:00<00:00, 101.45it/s]\n",
      "Batches: 100%|██████████| 1/1 [00:00<00:00, 99.58it/s]\n",
      "Batches: 100%|██████████| 1/1 [00:00<00:00, 28.34it/s]\n",
      "Batches: 100%|██████████| 1/1 [00:00<00:00, 46.71it/s]\n",
      "Batches: 100%|██████████| 1/1 [00:00<00:00, 89.07it/s]\n",
      "Batches: 100%|██████████| 1/1 [00:00<00:00, 93.35it/s]\n",
      "Batches: 100%|██████████| 1/1 [00:00<00:00, 90.38it/s]\n",
      "Batches: 100%|██████████| 1/1 [00:00<00:00, 86.42it/s]\n",
      "Batches: 100%|██████████| 1/1 [00:00<00:00, 84.97it/s]\n",
      "Batches: 100%|██████████| 1/1 [00:00<00:00, 75.76it/s]\n",
      "Batches: 100%|██████████| 1/1 [00:00<00:00, 56.83it/s]\n",
      "Batches: 100%|██████████| 1/1 [00:00<00:00, 82.03it/s]\n",
      "Batches: 100%|██████████| 1/1 [00:00<00:00, 61.25it/s]\n",
      "Batches: 100%|██████████| 1/1 [00:00<00:00, 59.89it/s]\n",
      "Batches: 100%|██████████| 1/1 [00:00<00:00, 40.72it/s]\n",
      "Batches: 100%|██████████| 1/1 [00:00<00:00, 119.34it/s]\n",
      "Batches: 100%|██████████| 1/1 [00:00<00:00, 104.66it/s]\n",
      "Batches: 100%|██████████| 1/1 [00:00<00:00, 96.77it/s]\n",
      "Batches: 100%|██████████| 1/1 [00:00<00:00, 95.36it/s]\n",
      "Batches: 100%|██████████| 1/1 [00:00<00:00, 92.42it/s]\n",
      "Batches: 100%|██████████| 1/1 [00:00<00:00, 113.87it/s]\n",
      "Batches: 100%|██████████| 1/1 [00:00<00:00, 102.80it/s]\n",
      "Batches: 100%|██████████| 1/1 [00:00<00:00, 115.69it/s]\n",
      "Batches: 100%|██████████| 1/1 [00:00<00:00, 124.66it/s]\n",
      "Batches: 100%|██████████| 1/1 [00:00<00:00, 134.25it/s]\n",
      "Batches: 100%|██████████| 1/1 [00:00<00:00, 135.92it/s]\n",
      "Batches: 100%|██████████| 1/1 [00:00<00:00, 128.33it/s]\n",
      "Batches: 100%|██████████| 1/1 [00:00<00:00, 26.17it/s]\n",
      "Batches: 100%|██████████| 1/1 [00:00<00:00, 67.80it/s]\n",
      "Batches: 100%|██████████| 1/1 [00:00<00:00, 116.67it/s]\n",
      "Batches: 100%|██████████| 1/1 [00:00<00:00, 124.98it/s]\n",
      "Batches: 100%|██████████| 1/1 [00:00<00:00, 100.05it/s]\n",
      "Batches: 100%|██████████| 1/1 [00:00<00:00, 51.82it/s]\n",
      "Batches: 100%|██████████| 1/1 [00:00<00:00, 80.21it/s]\n",
      "Batches: 100%|██████████| 1/1 [00:00<00:00, 88.79it/s]\n",
      "Batches: 100%|██████████| 1/1 [00:00<00:00, 38.89it/s]\n",
      "Batches: 100%|██████████| 1/1 [00:00<00:00, 47.96it/s]\n",
      "Batches: 100%|██████████| 1/1 [00:00<00:00, 58.38it/s]\n",
      "Batches: 100%|██████████| 1/1 [00:00<00:00, 125.08it/s]\n",
      "Batches: 100%|██████████| 1/1 [00:00<00:00, 122.24it/s]\n",
      "Batches: 100%|██████████| 1/1 [00:00<00:00, 121.37it/s]\n",
      "Batches: 100%|██████████| 1/1 [00:00<00:00, 116.62it/s]\n",
      "Batches: 100%|██████████| 1/1 [00:00<00:00, 121.77it/s]\n",
      "Batches: 100%|██████████| 1/1 [00:00<00:00, 116.82it/s]\n",
      "Batches: 100%|██████████| 1/1 [00:00<00:00, 124.56it/s]\n",
      "Batches: 100%|██████████| 1/1 [00:00<00:00, 134.72it/s]\n",
      "Batches: 100%|██████████| 1/1 [00:00<00:00, 126.69it/s]\n",
      "Batches: 100%|██████████| 1/1 [00:00<00:00, 119.91it/s]\n",
      "Batches: 100%|██████████| 1/1 [00:00<00:00, 104.30it/s]\n",
      "Batches: 100%|██████████| 1/1 [00:00<00:00, 90.16it/s]\n",
      "Batches: 100%|██████████| 1/1 [00:00<00:00, 114.97it/s]\n",
      "Batches: 100%|██████████| 1/1 [00:00<00:00, 104.84it/s]\n",
      "Batches: 100%|██████████| 1/1 [00:00<00:00, 30.77it/s]\n",
      "Batches: 100%|██████████| 1/1 [00:00<00:00, 34.08it/s]\n",
      "Batches: 100%|██████████| 1/1 [00:00<00:00, 63.87it/s]\n",
      "Batches: 100%|██████████| 1/1 [00:00<00:00, 59.08it/s]\n",
      "Batches: 100%|██████████| 1/1 [00:00<00:00, 88.32it/s]\n",
      "Batches: 100%|██████████| 1/1 [00:00<00:00, 40.12it/s]\n",
      "Batches: 100%|██████████| 1/1 [00:00<00:00, 38.84it/s]\n",
      "Batches: 100%|██████████| 1/1 [00:00<00:00, 40.82it/s]\n",
      "Batches: 100%|██████████| 1/1 [00:00<00:00, 72.34it/s]\n",
      "Batches: 100%|██████████| 1/1 [00:00<00:00, 81.99it/s]\n",
      "Batches: 100%|██████████| 1/1 [00:00<00:00, 66.30it/s]\n",
      "Batches: 100%|██████████| 1/1 [00:00<00:00, 98.01it/s]\n",
      "Batches: 100%|██████████| 1/1 [00:00<00:00, 91.24it/s]\n",
      "Batches: 100%|██████████| 1/1 [00:00<00:00, 92.57it/s]\n",
      "Batches: 100%|██████████| 1/1 [00:00<00:00, 118.80it/s]\n",
      "Batches: 100%|██████████| 1/1 [00:00<00:00, 118.08it/s]\n",
      "Batches: 100%|██████████| 1/1 [00:00<00:00, 135.74it/s]\n",
      "Batches: 100%|██████████| 1/1 [00:00<00:00, 124.59it/s]\n",
      "Batches: 100%|██████████| 1/1 [00:00<00:00, 127.71it/s]\n",
      "Batches: 100%|██████████| 1/1 [00:00<00:00, 127.08it/s]\n",
      "Batches: 100%|██████████| 1/1 [00:00<00:00, 128.65it/s]\n",
      "Batches: 100%|██████████| 1/1 [00:00<00:00, 130.41it/s]\n",
      "Batches: 100%|██████████| 1/1 [00:00<00:00, 127.47it/s]\n",
      "Batches: 100%|██████████| 1/1 [00:00<00:00, 131.25it/s]\n",
      "Batches: 100%|██████████| 1/1 [00:00<00:00, 126.67it/s]\n",
      "Batches: 100%|██████████| 1/1 [00:00<00:00, 130.50it/s]\n",
      "Batches: 100%|██████████| 1/1 [00:00<00:00, 121.10it/s]\n",
      "Batches: 100%|██████████| 1/1 [00:00<00:00, 53.94it/s]\n",
      "Batches: 100%|██████████| 1/1 [00:00<00:00, 51.24it/s]\n",
      "Batches: 100%|██████████| 1/1 [00:00<00:00, 14.13it/s]\n",
      "Batches: 100%|██████████| 1/1 [00:00<00:00, 31.73it/s]\n",
      "Batches: 100%|██████████| 1/1 [00:00<00:00, 48.57it/s]\n",
      "Batches: 100%|██████████| 1/1 [00:00<00:00, 73.04it/s]\n",
      "Batches: 100%|██████████| 1/1 [00:00<00:00, 36.21it/s]\n",
      "Batches: 100%|██████████| 1/1 [00:00<00:00, 54.25it/s]\n",
      "Batches: 100%|██████████| 1/1 [00:00<00:00, 93.31it/s]\n",
      "Batches: 100%|██████████| 1/1 [00:00<00:00, 106.10it/s]\n",
      "Batches: 100%|██████████| 1/1 [00:00<00:00, 84.33it/s]\n",
      "Batches: 100%|██████████| 1/1 [00:00<00:00, 122.10it/s]\n",
      "Batches: 100%|██████████| 1/1 [00:00<00:00, 71.08it/s]\n",
      "Batches: 100%|██████████| 1/1 [00:00<00:00, 94.14it/s]\n",
      "Batches: 100%|██████████| 1/1 [00:00<00:00, 91.61it/s]\n",
      "Batches: 100%|██████████| 1/1 [00:00<00:00, 131.30it/s]\n",
      "Batches: 100%|██████████| 1/1 [00:00<00:00, 76.87it/s]\n",
      "Batches: 100%|██████████| 1/1 [00:00<00:00, 49.52it/s]\n",
      "Batches: 100%|██████████| 1/1 [00:00<00:00, 86.77it/s]\n",
      "Batches: 100%|██████████| 1/1 [00:00<00:00, 97.08it/s]\n",
      "Batches: 100%|██████████| 1/1 [00:00<00:00, 83.07it/s]\n",
      "Batches: 100%|██████████| 1/1 [00:00<00:00, 79.55it/s]\n",
      "Batches: 100%|██████████| 1/1 [00:00<00:00, 83.61it/s]\n",
      "Batches: 100%|██████████| 1/1 [00:00<00:00, 105.80it/s]\n",
      "Batches: 100%|██████████| 1/1 [00:00<00:00, 91.70it/s]\n",
      "Batches: 100%|██████████| 1/1 [00:00<00:00, 67.02it/s]\n",
      "Batches: 100%|██████████| 1/1 [00:00<00:00, 32.00it/s]\n",
      "Batches: 100%|██████████| 1/1 [00:00<00:00, 56.83it/s]\n",
      "Batches: 100%|██████████| 1/1 [00:00<00:00, 95.51it/s]\n",
      "Batches: 100%|██████████| 1/1 [00:00<00:00, 105.90it/s]\n",
      "Batches: 100%|██████████| 1/1 [00:00<00:00, 25.38it/s]\n",
      "Batches: 100%|██████████| 1/1 [00:00<00:00, 34.92it/s]\n",
      "Batches: 100%|██████████| 1/1 [00:00<00:00, 33.57it/s]\n",
      "Batches: 100%|██████████| 1/1 [00:00<00:00, 41.83it/s]\n",
      "Batches: 100%|██████████| 1/1 [00:00<00:00, 34.91it/s]\n",
      "Batches: 100%|██████████| 1/1 [00:00<00:00, 19.99it/s]\n",
      "Batches: 100%|██████████| 1/1 [00:00<00:00, 34.67it/s]\n",
      "Batches: 100%|██████████| 1/1 [00:00<00:00, 98.61it/s]\n",
      "Batches: 100%|██████████| 1/1 [00:00<00:00, 89.33it/s]\n",
      "Batches: 100%|██████████| 1/1 [00:00<00:00, 92.76it/s]\n",
      "Batches: 100%|██████████| 1/1 [00:00<00:00, 137.18it/s]\n",
      "Batches: 100%|██████████| 1/1 [00:00<00:00, 64.52it/s]\n",
      "Batches: 100%|██████████| 1/1 [00:00<00:00, 117.62it/s]\n",
      "Batches: 100%|██████████| 1/1 [00:00<00:00, 128.62it/s]\n",
      "Batches: 100%|██████████| 1/1 [00:00<00:00, 87.93it/s]\n",
      "Batches: 100%|██████████| 1/1 [00:00<00:00, 127.75it/s]\n",
      "Batches: 100%|██████████| 1/1 [00:00<00:00, 13.59it/s]\n",
      "Batches: 100%|██████████| 1/1 [00:00<00:00, 71.22it/s]\n",
      "Batches: 100%|██████████| 1/1 [00:00<00:00, 87.51it/s]\n",
      "Batches: 100%|██████████| 1/1 [00:00<00:00, 104.80it/s]\n",
      "Batches: 100%|██████████| 1/1 [00:00<00:00, 69.32it/s]\n",
      "Batches: 100%|██████████| 1/1 [00:00<00:00, 78.47it/s]\n",
      "Batches: 100%|██████████| 1/1 [00:00<00:00, 130.72it/s]\n",
      "Batches: 100%|██████████| 1/1 [00:00<00:00, 145.07it/s]\n",
      "Batches: 100%|██████████| 1/1 [00:00<00:00, 49.52it/s]\n",
      "Batches: 100%|██████████| 1/1 [00:00<00:00, 98.36it/s]\n",
      "Batches: 100%|██████████| 1/1 [00:00<00:00, 63.88it/s]\n",
      "Batches: 100%|██████████| 1/1 [00:00<00:00, 54.07it/s]\n",
      "Batches: 100%|██████████| 1/1 [00:00<00:00, 76.06it/s]\n",
      "Batches: 100%|██████████| 1/1 [00:00<00:00, 122.59it/s]\n",
      "Batches: 100%|██████████| 1/1 [00:00<00:00, 125.04it/s]\n",
      "Batches: 100%|██████████| 1/1 [00:00<00:00, 123.98it/s]\n",
      "Batches: 100%|██████████| 1/1 [00:00<00:00, 124.11it/s]\n",
      "Batches: 100%|██████████| 1/1 [00:00<00:00, 147.52it/s]\n",
      "Batches: 100%|██████████| 1/1 [00:00<00:00, 113.08it/s]\n",
      "Batches: 100%|██████████| 1/1 [00:00<00:00, 129.12it/s]\n",
      "Batches: 100%|██████████| 1/1 [00:00<00:00, 117.91it/s]\n",
      "Batches: 100%|██████████| 1/1 [00:00<00:00, 117.72it/s]\n",
      "Batches: 100%|██████████| 1/1 [00:00<00:00, 128.88it/s]\n",
      "Batches: 100%|██████████| 1/1 [00:00<00:00, 141.84it/s]\n",
      "Batches: 100%|██████████| 1/1 [00:00<00:00, 148.08it/s]\n",
      "Batches: 100%|██████████| 1/1 [00:00<00:00, 126.09it/s]\n",
      "Batches: 100%|██████████| 1/1 [00:00<00:00, 137.93it/s]\n",
      "Batches: 100%|██████████| 1/1 [00:00<00:00, 139.86it/s]\n",
      "Batches: 100%|██████████| 1/1 [00:00<00:00, 132.31it/s]\n",
      "Batches: 100%|██████████| 1/1 [00:00<00:00, 137.21it/s]\n",
      "Batches: 100%|██████████| 1/1 [00:00<00:00, 134.59it/s]\n",
      "Batches: 100%|██████████| 1/1 [00:00<00:00, 150.13it/s]\n",
      "Batches: 100%|██████████| 1/1 [00:00<00:00, 130.28it/s]\n",
      "Batches: 100%|██████████| 1/1 [00:00<00:00, 52.14it/s]\n",
      "Batches: 100%|██████████| 1/1 [00:00<00:00, 94.23it/s]\n",
      "Batches: 100%|██████████| 1/1 [00:00<00:00, 95.59it/s]\n",
      "Batches: 100%|██████████| 1/1 [00:00<00:00, 69.24it/s]\n",
      "Batches: 100%|██████████| 1/1 [00:00<00:00, 90.71it/s]\n",
      "Batches: 100%|██████████| 1/1 [00:00<00:00, 79.07it/s]\n",
      "Batches: 100%|██████████| 1/1 [00:00<00:00, 92.51it/s]\n",
      "Batches: 100%|██████████| 1/1 [00:00<00:00, 103.52it/s]\n",
      "Batches: 100%|██████████| 1/1 [00:00<00:00, 98.22it/s]\n",
      "Batches: 100%|██████████| 1/1 [00:00<00:00, 101.12it/s]\n",
      "Batches: 100%|██████████| 1/1 [00:00<00:00, 103.82it/s]\n",
      "Batches: 100%|██████████| 1/1 [00:00<00:00, 131.88it/s]\n",
      "Batches: 100%|██████████| 1/1 [00:00<00:00, 88.36it/s]\n",
      "Batches: 100%|██████████| 1/1 [00:00<00:00, 101.46it/s]\n",
      "Batches: 100%|██████████| 1/1 [00:00<00:00, 95.59it/s]\n",
      "Batches: 100%|██████████| 1/1 [00:00<00:00, 109.29it/s]\n",
      "Batches: 100%|██████████| 1/1 [00:00<00:00, 101.11it/s]\n",
      "Batches: 100%|██████████| 1/1 [00:00<00:00, 94.24it/s]\n",
      "Batches: 100%|██████████| 1/1 [00:00<00:00, 104.24it/s]\n",
      "Batches: 100%|██████████| 1/1 [00:00<00:00, 33.78it/s]\n",
      "Batches: 100%|██████████| 1/1 [00:00<00:00, 118.39it/s]\n",
      "Batches: 100%|██████████| 1/1 [00:00<00:00, 80.31it/s]\n",
      "Batches: 100%|██████████| 1/1 [00:00<00:00, 80.98it/s]\n",
      "Batches: 100%|██████████| 1/1 [00:00<00:00, 81.59it/s]\n",
      "Batches: 100%|██████████| 1/1 [00:00<00:00, 46.61it/s]\n",
      "Batches: 100%|██████████| 1/1 [00:00<00:00, 92.37it/s]\n",
      "Batches: 100%|██████████| 1/1 [00:00<00:00, 79.07it/s]\n",
      "Batches: 100%|██████████| 1/1 [00:00<00:00, 106.41it/s]\n",
      "Batches: 100%|██████████| 1/1 [00:00<00:00, 80.63it/s]\n",
      "Batches: 100%|██████████| 1/1 [00:00<00:00, 89.26it/s]\n",
      "Batches: 100%|██████████| 1/1 [00:00<00:00, 17.61it/s]\n",
      "Batches: 100%|██████████| 1/1 [00:00<00:00, 88.68it/s]\n",
      "Batches: 100%|██████████| 1/1 [00:00<00:00, 93.28it/s]\n",
      "Batches: 100%|██████████| 1/1 [00:00<00:00, 60.85it/s]\n",
      "Batches: 100%|██████████| 1/1 [00:00<00:00, 75.74it/s]\n",
      "Batches: 100%|██████████| 1/1 [00:00<00:00, 93.86it/s]\n",
      "Batches: 100%|██████████| 1/1 [00:00<00:00, 90.50it/s]\n",
      "Batches: 100%|██████████| 1/1 [00:00<00:00, 80.91it/s]\n",
      "Batches: 100%|██████████| 1/1 [00:00<00:00, 85.78it/s]\n",
      "Batches: 100%|██████████| 1/1 [00:00<00:00, 80.72it/s]\n",
      "Batches: 100%|██████████| 1/1 [00:00<00:00, 82.22it/s]\n",
      "Batches: 100%|██████████| 1/1 [00:00<00:00, 86.69it/s]\n",
      "Batches: 100%|██████████| 1/1 [00:00<00:00, 116.59it/s]\n",
      "Batches: 100%|██████████| 1/1 [00:00<00:00, 69.50it/s]\n",
      "Batches: 100%|██████████| 1/1 [00:00<00:00, 64.34it/s]\n",
      "Batches: 100%|██████████| 1/1 [00:00<00:00, 102.90it/s]\n",
      "Batches: 100%|██████████| 1/1 [00:00<00:00, 100.83it/s]\n",
      "Batches: 100%|██████████| 1/1 [00:00<00:00, 96.47it/s]\n",
      "Batches: 100%|██████████| 1/1 [00:00<00:00, 94.64it/s]\n",
      "Batches: 100%|██████████| 1/1 [00:00<00:00, 86.70it/s]\n",
      "Batches: 100%|██████████| 1/1 [00:00<00:00, 78.50it/s]\n",
      "Batches: 100%|██████████| 1/1 [00:00<00:00, 100.42it/s]\n",
      "Batches: 100%|██████████| 1/1 [00:00<00:00, 52.83it/s]\n",
      "Batches: 100%|██████████| 1/1 [00:00<00:00, 39.26it/s]\n",
      "Batches: 100%|██████████| 1/1 [00:00<00:00, 31.78it/s]\n",
      "Batches: 100%|██████████| 1/1 [00:00<00:00, 78.56it/s]\n",
      "Batches: 100%|██████████| 1/1 [00:00<00:00, 99.47it/s]\n",
      "Batches: 100%|██████████| 1/1 [00:00<00:00, 100.98it/s]\n",
      "Batches: 100%|██████████| 1/1 [00:00<00:00, 94.71it/s]\n",
      "Batches: 100%|██████████| 1/1 [00:00<00:00, 103.87it/s]\n",
      "Batches: 100%|██████████| 1/1 [00:00<00:00, 86.23it/s]\n",
      "Batches: 100%|██████████| 1/1 [00:00<00:00, 103.12it/s]\n",
      "Batches: 100%|██████████| 1/1 [00:00<00:00, 92.16it/s]\n",
      "Batches: 100%|██████████| 1/1 [00:00<00:00, 81.26it/s]\n",
      "Batches: 100%|██████████| 1/1 [00:00<00:00, 71.71it/s]\n",
      "Batches: 100%|██████████| 1/1 [00:00<00:00, 93.56it/s]\n",
      "Batches: 100%|██████████| 1/1 [00:00<00:00, 92.44it/s]\n",
      "Batches: 100%|██████████| 1/1 [00:00<00:00, 102.38it/s]\n",
      "Batches: 100%|██████████| 1/1 [00:00<00:00, 101.44it/s]\n",
      "Batches: 100%|██████████| 1/1 [00:00<00:00, 92.38it/s]\n",
      "Batches: 100%|██████████| 1/1 [00:00<00:00, 91.43it/s]\n",
      "Batches: 100%|██████████| 1/1 [00:00<00:00, 19.94it/s]\n",
      "Batches: 100%|██████████| 1/1 [00:00<00:00, 67.98it/s]\n",
      "Batches: 100%|██████████| 1/1 [00:00<00:00, 101.50it/s]\n",
      "Batches: 100%|██████████| 1/1 [00:00<00:00, 85.16it/s]\n",
      "Batches: 100%|██████████| 1/1 [00:00<00:00, 103.10it/s]\n",
      "Batches: 100%|██████████| 1/1 [00:00<00:00, 89.96it/s]\n",
      "Batches: 100%|██████████| 1/1 [00:00<00:00, 96.31it/s]\n",
      "Batches: 100%|██████████| 1/1 [00:00<00:00, 142.80it/s]\n",
      "Batches: 100%|██████████| 1/1 [00:00<00:00, 128.81it/s]\n",
      "Batches: 100%|██████████| 1/1 [00:00<00:00, 128.82it/s]\n",
      "Batches: 100%|██████████| 1/1 [00:00<00:00, 125.62it/s]\n",
      "Batches: 100%|██████████| 1/1 [00:00<00:00, 137.10it/s]\n",
      "Batches: 100%|██████████| 1/1 [00:00<00:00, 135.65it/s]\n",
      "Batches: 100%|██████████| 1/1 [00:00<00:00, 137.57it/s]\n",
      "Batches: 100%|██████████| 1/1 [00:00<00:00, 126.14it/s]\n",
      "Batches: 100%|██████████| 1/1 [00:00<00:00, 143.88it/s]\n",
      "Batches: 100%|██████████| 1/1 [00:00<00:00, 134.62it/s]\n",
      "Batches: 100%|██████████| 1/1 [00:00<00:00, 134.41it/s]\n",
      "Batches: 100%|██████████| 1/1 [00:00<00:00, 125.00it/s]\n",
      "Batches: 100%|██████████| 1/1 [00:00<00:00, 138.57it/s]\n",
      "Batches: 100%|██████████| 1/1 [00:00<00:00, 140.72it/s]\n",
      "Batches: 100%|██████████| 1/1 [00:00<00:00, 132.87it/s]\n",
      "Batches: 100%|██████████| 1/1 [00:00<00:00, 136.84it/s]\n",
      "Batches: 100%|██████████| 1/1 [00:00<00:00, 140.24it/s]\n",
      "Batches: 100%|██████████| 1/1 [00:00<00:00, 135.15it/s]\n",
      "Batches: 100%|██████████| 1/1 [00:00<00:00, 139.76it/s]\n",
      "Batches: 100%|██████████| 1/1 [00:00<00:00, 89.08it/s]\n",
      "Batches: 100%|██████████| 1/1 [00:00<00:00, 89.26it/s]\n",
      "Batches: 100%|██████████| 1/1 [00:00<00:00, 75.17it/s]\n",
      "Batches: 100%|██████████| 1/1 [00:00<00:00, 17.93it/s]\n",
      "Batches: 100%|██████████| 1/1 [00:00<00:00, 59.43it/s]\n",
      "Batches: 100%|██████████| 1/1 [00:00<00:00, 91.56it/s]\n",
      "Batches: 100%|██████████| 1/1 [00:00<00:00, 34.58it/s]\n",
      "Batches: 100%|██████████| 1/1 [00:00<00:00, 47.99it/s]\n",
      "Batches: 100%|██████████| 1/1 [00:00<00:00, 125.92it/s]\n",
      "Batches: 100%|██████████| 1/1 [00:00<00:00, 129.37it/s]\n",
      "Batches: 100%|██████████| 1/1 [00:00<00:00, 137.04it/s]\n",
      "Batches: 100%|██████████| 1/1 [00:00<00:00, 116.43it/s]\n",
      "Batches: 100%|██████████| 1/1 [00:00<00:00, 112.29it/s]\n",
      "Batches: 100%|██████████| 1/1 [00:00<00:00, 127.32it/s]\n",
      "Batches: 100%|██████████| 1/1 [00:00<00:00, 53.82it/s]\n",
      "Batches: 100%|██████████| 1/1 [00:00<00:00, 62.74it/s]\n",
      "Batches: 100%|██████████| 1/1 [00:00<00:00, 106.31it/s]\n",
      "Batches: 100%|██████████| 1/1 [00:00<00:00, 119.60it/s]\n",
      "Batches: 100%|██████████| 1/1 [00:00<00:00, 52.17it/s]\n",
      "Batches: 100%|██████████| 1/1 [00:00<00:00, 123.90it/s]\n",
      "Batches: 100%|██████████| 1/1 [00:00<00:00, 122.07it/s]\n",
      "Batches: 100%|██████████| 1/1 [00:00<00:00, 71.96it/s]\n",
      "Batches: 100%|██████████| 1/1 [00:00<00:00, 123.46it/s]\n",
      "Batches: 100%|██████████| 1/1 [00:00<00:00, 146.50it/s]\n",
      "Batches: 100%|██████████| 1/1 [00:00<00:00, 98.18it/s]\n",
      "Batches: 100%|██████████| 1/1 [00:00<00:00, 49.27it/s]\n",
      "Batches: 100%|██████████| 1/1 [00:00<00:00, 81.49it/s]\n",
      "Batches: 100%|██████████| 1/1 [00:00<00:00, 80.59it/s]\n",
      "Batches: 100%|██████████| 1/1 [00:00<00:00, 81.83it/s]\n",
      "Batches: 100%|██████████| 1/1 [00:00<00:00, 79.09it/s]\n",
      "Batches: 100%|██████████| 1/1 [00:00<00:00, 85.48it/s]\n",
      "Batches: 100%|██████████| 1/1 [00:00<00:00, 43.08it/s]\n",
      "Batches: 100%|██████████| 1/1 [00:00<00:00, 90.27it/s]\n",
      "Batches: 100%|██████████| 1/1 [00:00<00:00, 82.25it/s]\n",
      "Batches: 100%|██████████| 1/1 [00:00<00:00, 95.43it/s]\n",
      "Batches: 100%|██████████| 1/1 [00:00<00:00, 88.03it/s]\n",
      "Batches: 100%|██████████| 1/1 [00:00<00:00, 129.91it/s]\n",
      "Batches: 100%|██████████| 1/1 [00:00<00:00, 91.37it/s]\n",
      "Batches: 100%|██████████| 1/1 [00:00<00:00, 91.66it/s]\n",
      "Batches: 100%|██████████| 1/1 [00:00<00:00, 18.23it/s]\n",
      "Batches: 100%|██████████| 1/1 [00:00<00:00, 27.48it/s]\n",
      "Batches: 100%|██████████| 1/1 [00:00<00:00, 96.87it/s]\n",
      "Batches: 100%|██████████| 1/1 [00:00<00:00, 72.58it/s]\n",
      "Batches: 100%|██████████| 1/1 [00:00<00:00, 87.61it/s]\n",
      "Batches: 100%|██████████| 1/1 [00:00<00:00, 84.68it/s]\n",
      "Batches: 100%|██████████| 1/1 [00:00<00:00, 84.34it/s]\n",
      "Batches: 100%|██████████| 1/1 [00:00<00:00, 77.17it/s]\n",
      "Batches: 100%|██████████| 1/1 [00:00<00:00, 80.18it/s]\n",
      "Batches: 100%|██████████| 1/1 [00:00<00:00, 98.31it/s]\n",
      "Batches: 100%|██████████| 1/1 [00:00<00:00, 106.67it/s]\n",
      "Batches: 100%|██████████| 1/1 [00:00<00:00, 136.07it/s]\n",
      "Batches: 100%|██████████| 1/1 [00:00<00:00, 133.23it/s]\n",
      "Batches: 100%|██████████| 1/1 [00:00<00:00, 125.91it/s]\n",
      "Batches: 100%|██████████| 1/1 [00:00<00:00, 75.16it/s]\n",
      "Batches: 100%|██████████| 1/1 [00:00<00:00, 128.96it/s]\n",
      "Batches: 100%|██████████| 1/1 [00:00<00:00, 131.65it/s]\n",
      "Batches: 100%|██████████| 1/1 [00:00<00:00, 76.58it/s]\n",
      "Batches: 100%|██████████| 1/1 [00:00<00:00, 79.12it/s]\n",
      "Batches: 100%|██████████| 1/1 [00:00<00:00, 80.96it/s]\n",
      "Batches: 100%|██████████| 1/1 [00:00<00:00, 78.54it/s]\n",
      "Batches: 100%|██████████| 1/1 [00:00<00:00, 68.61it/s]\n",
      "Batches: 100%|██████████| 1/1 [00:00<00:00, 78.09it/s]\n",
      "Batches: 100%|██████████| 1/1 [00:00<00:00, 60.14it/s]\n",
      "Batches: 100%|██████████| 1/1 [00:00<00:00, 143.89it/s]\n",
      "Batches: 100%|██████████| 1/1 [00:00<00:00, 137.48it/s]\n",
      "Batches: 100%|██████████| 1/1 [00:00<00:00, 129.60it/s]\n",
      "Batches: 100%|██████████| 1/1 [00:00<00:00, 127.13it/s]\n",
      "Batches: 100%|██████████| 1/1 [00:00<00:00, 15.57it/s]\n",
      "Batches: 100%|██████████| 1/1 [00:00<00:00, 39.57it/s]\n",
      "Batches: 100%|██████████| 1/1 [00:00<00:00, 51.01it/s]\n",
      "Batches: 100%|██████████| 1/1 [00:00<00:00, 54.60it/s]\n",
      "Batches: 100%|██████████| 1/1 [00:00<00:00, 52.60it/s]\n",
      "Batches: 100%|██████████| 1/1 [00:00<00:00, 48.70it/s]\n",
      "Batches: 100%|██████████| 1/1 [00:00<00:00, 76.84it/s]\n",
      "Batches: 100%|██████████| 1/1 [00:00<00:00, 97.09it/s]\n",
      "Batches: 100%|██████████| 1/1 [00:00<00:00, 54.31it/s]\n",
      "Batches: 100%|██████████| 1/1 [00:00<00:00, 49.56it/s]\n",
      "Batches: 100%|██████████| 1/1 [00:00<00:00, 48.14it/s]\n",
      "Batches: 100%|██████████| 1/1 [00:00<00:00, 95.76it/s]\n",
      "Batches: 100%|██████████| 1/1 [00:00<00:00, 97.46it/s]\n",
      "Batches: 100%|██████████| 1/1 [00:00<00:00, 45.97it/s]\n",
      "Batches: 100%|██████████| 1/1 [00:00<00:00, 95.44it/s]\n",
      "Batches: 100%|██████████| 1/1 [00:00<00:00, 105.87it/s]\n",
      "Batches: 100%|██████████| 1/1 [00:00<00:00, 67.85it/s]\n",
      "Batches: 100%|██████████| 1/1 [00:00<00:00, 91.58it/s]\n",
      "Batches: 100%|██████████| 1/1 [00:00<00:00, 98.09it/s]\n",
      "Batches: 100%|██████████| 1/1 [00:00<00:00, 88.36it/s]\n",
      "Batches: 100%|██████████| 1/1 [00:00<00:00, 96.96it/s]\n",
      "Batches: 100%|██████████| 1/1 [00:00<00:00, 100.10it/s]\n",
      "Batches: 100%|██████████| 1/1 [00:00<00:00, 100.24it/s]\n",
      "Batches: 100%|██████████| 1/1 [00:00<00:00, 52.98it/s]\n",
      "Batches: 100%|██████████| 1/1 [00:00<00:00, 39.28it/s]\n",
      "Batches: 100%|██████████| 1/1 [00:00<00:00, 59.34it/s]\n",
      "Batches: 100%|██████████| 1/1 [00:00<00:00, 81.50it/s]\n"
     ]
    }
   ],
   "source": [
    "# Create product features\n",
    "product_features = torch.zeros((len(unique_product_id), 384))\n",
    "for product_id in products:\n",
    "   product = products[product_id]\n",
    "   mapped_id = unique_product_id.loc[unique_product_id['productId'] == product.asin, 'mappedID'].values[0]\n",
    "   d = \"\"\n",
    "   for descrip in product.description:\n",
    "      d = d + descrip\n",
    "   product.description = d\n",
    "   product_features[mapped_id] = encoder(product.description)"
   ]
  },
  {
   "cell_type": "code",
   "execution_count": 14,
   "metadata": {},
   "outputs": [
    {
     "data": {
      "text/plain": [
       "torch.Size([384])"
      ]
     },
     "execution_count": 14,
     "metadata": {},
     "output_type": "execute_result"
    }
   ],
   "source": [
    "product_features[-1].size()"
   ]
  },
  {
   "cell_type": "code",
   "execution_count": 120,
   "metadata": {},
   "outputs": [],
   "source": [
    "from torch_geometric.data import HeteroData\n",
    "data = HeteroData()\n",
    "\n",
    "# Add node features to the HeteroData object\n",
    "data['Product'].x = product_features\n",
    "data['User'].x = torch.ones(len(users), 1)\n",
    "data['Category'].x = torch.ones(len(all_categories), 1)\n",
    "\n",
    "# Add edge indices to the HeteroData object\n",
    "data['User', 'REVIEWS', 'Product'].edge_index = user_product_edges\n",
    "data['User', 'REVIEWS', 'Product'].edge_attr = user_product_ratings\n",
    "data['Product', 'ALSO_BOUGHT', 'Product'].edge_index = product_product_edges\n",
    "data['Product', 'HAS_CATEGORY', 'Category'].edge_index = product_category_edges\n",
    "\n",
    "\n",
    "import torch_geometric.transforms as T\n",
    "data = T.ToUndirected()(data)"
   ]
  },
  {
   "cell_type": "code",
   "execution_count": 19,
   "metadata": {},
   "outputs": [],
   "source": [
    "# data['Product'].x = product_features\n",
    "# data['User'].x = user_features"
   ]
  },
  {
   "cell_type": "code",
   "execution_count": 69,
   "metadata": {},
   "outputs": [],
   "source": [
    "\n",
    "# n, e = data.metadata()\n",
    "# print(n)\n",
    "# print(e)\n",
    "# data['Category'].num_nodes\n",
    "\n"
   ]
  },
  {
   "cell_type": "code",
   "execution_count": 121,
   "metadata": {},
   "outputs": [
    {
     "data": {
      "text/plain": [
       "HeteroData(\n",
       "  Product={ x=[1547, 384] },\n",
       "  User={ x=[458, 1] },\n",
       "  Category={ x=[14, 1] },\n",
       "  (User, REVIEWS, Product)={\n",
       "    edge_index=[2, 2972],\n",
       "    edge_attr=[2972],\n",
       "  },\n",
       "  (Product, ALSO_BOUGHT, Product)={ edge_index=[2, 10572] },\n",
       "  (Product, HAS_CATEGORY, Category)={ edge_index=[2, 3622] },\n",
       "  (Product, rev_REVIEWS, User)={\n",
       "    edge_index=[2, 2972],\n",
       "    edge_attr=[2972],\n",
       "  },\n",
       "  (Category, rev_HAS_CATEGORY, Product)={ edge_index=[2, 3622] }\n",
       ")"
      ]
     },
     "execution_count": 121,
     "metadata": {},
     "output_type": "execute_result"
    }
   ],
   "source": [
    "data"
   ]
  },
  {
   "cell_type": "code",
   "execution_count": 122,
   "metadata": {},
   "outputs": [],
   "source": [
    "import torch_geometric.transforms as T\n",
    "\n",
    "\n",
    "# t_data = T.ToUndirected()(data)\n",
    "# t_data = T.ToUndirected()(data)\n",
    "# t_data = T.ToUndirected()(data)\n",
    "\n",
    "transform = RandomLinkSplit(\n",
    "    is_undirected=False, \n",
    "    add_negative_train_samples=False, \n",
    "    disjoint_train_ratio=0.3,\n",
    "    neg_sampling_ratio=0,\n",
    "    num_val=0.1, num_test=0.1,\n",
    "    edge_types=[\"REVIEWS\",\"rev_REVIEWS\"]\n",
    ")\n",
    "\n",
    "#we have to do the split for each edge type and combine them back together\n",
    "\n",
    "# transform = RandomLinkSplit(is_undirected=True, edge_types=[\"REVIEWS\",\"ALSO_BOUGHT\", 'HAS_CATEGORY'])\n",
    "train_split, val_split, test_split = transform(data)\n",
    "# train_split, val_split, test_split = transform(data)"
   ]
  },
  {
   "cell_type": "code",
   "execution_count": 72,
   "metadata": {},
   "outputs": [
    {
     "data": {
      "text/plain": [
       "'torch.LongTensor'"
      ]
     },
     "execution_count": 72,
     "metadata": {},
     "output_type": "execute_result"
    }
   ],
   "source": [
    "torch.Tensor.type(train_split['User', 'REVIEWS', 'Product'].edge_index[0]) #64bit int\n",
    "# type(test_split['User', 'REVIEWS', 'Product'].edge_index[0][0])"
   ]
  },
  {
   "cell_type": "code",
   "execution_count": 42,
   "metadata": {},
   "outputs": [
    {
     "name": "stdout",
     "output_type": "stream",
     "text": [
      "tensor([[ 435,  145,   93,  ...,  137,  312,  388],\n",
      "        [ 921, 1231,  194,  ...,  308, 1232, 1231]]) tensor([[  32],\n",
      "        [1199]])\n"
     ]
    }
   ],
   "source": [
    "from torch_geometric.utils import negative_sampling\n",
    "n = negative_sampling(train_split['User', 'REVIEWS', 'Product'].edge_index, num_neg_samples=1)\n",
    "print(train_split['User', 'REVIEWS', 'Product'].edge_index, n)"
   ]
  },
  {
   "cell_type": "code",
   "execution_count": 73,
   "metadata": {},
   "outputs": [
    {
     "data": {
      "text/plain": [
       "HeteroData(\n",
       "  Product={ x=[1547, 384] },\n",
       "  User={ x=[458, 1] },\n",
       "  Category={ x=[14, 1] },\n",
       "  (User, REVIEWS, Product)={\n",
       "    edge_index=[2, 2972],\n",
       "    edge_attr=[2972],\n",
       "  },\n",
       "  (Product, ALSO_BOUGHT, Product)={ edge_index=[2, 10572] },\n",
       "  (Product, HAS_CATEGORY, Category)={ edge_index=[2, 3622] },\n",
       "  (Product, rev_REVIEWS, User)={\n",
       "    edge_index=[2, 2972],\n",
       "    edge_attr=[2972],\n",
       "  },\n",
       "  (Category, rev_HAS_CATEGORY, Product)={ edge_index=[2, 3622] }\n",
       ")"
      ]
     },
     "execution_count": 73,
     "metadata": {},
     "output_type": "execute_result"
    }
   ],
   "source": [
    "data"
   ]
  },
  {
   "cell_type": "code",
   "execution_count": 64,
   "metadata": {},
   "outputs": [
    {
     "name": "stdout",
     "output_type": "stream",
     "text": [
      "tensor([  0,   0,   0,  ..., 457, 457, 457])\n",
      "tensor([     0,      1,      2,  ..., 708522, 708523, 708524])\n"
     ]
    }
   ],
   "source": [
    "num_users = len(data['User']['x'])\n",
    "num_products = data['Product']['x'].shape[0]\n",
    "# print(num_users, num_products)\n",
    "# assert(num_products == 1547)\n",
    "positive_users, positive_products = data['REVIEWS']['edge_index']\n",
    "print(positive_users)\n",
    "mask = torch.zeros(num_users, num_products, device=device, dtype=torch.bool)\n",
    "mask[positive_users, positive_products] = True\n",
    "flat_mask = mask.flatten()\n",
    "negative_indices = torch.where(~flat_mask)[0]\n",
    "print(negative_indices)\n",
    "\n",
    "\n",
    "\n"
   ]
  },
  {
   "cell_type": "code",
   "execution_count": 74,
   "metadata": {},
   "outputs": [],
   "source": [
    "def sample_negative_edges_hetero(data, edge_type, num_nodes_1, num_nodes_2, device=None):\n",
    "    # Extract the positive edges for the given edge type\n",
    "    positive_edges = data[edge_type]['edge_index']\n",
    "\n",
    "    # Create a mask tensor with the appropriate shape\n",
    "    mask = torch.zeros(num_nodes_1, num_nodes_2, device=device, dtype=torch.bool)\n",
    "    mask[positive_edges[0], positive_edges[1]] = True\n",
    "\n",
    "    # Flatten the mask tensor and get the indices of the negative edges\n",
    "    flat_mask = mask.flatten()\n",
    "    negative_indices = torch.where(~flat_mask)[0]\n",
    "\n",
    "    # Sample negative edges from the negative_indices tensor\n",
    "    sampled_negative_indices = negative_indices[\n",
    "        torch.randint(0, negative_indices.size(0), size=(positive_edges.size(1),), device=device)\n",
    "    ]\n",
    "\n",
    "    # Convert the indices back to the two types of nodes\n",
    "    nodes_1 = torch.div(sampled_negative_indices, num_nodes_2, rounding_mode='floor')\n",
    "    nodes_2 = sampled_negative_indices % num_nodes_2\n",
    "\n",
    "    neg_edge_index = torch.stack((nodes_1, nodes_2), dim=0)\n",
    "    neg_edge_label = torch.zeros(neg_edge_index.shape[1], device=device)\n",
    "\n",
    "    return neg_edge_index, neg_edge_label\n",
    "\n"
   ]
  },
  {
   "cell_type": "code",
   "execution_count": 75,
   "metadata": {},
   "outputs": [
    {
     "data": {
      "text/plain": [
       "tensor([[ 231,  289,  189,  ...,  115,   45,  158],\n",
       "        [ 886, 1173,  689,  ..., 1157, 1172, 1226]])"
      ]
     },
     "execution_count": 75,
     "metadata": {},
     "output_type": "execute_result"
    }
   ],
   "source": [
    "data[('User', 'REVIEWS', 'Product')].neg_edge_index"
   ]
  },
  {
   "cell_type": "code",
   "execution_count": 95,
   "metadata": {},
   "outputs": [],
   "source": [
    "class BPRLoss(_Loss):\n",
    "    r\"\"\"The Bayesian Personalized Ranking (BPR) loss.\n",
    "\n",
    "    The BPR loss is a pairwise loss that encourages the prediction of an\n",
    "    observed entry to be higher than its unobserved counterparts\n",
    "    (see `here <https://arxiv.org/abs/2002.02126>`__).\n",
    "\n",
    "    .. math::\n",
    "        L_{\\text{BPR}} = - \\sum_{u=1}^{M} \\sum_{i \\in \\mathcal{N}_u}\n",
    "        \\sum_{j \\not\\in \\mathcal{N}_u} \\ln \\sigma(\\hat{y}_{ui} - \\hat{y}_{uj})\n",
    "        + \\lambda \\vert\\vert \\textbf{x}^{(0)} \\vert\\vert^2\n",
    "\n",
    "    where :math:`lambda` controls the :math:`L_2` regularization strength.\n",
    "    We compute the mean BPR loss for simplicity.\n",
    "\n",
    "    Args:\n",
    "        lambda_reg (float, optional): The :math:`L_2` regularization strength\n",
    "            (default: 0).\n",
    "        **kwargs (optional): Additional arguments of the underlying\n",
    "            :class:`torch.nn.modules.loss._Loss` class.\n",
    "    \"\"\"\n",
    "    __constants__ = ['lambda_reg']\n",
    "    lambda_reg: float\n",
    "\n",
    "    def __init__(self, lambda_reg: float = 0, **kwargs):\n",
    "        super().__init__(None, None, \"sum\", **kwargs)\n",
    "        self.lambda_reg = lambda_reg\n",
    "\n",
    "    def forward(self, positives: Tensor, negatives: Tensor,\n",
    "                parameters: Tensor = None) -> Tensor:\n",
    "        r\"\"\"Compute the mean Bayesian Personalized Ranking (BPR) loss.\n",
    "\n",
    "        .. note::\n",
    "\n",
    "            The i-th entry in the :obj:`positives` vector and i-th entry\n",
    "            in the :obj:`negatives` entry should correspond to the same\n",
    "            entity (*.e.g*, user), as the BPR is a personalized ranking loss.\n",
    "\n",
    "        Args:\n",
    "            positives (Tensor): The vector of positive-pair rankings.\n",
    "            negatives (Tensor): The vector of negative-pair rankings.\n",
    "            parameters (Tensor, optional): The tensor of parameters which\n",
    "                should be used for :math:`L_2` regularization\n",
    "                (default: :obj:`None`).\n",
    "        \"\"\"\n",
    "        n_pairs = positives.size(0)\n",
    "        log_prob = F.logsigmoid(positives - negatives).sum()\n",
    "        regularization = 0\n",
    "\n",
    "        if self.lambda_reg != 0:\n",
    "            # parameters = torch.tensor(list(parameters))\n",
    "            # regularization = self.lambda_reg * parameters.norm(p=2).pow(2) \n",
    "            regularization = sum(self.lambda_reg * p.norm(p=2).pow(2) for p in parameters)\n",
    "\n",
    "        return (-log_prob + regularization) / n_pairs"
   ]
  },
  {
   "cell_type": "code",
   "execution_count": 124,
   "metadata": {},
   "outputs": [],
   "source": [
    "from torch_geometric.nn import LightGCN\n",
    "\n",
    "model = LightGCN(\n",
    "    num_nodes=train_split.num_nodes,\n",
    "    embedding_dim=64,\n",
    "    num_layers=2,\n",
    ").to(device)\n",
    "optimizer = torch.optim.Adam(model.parameters(), lr=0.001)\n",
    "bpr_loss = BPRLoss(lambda_reg=0.01).to(device)\n"
   ]
  },
  {
   "cell_type": "code",
   "execution_count": 123,
   "metadata": {},
   "outputs": [],
   "source": [
    "\n",
    "\n",
    "def recall_at_k_hetero(data, model, edge_types=None, k=10, batch_size=64, device=None):\n",
    "    if not edge_types:\n",
    "        edge_types = [\n",
    "            ('User', 'REVIEWS', 'Product'),\n",
    "            ('Product', 'rev_REVIEWS', 'User')\n",
    "        ]\n",
    "\n",
    "    recalls = []\n",
    "\n",
    "    # Compute embeddings for all node types\n",
    "    with torch.no_grad():\n",
    "        embeddings = {node_type: model.get_embedding(data[node_type].x.to(device))\n",
    "                      for node_type in data.node_types}\n",
    "\n",
    "    for edge_type in edge_types:\n",
    "        source_node_type, _, target_node_type = edge_type\n",
    "\n",
    "        n_sources = data[source_node_type].x.size(0)\n",
    "        n_targets = data[target_node_type].x.size(0)\n",
    "\n",
    "        source_embeddings = embeddings[source_node_type]\n",
    "        target_embeddings = embeddings[target_node_type]\n",
    "\n",
    "        hits_list = []\n",
    "        relevant_counts_list = []\n",
    "\n",
    "        for batch_start in range(0, n_sources, batch_size):\n",
    "            batch_end = min(batch_start + batch_size, n_sources)\n",
    "            batch_source_embeddings = source_embeddings[batch_start:batch_end]\n",
    "\n",
    "            # Calculate scores for all possible source-target pairs\n",
    "            scores = torch.matmul(batch_source_embeddings, target_embeddings.t())\n",
    "\n",
    "            # Find the top k highest scoring targets for each source in the batch\n",
    "            _, top_k_indices = torch.topk(scores, k, dim=1)\n",
    "\n",
    "            # Ground truth supervision edges\n",
    "            ground_truth_edges = data[edge_type].edge_label_index.to(device)\n",
    "\n",
    "            # Create a mask to indicate if the top k targets are in the ground truth supervision edges\n",
    "            mask = torch.zeros(scores.shape, device=device, dtype=torch.bool)\n",
    "            mask[ground_truth_edges[0], ground_truth_edges[1]] = True\n",
    "\n",
    "            # Check how many of the top k targets are in the ground truth supervision edges\n",
    "            hits = mask.gather(1, top_k_indices).sum(dim=1)\n",
    "            hits_list.append(hits)\n",
    "\n",
    "            # Calculate the total number of relevant targets for each source in the batch\n",
    "            relevant_counts = torch.bincount(ground_truth_edges[0], minlength=batch_end - batch_start)\n",
    "            relevant_counts_list.append(relevant_counts)\n",
    "\n",
    "        # Compute recall@k for this edge type\n",
    "        hits_tensor = torch.cat(hits_list, dim=0)\n",
    "        relevant_counts_tensor = torch.cat(relevant_counts_list, dim=0)\n",
    "        recall_at_k = torch.true_divide(hits_tensor, relevant_counts_tensor.clamp(min=1))\n",
    "        recall_at_k = recall_at_k.mean().item()\n",
    "\n",
    "        recalls.append(recall_at_k)\n",
    "\n",
    "    # Return the average recall across all edge types\n",
    "    overall_recall = sum(recalls) / len(recalls)\n",
    "    return overall_recall\n",
    "\n"
   ]
  },
  {
   "cell_type": "code",
   "execution_count": 140,
   "metadata": {},
   "outputs": [],
   "source": [
    "from sklearn.metrics import roc_auc_score\n",
    "\n",
    "def metrics(labels, preds):\n",
    "  return 0\n",
    "  print(labels.shape, preds.shape)\n",
    "  roc = roc_auc_score(labels.flatten().cpu().numpy(), preds.flatten().data.cpu().numpy())\n",
    "  return roc "
   ]
  },
  {
   "cell_type": "code",
   "execution_count": 141,
   "metadata": {},
   "outputs": [
    {
     "data": {
      "text/plain": [
       "tensor([1.])"
      ]
     },
     "execution_count": 141,
     "metadata": {},
     "output_type": "execute_result"
    }
   ],
   "source": [
    "edge_type = ('User', 'REVIEWS', 'Product')\n",
    "torch.unique(train_split[edge_type].edge_label)\n",
    "# train_split[edge_type].edge_label"
   ]
  },
  {
   "cell_type": "code",
   "execution_count": 142,
   "metadata": {},
   "outputs": [
    {
     "name": "stderr",
     "output_type": "stream",
     "text": [
      "Training Epochs:   0%|          | 0/500 [00:00<?, ?it/s]"
     ]
    },
    {
     "name": "stderr",
     "output_type": "stream",
     "text": [
      "Training Epochs:   0%|          | 0/500 [00:00<?, ?it/s]\n"
     ]
    },
    {
     "name": "stdout",
     "output_type": "stream",
     "text": [
      "2\n",
      "2\n",
      "2\n",
      "2\n"
     ]
    },
    {
     "ename": "RuntimeError",
     "evalue": "scatter(): Expected dtype int64 for index",
     "output_type": "error",
     "traceback": [
      "\u001b[0;31m---------------------------------------------------------------------------\u001b[0m",
      "\u001b[0;31mRuntimeError\u001b[0m                              Traceback (most recent call last)",
      "\u001b[1;32m/Users/aidenchang/Documents/cs/usc/CSCI567/ARS/final_paper.ipynb Cell 36\u001b[0m line \u001b[0;36m1\n\u001b[1;32m    <a href='vscode-notebook-cell:/Users/aidenchang/Documents/cs/usc/CSCI567/ARS/final_paper.ipynb#X60sZmlsZQ%3D%3D?line=104'>105</a>\u001b[0m stats[\u001b[39m'\u001b[39m\u001b[39mval\u001b[39m\u001b[39m'\u001b[39m][\u001b[39m'\u001b[39m\u001b[39mloss\u001b[39m\u001b[39m'\u001b[39m]\u001b[39m.\u001b[39mappend(val_loss)\n\u001b[1;32m    <a href='vscode-notebook-cell:/Users/aidenchang/Documents/cs/usc/CSCI567/ARS/final_paper.ipynb#X60sZmlsZQ%3D%3D?line=109'>110</a>\u001b[0m \u001b[39m# Calculate recall @ K for the validation data across all edge types\u001b[39;00m\n\u001b[0;32m--> <a href='vscode-notebook-cell:/Users/aidenchang/Documents/cs/usc/CSCI567/ARS/final_paper.ipynb#X60sZmlsZQ%3D%3D?line=110'>111</a>\u001b[0m val_recall \u001b[39m=\u001b[39m recall_at_k_hetero(val_split, model, edge_types\u001b[39m=\u001b[39;49medge_types, k\u001b[39m=\u001b[39;49mk, batch_size\u001b[39m=\u001b[39;49mbatch_size, device\u001b[39m=\u001b[39;49mdevice)\n\u001b[1;32m    <a href='vscode-notebook-cell:/Users/aidenchang/Documents/cs/usc/CSCI567/ARS/final_paper.ipynb#X60sZmlsZQ%3D%3D?line=111'>112</a>\u001b[0m stats[\u001b[39m'\u001b[39m\u001b[39mval\u001b[39m\u001b[39m'\u001b[39m][\u001b[39m'\u001b[39m\u001b[39mrecall\u001b[39m\u001b[39m'\u001b[39m]\u001b[39m.\u001b[39mappend(val_recall)\n\u001b[1;32m    <a href='vscode-notebook-cell:/Users/aidenchang/Documents/cs/usc/CSCI567/ARS/final_paper.ipynb#X60sZmlsZQ%3D%3D?line=112'>113</a>\u001b[0m \u001b[39mprint\u001b[39m(\u001b[39mf\u001b[39m\u001b[39m\"\u001b[39m\u001b[39mValidation Recall@\u001b[39m\u001b[39m{\u001b[39;00mk\u001b[39m}\u001b[39;00m\u001b[39m: \u001b[39m\u001b[39m{\u001b[39;00mval_recall\u001b[39m}\u001b[39;00m\u001b[39m, Validation ROC: \u001b[39m\u001b[39m{\u001b[39;00mmean_val_roc\u001b[39m}\u001b[39;00m\u001b[39m\"\u001b[39m)\n",
      "\u001b[1;32m/Users/aidenchang/Documents/cs/usc/CSCI567/ARS/final_paper.ipynb Cell 36\u001b[0m line \u001b[0;36m1\n\u001b[1;32m     <a href='vscode-notebook-cell:/Users/aidenchang/Documents/cs/usc/CSCI567/ARS/final_paper.ipynb#X60sZmlsZQ%3D%3D?line=9'>10</a>\u001b[0m \u001b[39m# Compute embeddings for all node types\u001b[39;00m\n\u001b[1;32m     <a href='vscode-notebook-cell:/Users/aidenchang/Documents/cs/usc/CSCI567/ARS/final_paper.ipynb#X60sZmlsZQ%3D%3D?line=10'>11</a>\u001b[0m \u001b[39mwith\u001b[39;00m torch\u001b[39m.\u001b[39mno_grad():\n\u001b[0;32m---> <a href='vscode-notebook-cell:/Users/aidenchang/Documents/cs/usc/CSCI567/ARS/final_paper.ipynb#X60sZmlsZQ%3D%3D?line=11'>12</a>\u001b[0m     embeddings \u001b[39m=\u001b[39m {node_type: model\u001b[39m.\u001b[39mget_embedding(data[node_type]\u001b[39m.\u001b[39mx\u001b[39m.\u001b[39mto(device))\n\u001b[1;32m     <a href='vscode-notebook-cell:/Users/aidenchang/Documents/cs/usc/CSCI567/ARS/final_paper.ipynb#X60sZmlsZQ%3D%3D?line=12'>13</a>\u001b[0m                   \u001b[39mfor\u001b[39;00m node_type \u001b[39min\u001b[39;00m data\u001b[39m.\u001b[39mnode_types}\n\u001b[1;32m     <a href='vscode-notebook-cell:/Users/aidenchang/Documents/cs/usc/CSCI567/ARS/final_paper.ipynb#X60sZmlsZQ%3D%3D?line=14'>15</a>\u001b[0m \u001b[39mfor\u001b[39;00m edge_type \u001b[39min\u001b[39;00m edge_types:\n\u001b[1;32m     <a href='vscode-notebook-cell:/Users/aidenchang/Documents/cs/usc/CSCI567/ARS/final_paper.ipynb#X60sZmlsZQ%3D%3D?line=15'>16</a>\u001b[0m     source_node_type, _, target_node_type \u001b[39m=\u001b[39m edge_type\n",
      "\u001b[1;32m/Users/aidenchang/Documents/cs/usc/CSCI567/ARS/final_paper.ipynb Cell 36\u001b[0m line \u001b[0;36m1\n\u001b[1;32m     <a href='vscode-notebook-cell:/Users/aidenchang/Documents/cs/usc/CSCI567/ARS/final_paper.ipynb#X60sZmlsZQ%3D%3D?line=9'>10</a>\u001b[0m \u001b[39m# Compute embeddings for all node types\u001b[39;00m\n\u001b[1;32m     <a href='vscode-notebook-cell:/Users/aidenchang/Documents/cs/usc/CSCI567/ARS/final_paper.ipynb#X60sZmlsZQ%3D%3D?line=10'>11</a>\u001b[0m \u001b[39mwith\u001b[39;00m torch\u001b[39m.\u001b[39mno_grad():\n\u001b[0;32m---> <a href='vscode-notebook-cell:/Users/aidenchang/Documents/cs/usc/CSCI567/ARS/final_paper.ipynb#X60sZmlsZQ%3D%3D?line=11'>12</a>\u001b[0m     embeddings \u001b[39m=\u001b[39m {node_type: model\u001b[39m.\u001b[39;49mget_embedding(data[node_type]\u001b[39m.\u001b[39;49mx\u001b[39m.\u001b[39;49mto(device))\n\u001b[1;32m     <a href='vscode-notebook-cell:/Users/aidenchang/Documents/cs/usc/CSCI567/ARS/final_paper.ipynb#X60sZmlsZQ%3D%3D?line=12'>13</a>\u001b[0m                   \u001b[39mfor\u001b[39;00m node_type \u001b[39min\u001b[39;00m data\u001b[39m.\u001b[39mnode_types}\n\u001b[1;32m     <a href='vscode-notebook-cell:/Users/aidenchang/Documents/cs/usc/CSCI567/ARS/final_paper.ipynb#X60sZmlsZQ%3D%3D?line=14'>15</a>\u001b[0m \u001b[39mfor\u001b[39;00m edge_type \u001b[39min\u001b[39;00m edge_types:\n\u001b[1;32m     <a href='vscode-notebook-cell:/Users/aidenchang/Documents/cs/usc/CSCI567/ARS/final_paper.ipynb#X60sZmlsZQ%3D%3D?line=15'>16</a>\u001b[0m     source_node_type, _, target_node_type \u001b[39m=\u001b[39m edge_type\n",
      "File \u001b[0;32m~/miniforge3/envs/ml_final/lib/python3.9/site-packages/torch_geometric/nn/models/lightgcn.py:108\u001b[0m, in \u001b[0;36mLightGCN.get_embedding\u001b[0;34m(self, edge_index, edge_weight)\u001b[0m\n\u001b[1;32m    105\u001b[0m out \u001b[39m=\u001b[39m x \u001b[39m*\u001b[39m \u001b[39mself\u001b[39m\u001b[39m.\u001b[39malpha[\u001b[39m0\u001b[39m]\n\u001b[1;32m    107\u001b[0m \u001b[39mfor\u001b[39;00m i \u001b[39min\u001b[39;00m \u001b[39mrange\u001b[39m(\u001b[39mself\u001b[39m\u001b[39m.\u001b[39mnum_layers):\n\u001b[0;32m--> 108\u001b[0m     x \u001b[39m=\u001b[39m \u001b[39mself\u001b[39;49m\u001b[39m.\u001b[39;49mconvs[i](x, edge_index, edge_weight)\n\u001b[1;32m    109\u001b[0m     out \u001b[39m=\u001b[39m out \u001b[39m+\u001b[39m x \u001b[39m*\u001b[39m \u001b[39mself\u001b[39m\u001b[39m.\u001b[39malpha[i \u001b[39m+\u001b[39m \u001b[39m1\u001b[39m]\n\u001b[1;32m    111\u001b[0m \u001b[39mreturn\u001b[39;00m out\n",
      "File \u001b[0;32m~/miniforge3/envs/ml_final/lib/python3.9/site-packages/torch/nn/modules/module.py:1518\u001b[0m, in \u001b[0;36mModule._wrapped_call_impl\u001b[0;34m(self, *args, **kwargs)\u001b[0m\n\u001b[1;32m   1516\u001b[0m     \u001b[39mreturn\u001b[39;00m \u001b[39mself\u001b[39m\u001b[39m.\u001b[39m_compiled_call_impl(\u001b[39m*\u001b[39margs, \u001b[39m*\u001b[39m\u001b[39m*\u001b[39mkwargs)  \u001b[39m# type: ignore[misc]\u001b[39;00m\n\u001b[1;32m   1517\u001b[0m \u001b[39melse\u001b[39;00m:\n\u001b[0;32m-> 1518\u001b[0m     \u001b[39mreturn\u001b[39;00m \u001b[39mself\u001b[39;49m\u001b[39m.\u001b[39;49m_call_impl(\u001b[39m*\u001b[39;49margs, \u001b[39m*\u001b[39;49m\u001b[39m*\u001b[39;49mkwargs)\n",
      "File \u001b[0;32m~/miniforge3/envs/ml_final/lib/python3.9/site-packages/torch/nn/modules/module.py:1527\u001b[0m, in \u001b[0;36mModule._call_impl\u001b[0;34m(self, *args, **kwargs)\u001b[0m\n\u001b[1;32m   1522\u001b[0m \u001b[39m# If we don't have any hooks, we want to skip the rest of the logic in\u001b[39;00m\n\u001b[1;32m   1523\u001b[0m \u001b[39m# this function, and just call forward.\u001b[39;00m\n\u001b[1;32m   1524\u001b[0m \u001b[39mif\u001b[39;00m \u001b[39mnot\u001b[39;00m (\u001b[39mself\u001b[39m\u001b[39m.\u001b[39m_backward_hooks \u001b[39mor\u001b[39;00m \u001b[39mself\u001b[39m\u001b[39m.\u001b[39m_backward_pre_hooks \u001b[39mor\u001b[39;00m \u001b[39mself\u001b[39m\u001b[39m.\u001b[39m_forward_hooks \u001b[39mor\u001b[39;00m \u001b[39mself\u001b[39m\u001b[39m.\u001b[39m_forward_pre_hooks\n\u001b[1;32m   1525\u001b[0m         \u001b[39mor\u001b[39;00m _global_backward_pre_hooks \u001b[39mor\u001b[39;00m _global_backward_hooks\n\u001b[1;32m   1526\u001b[0m         \u001b[39mor\u001b[39;00m _global_forward_hooks \u001b[39mor\u001b[39;00m _global_forward_pre_hooks):\n\u001b[0;32m-> 1527\u001b[0m     \u001b[39mreturn\u001b[39;00m forward_call(\u001b[39m*\u001b[39;49margs, \u001b[39m*\u001b[39;49m\u001b[39m*\u001b[39;49mkwargs)\n\u001b[1;32m   1529\u001b[0m \u001b[39mtry\u001b[39;00m:\n\u001b[1;32m   1530\u001b[0m     result \u001b[39m=\u001b[39m \u001b[39mNone\u001b[39;00m\n",
      "File \u001b[0;32m~/miniforge3/envs/ml_final/lib/python3.9/site-packages/torch_geometric/nn/conv/lg_conv.py:41\u001b[0m, in \u001b[0;36mLGConv.forward\u001b[0;34m(self, x, edge_index, edge_weight)\u001b[0m\n\u001b[1;32m     37\u001b[0m \u001b[39mdef\u001b[39;00m \u001b[39mforward\u001b[39m(\u001b[39mself\u001b[39m, x: Tensor, edge_index: Adj,\n\u001b[1;32m     38\u001b[0m             edge_weight: OptTensor \u001b[39m=\u001b[39m \u001b[39mNone\u001b[39;00m) \u001b[39m-\u001b[39m\u001b[39m>\u001b[39m Tensor:\n\u001b[1;32m     40\u001b[0m     \u001b[39mif\u001b[39;00m \u001b[39mself\u001b[39m\u001b[39m.\u001b[39mnormalize \u001b[39mand\u001b[39;00m \u001b[39misinstance\u001b[39m(edge_index, Tensor):\n\u001b[0;32m---> 41\u001b[0m         out \u001b[39m=\u001b[39m gcn_norm(edge_index, edge_weight, x\u001b[39m.\u001b[39;49msize(\u001b[39mself\u001b[39;49m\u001b[39m.\u001b[39;49mnode_dim),\n\u001b[1;32m     42\u001b[0m                        add_self_loops\u001b[39m=\u001b[39;49m\u001b[39mFalse\u001b[39;49;00m, flow\u001b[39m=\u001b[39;49m\u001b[39mself\u001b[39;49m\u001b[39m.\u001b[39;49mflow, dtype\u001b[39m=\u001b[39;49mx\u001b[39m.\u001b[39;49mdtype)\n\u001b[1;32m     43\u001b[0m         edge_index, edge_weight \u001b[39m=\u001b[39m out\n\u001b[1;32m     44\u001b[0m     \u001b[39melif\u001b[39;00m \u001b[39mself\u001b[39m\u001b[39m.\u001b[39mnormalize \u001b[39mand\u001b[39;00m \u001b[39misinstance\u001b[39m(edge_index, SparseTensor):\n",
      "File \u001b[0;32m~/miniforge3/envs/ml_final/lib/python3.9/site-packages/torch_geometric/nn/conv/gcn_conv.py:100\u001b[0m, in \u001b[0;36mgcn_norm\u001b[0;34m(edge_index, edge_weight, num_nodes, improved, add_self_loops, flow, dtype)\u001b[0m\n\u001b[1;32m     98\u001b[0m row, col \u001b[39m=\u001b[39m edge_index[\u001b[39m0\u001b[39m], edge_index[\u001b[39m1\u001b[39m]\n\u001b[1;32m     99\u001b[0m idx \u001b[39m=\u001b[39m col \u001b[39mif\u001b[39;00m flow \u001b[39m==\u001b[39m \u001b[39m'\u001b[39m\u001b[39msource_to_target\u001b[39m\u001b[39m'\u001b[39m \u001b[39melse\u001b[39;00m row\n\u001b[0;32m--> 100\u001b[0m deg \u001b[39m=\u001b[39m scatter(edge_weight, idx, dim\u001b[39m=\u001b[39;49m\u001b[39m0\u001b[39;49m, dim_size\u001b[39m=\u001b[39;49mnum_nodes, reduce\u001b[39m=\u001b[39;49m\u001b[39m'\u001b[39;49m\u001b[39msum\u001b[39;49m\u001b[39m'\u001b[39;49m)\n\u001b[1;32m    101\u001b[0m deg_inv_sqrt \u001b[39m=\u001b[39m deg\u001b[39m.\u001b[39mpow_(\u001b[39m-\u001b[39m\u001b[39m0.5\u001b[39m)\n\u001b[1;32m    102\u001b[0m deg_inv_sqrt\u001b[39m.\u001b[39mmasked_fill_(deg_inv_sqrt \u001b[39m==\u001b[39m \u001b[39mfloat\u001b[39m(\u001b[39m'\u001b[39m\u001b[39minf\u001b[39m\u001b[39m'\u001b[39m), \u001b[39m0\u001b[39m)\n",
      "File \u001b[0;32m~/miniforge3/envs/ml_final/lib/python3.9/site-packages/torch_geometric/utils/scatter.py:70\u001b[0m, in \u001b[0;36mscatter\u001b[0;34m(src, index, dim, dim_size, reduce)\u001b[0m\n\u001b[1;32m     68\u001b[0m \u001b[39mif\u001b[39;00m reduce \u001b[39m==\u001b[39m \u001b[39m'\u001b[39m\u001b[39msum\u001b[39m\u001b[39m'\u001b[39m \u001b[39mor\u001b[39;00m reduce \u001b[39m==\u001b[39m \u001b[39m'\u001b[39m\u001b[39madd\u001b[39m\u001b[39m'\u001b[39m:\n\u001b[1;32m     69\u001b[0m     index \u001b[39m=\u001b[39m broadcast(index, src, dim)\n\u001b[0;32m---> 70\u001b[0m     \u001b[39mreturn\u001b[39;00m src\u001b[39m.\u001b[39;49mnew_zeros(size)\u001b[39m.\u001b[39;49mscatter_add_(dim, index, src)\n\u001b[1;32m     72\u001b[0m \u001b[39mif\u001b[39;00m reduce \u001b[39m==\u001b[39m \u001b[39m'\u001b[39m\u001b[39mmean\u001b[39m\u001b[39m'\u001b[39m:\n\u001b[1;32m     73\u001b[0m     count \u001b[39m=\u001b[39m src\u001b[39m.\u001b[39mnew_zeros(dim_size)\n",
      "\u001b[0;31mRuntimeError\u001b[0m: scatter(): Expected dtype int64 for index"
     ]
    }
   ],
   "source": [
    "device = torch.device('cuda' if torch.cuda.is_available() else 'cpu')\n",
    "num_epochs = 500\n",
    "k = 10\n",
    "batch_size = 64\n",
    "edge_types = [\n",
    "    ('User', 'REVIEWS', 'Product'),\n",
    "    ('Product', 'rev_REVIEWS', 'User')\n",
    "]\n",
    "\n",
    "stats = {\n",
    "    'train': {\n",
    "        'loss': [],\n",
    "        'roc': []\n",
    "    },\n",
    "    'val': {\n",
    "        'loss': [],\n",
    "        'recall': [],\n",
    "        'roc': []\n",
    "    }\n",
    "}\n",
    "\n",
    "\n",
    "for epoch in tqdm(range(num_epochs), desc=\"Training Epochs\"):\n",
    "    model.train()\n",
    "    optimizer.zero_grad()\n",
    "\n",
    "    total_loss = 0\n",
    "    train_roc = []\n",
    "    for edge_type in edge_types:\n",
    "        node_type_1, relation, node_type_2 = edge_type\n",
    "        num_nodes_1 = train_split[node_type_1]['x'].size(0)\n",
    "        num_nodes_2 = train_split[node_type_2]['x'].size(0)\n",
    "\n",
    "        # Sample negative edges\n",
    "        # neg_edge_index, _ = sample_negative_edges_hetero(\n",
    "        #     train_split, relation, num_nodes_1, num_nodes_2, device=device\n",
    "        # )\n",
    "        print(len(train_split[edge_type].edge_index))\n",
    "        neg_edge_index = negative_sampling(train_split[edge_type].edge_index)\n",
    "        print(len(neg_edge_index))\n",
    "\n",
    "        # Get the positive edges\n",
    "        pos_edge_index = train_split[edge_type]['edge_index'].to(device)\n",
    "\n",
    "        # Compute scores for positive and negative edges\n",
    "        # print(pos_edge_index)\n",
    "        pos_scores = model(pos_edge_index)\n",
    "        neg_scores = model(neg_edge_index)\n",
    "\n",
    "        # Calculate BPR loss for this edge type\n",
    "        loss = bpr_loss(pos_scores, neg_scores, model.parameters())\n",
    "        total_loss += loss\n",
    "\n",
    "        train_roc.append(metrics(\n",
    "            torch.cat((train_split[edge_type].edge_label, torch.zeros_like(neg_scores)), dim=0),\n",
    "            torch.cat((pos_scores, neg_scores), dim=0)\n",
    "        ))\n",
    "    \n",
    "\n",
    "    mean_train_roc = sum(train_roc) / len(train_roc)\n",
    "    stats['train']['roc'].append(mean_train_roc)\n",
    "    total_loss /= len(edge_types)\n",
    "    stats['train']['loss'].append(total_loss)\n",
    "\n",
    "    # Backward pass\n",
    "    total_loss.backward()\n",
    "    optimizer.step()\n",
    "\n",
    "    if epoch % 10 == 0:\n",
    "        model.eval()\n",
    "        with torch.no_grad():\n",
    "            val_loss = 0\n",
    "            roc_scores = []\n",
    "            for edge_type in edge_types:\n",
    "                node_type_1, relation, node_type_2 = edge_type\n",
    "                # Get validation positive edges\n",
    "                val_pos_edge_index = val_split[edge_type]['edge_index'].to(device)\n",
    "                # Compute scores for validation positive edges\n",
    "                val_pos_scores = model(val_pos_edge_index)\n",
    "\n",
    "                num_nodes_1 = val_split[node_type_1]['x'].size(0)\n",
    "                num_nodes_2 = val_split[node_type_2]['x'].size(0)\n",
    "\n",
    "                # Sample negative edges\n",
    "                # neg_edge_index, _ = sample_negative_edges_hetero(\n",
    "                #     val_split, relation, num_nodes_1, num_nodes_2, device=device\n",
    "                # )\n",
    "                neg_edge_index = negative_sampling(val_split[edge_type].edge_index)\n",
    "                val_neg_scores = model(neg_edge_index)\n",
    "                \n",
    "\n",
    "                labels = torch.cat((val_split[edge_type].edge_label, torch.zeros_like(neg_scores)), dim=0)\n",
    "\n",
    "                val_roc = metrics(\n",
    "                    # torch.cat((val_split[edge_type].edge_label, torch.zeros_like(val_neg_scores)), dim=0),\n",
    "                    labels,\n",
    "                    torch.cat((val_pos_scores, val_neg_scores), dim=0)\n",
    "                )\n",
    "                roc_scores.append(val_roc)\n",
    "                val_loss += bpr_loss(val_pos_scores, val_neg_scores, model.parameters())\n",
    "\n",
    "            mean_val_roc = sum(roc_scores) / len(roc_scores)\n",
    "            stats['val']['roc'].append(mean_val_roc)\n",
    "            val_loss /= len(edge_types)\n",
    "            stats['val']['loss'].append(val_loss)\n",
    "\n",
    "\n",
    "\n",
    "\n",
    "            # Calculate recall @ K for the validation data across all edge types\n",
    "            val_recall = recall_at_k_hetero(val_split, model, edge_types=edge_types, k=k, batch_size=batch_size, device=device)\n",
    "            stats['val']['recall'].append(val_recall)\n",
    "            print(f\"Validation Recall@{k}: {val_recall}, Validation ROC: {mean_val_roc}\")\n",
    "\n",
    "    \n",
    "\n",
    "\n",
    "    if epoch % 50 == 0:\n",
    "        pickle.dump(stats, open(f\"model_stats/{model.name}_{epoch}.pkl\", \"wb\"))\n",
    "\n",
    "# Final model and stats saving\n",
    "torch.save(model.state_dict(), f\"model_weights/{model.name}.pt\")\n",
    "pickle.dump(stats, open(f\"model_stats/{model.name}_final.pkl\", \"wb\"))\n",
    "    "
   ]
  },
  {
   "cell_type": "code",
   "execution_count": null,
   "metadata": {},
   "outputs": [],
   "source": []
  },
  {
   "cell_type": "code",
   "execution_count": 101,
   "metadata": {},
   "outputs": [
    {
     "name": "stdout",
     "output_type": "stream",
     "text": [
      "The autoreload extension is already loaded. To reload it, use:\n",
      "  %reload_ext autoreload\n"
     ]
    },
    {
     "name": "stderr",
     "output_type": "stream",
     "text": [
      "  0%|          | 2/500 [00:00<00:33, 14.85it/s]"
     ]
    },
    {
     "name": "stdout",
     "output_type": "stream",
     "text": [
      "Epoch 1/500, Loss: 2.457628011703491\n",
      "Epoch 2/500, Loss: 2.454821825027466\n",
      "Epoch 3/500, Loss: 2.43867826461792\n"
     ]
    },
    {
     "name": "stderr",
     "output_type": "stream",
     "text": [
      "  1%|          | 4/500 [00:00<00:31, 15.88it/s]"
     ]
    },
    {
     "name": "stdout",
     "output_type": "stream",
     "text": [
      "Epoch 4/500, Loss: 2.4410040378570557\n"
     ]
    },
    {
     "name": "stderr",
     "output_type": "stream",
     "text": [
      "  1%|          | 6/500 [00:00<00:36, 13.54it/s]"
     ]
    },
    {
     "name": "stdout",
     "output_type": "stream",
     "text": [
      "Epoch 5/500, Loss: 2.4203553199768066\n",
      "Epoch 6/500, Loss: 2.4064550399780273\n",
      "Epoch 7/500, Loss: 2.403580665588379\n"
     ]
    },
    {
     "name": "stderr",
     "output_type": "stream",
     "text": [
      "  2%|▏         | 10/500 [00:00<00:32, 14.98it/s]"
     ]
    },
    {
     "name": "stdout",
     "output_type": "stream",
     "text": [
      "Epoch 8/500, Loss: 2.3977878093719482\n",
      "Epoch 9/500, Loss: 2.3857855796813965\n",
      "Epoch 10/500, Loss: 2.376553535461426\n",
      "Epoch 11/500, Loss: 2.3761682510375977\n"
     ]
    },
    {
     "name": "stderr",
     "output_type": "stream",
     "text": [
      "  3%|▎         | 14/500 [00:00<00:30, 16.07it/s]"
     ]
    },
    {
     "name": "stdout",
     "output_type": "stream",
     "text": [
      "Epoch 12/500, Loss: 2.370124101638794\n",
      "Epoch 13/500, Loss: 2.355012893676758\n",
      "Epoch 14/500, Loss: 2.3454179763793945\n",
      "Epoch 15/500, Loss: 2.3345441818237305\n"
     ]
    },
    {
     "name": "stderr",
     "output_type": "stream",
     "text": [
      "  4%|▎         | 18/500 [00:01<00:28, 16.68it/s]"
     ]
    },
    {
     "name": "stdout",
     "output_type": "stream",
     "text": [
      "Epoch 16/500, Loss: 2.3326244354248047\n",
      "Epoch 17/500, Loss: 2.3259475231170654\n",
      "Epoch 18/500, Loss: 2.3137567043304443\n",
      "Epoch 19/500, Loss: 2.3143632411956787\n"
     ]
    },
    {
     "name": "stderr",
     "output_type": "stream",
     "text": [
      "  4%|▍         | 20/500 [00:01<00:28, 16.94it/s]"
     ]
    },
    {
     "name": "stdout",
     "output_type": "stream",
     "text": [
      "Epoch 20/500, Loss: 2.309238910675049\n",
      "Epoch 21/500, Loss: 2.295135498046875\n"
     ]
    },
    {
     "name": "stderr",
     "output_type": "stream",
     "text": [
      "  4%|▍         | 22/500 [00:01<00:30, 15.64it/s]"
     ]
    },
    {
     "name": "stdout",
     "output_type": "stream",
     "text": [
      "Epoch 22/500, Loss: 2.2868106365203857\n"
     ]
    },
    {
     "name": "stderr",
     "output_type": "stream",
     "text": [
      "  5%|▍         | 24/500 [00:01<00:30, 15.76it/s]"
     ]
    },
    {
     "name": "stdout",
     "output_type": "stream",
     "text": [
      "Epoch 23/500, Loss: 2.283902883529663\n",
      "Epoch 24/500, Loss: 2.270864725112915\n",
      "Epoch 25/500, Loss: 2.269679069519043\n"
     ]
    },
    {
     "name": "stderr",
     "output_type": "stream",
     "text": [
      "  5%|▌         | 26/500 [00:01<00:29, 16.07it/s]"
     ]
    },
    {
     "name": "stdout",
     "output_type": "stream",
     "text": [
      "Epoch 26/500, Loss: 2.261323928833008\n"
     ]
    },
    {
     "name": "stderr",
     "output_type": "stream",
     "text": [
      "  6%|▌         | 28/500 [00:01<00:34, 13.88it/s]"
     ]
    },
    {
     "name": "stdout",
     "output_type": "stream",
     "text": [
      "Epoch 27/500, Loss: 2.2602896690368652\n",
      "Epoch 28/500, Loss: 2.2580466270446777\n"
     ]
    },
    {
     "name": "stderr",
     "output_type": "stream",
     "text": [
      "  6%|▌         | 30/500 [00:01<00:31, 14.79it/s]"
     ]
    },
    {
     "name": "stdout",
     "output_type": "stream",
     "text": [
      "Epoch 29/500, Loss: 2.2434089183807373\n",
      "Epoch 30/500, Loss: 2.234210729598999\n"
     ]
    },
    {
     "name": "stderr",
     "output_type": "stream",
     "text": [
      "  6%|▋         | 32/500 [00:02<00:30, 15.36it/s]"
     ]
    },
    {
     "name": "stdout",
     "output_type": "stream",
     "text": [
      "Epoch 31/500, Loss: 2.2357335090637207\n",
      "Epoch 32/500, Loss: 2.23553204536438\n"
     ]
    },
    {
     "name": "stderr",
     "output_type": "stream",
     "text": [
      "  7%|▋         | 34/500 [00:02<00:31, 15.01it/s]"
     ]
    },
    {
     "name": "stdout",
     "output_type": "stream",
     "text": [
      "Epoch 33/500, Loss: 2.226902961730957\n",
      "Epoch 34/500, Loss: 2.223540782928467\n"
     ]
    },
    {
     "name": "stderr",
     "output_type": "stream",
     "text": [
      "  7%|▋         | 36/500 [00:02<00:29, 15.66it/s]"
     ]
    },
    {
     "name": "stdout",
     "output_type": "stream",
     "text": [
      "Epoch 35/500, Loss: 2.208822250366211\n",
      "Epoch 36/500, Loss: 2.207371950149536\n"
     ]
    },
    {
     "name": "stderr",
     "output_type": "stream",
     "text": [
      "  8%|▊         | 38/500 [00:02<00:28, 16.34it/s]"
     ]
    },
    {
     "name": "stdout",
     "output_type": "stream",
     "text": [
      "Epoch 37/500, Loss: 2.2020723819732666\n",
      "Epoch 38/500, Loss: 2.2004499435424805\n"
     ]
    },
    {
     "name": "stderr",
     "output_type": "stream",
     "text": [
      "  8%|▊         | 40/500 [00:02<00:27, 16.75it/s]"
     ]
    },
    {
     "name": "stdout",
     "output_type": "stream",
     "text": [
      "Epoch 39/500, Loss: 2.184217691421509\n",
      "Epoch 40/500, Loss: 2.1870267391204834\n"
     ]
    },
    {
     "name": "stderr",
     "output_type": "stream",
     "text": [
      "  8%|▊         | 42/500 [00:02<00:27, 16.77it/s]"
     ]
    },
    {
     "name": "stdout",
     "output_type": "stream",
     "text": [
      "Epoch 41/500, Loss: 2.185652017593384\n",
      "Epoch 42/500, Loss: 2.178556442260742\n"
     ]
    },
    {
     "name": "stderr",
     "output_type": "stream",
     "text": [
      "  9%|▉         | 44/500 [00:02<00:26, 17.16it/s]"
     ]
    },
    {
     "name": "stdout",
     "output_type": "stream",
     "text": [
      "Epoch 43/500, Loss: 2.1739509105682373\n",
      "Epoch 44/500, Loss: 2.167067289352417\n"
     ]
    },
    {
     "name": "stderr",
     "output_type": "stream",
     "text": [
      "  9%|▉         | 46/500 [00:02<00:26, 16.94it/s]"
     ]
    },
    {
     "name": "stdout",
     "output_type": "stream",
     "text": [
      "Epoch 45/500, Loss: 2.16252064704895\n",
      "Epoch 46/500, Loss: 2.149702787399292\n"
     ]
    },
    {
     "name": "stderr",
     "output_type": "stream",
     "text": [
      " 10%|▉         | 48/500 [00:03<00:26, 17.20it/s]"
     ]
    },
    {
     "name": "stdout",
     "output_type": "stream",
     "text": [
      "Epoch 47/500, Loss: 2.148721933364868\n",
      "Epoch 48/500, Loss: 2.143733263015747\n"
     ]
    },
    {
     "name": "stderr",
     "output_type": "stream",
     "text": [
      " 10%|█         | 50/500 [00:03<00:25, 17.50it/s]"
     ]
    },
    {
     "name": "stdout",
     "output_type": "stream",
     "text": [
      "Epoch 49/500, Loss: 2.1555182933807373\n",
      "Epoch 50/500, Loss: 2.1470494270324707\n"
     ]
    },
    {
     "name": "stderr",
     "output_type": "stream",
     "text": [
      " 10%|█         | 52/500 [00:03<00:25, 17.33it/s]"
     ]
    },
    {
     "name": "stdout",
     "output_type": "stream",
     "text": [
      "Epoch 51/500, Loss: 2.13786244392395\n",
      "Epoch 52/500, Loss: 2.131387948989868\n"
     ]
    },
    {
     "name": "stderr",
     "output_type": "stream",
     "text": [
      " 11%|█         | 54/500 [00:03<00:25, 17.44it/s]"
     ]
    },
    {
     "name": "stdout",
     "output_type": "stream",
     "text": [
      "Epoch 53/500, Loss: 2.1268868446350098\n",
      "Epoch 54/500, Loss: 2.1259121894836426\n"
     ]
    },
    {
     "name": "stderr",
     "output_type": "stream",
     "text": [
      " 11%|█         | 56/500 [00:03<00:25, 17.50it/s]"
     ]
    },
    {
     "name": "stdout",
     "output_type": "stream",
     "text": [
      "Epoch 55/500, Loss: 2.11639666557312\n",
      "Epoch 56/500, Loss: 2.1083085536956787\n",
      "Epoch 57/500, Loss: 2.1203835010528564\n"
     ]
    },
    {
     "name": "stderr",
     "output_type": "stream",
     "text": [
      " 12%|█▏        | 58/500 [00:03<00:28, 15.47it/s]"
     ]
    },
    {
     "name": "stdout",
     "output_type": "stream",
     "text": [
      "Epoch 58/500, Loss: 2.111060619354248\n",
      "Epoch 59/500, Loss: 2.1127798557281494\n"
     ]
    },
    {
     "name": "stderr",
     "output_type": "stream",
     "text": [
      " 12%|█▏        | 60/500 [00:03<00:27, 16.24it/s]"
     ]
    },
    {
     "name": "stdout",
     "output_type": "stream",
     "text": [
      "Epoch 60/500, Loss: 2.102755308151245\n",
      "Epoch 61/500, Loss: 2.0912983417510986\n"
     ]
    },
    {
     "name": "stderr",
     "output_type": "stream",
     "text": [
      " 12%|█▏        | 62/500 [00:03<00:26, 16.77it/s]"
     ]
    },
    {
     "name": "stdout",
     "output_type": "stream",
     "text": [
      "Epoch 62/500, Loss: 2.1066174507141113\n",
      "Epoch 63/500, Loss: 2.08832049369812\n"
     ]
    },
    {
     "name": "stderr",
     "output_type": "stream",
     "text": [
      " 13%|█▎        | 64/500 [00:03<00:25, 17.31it/s]"
     ]
    },
    {
     "name": "stdout",
     "output_type": "stream",
     "text": [
      "Epoch 64/500, Loss: 2.0773425102233887\n",
      "Epoch 65/500, Loss: 2.074873208999634\n"
     ]
    },
    {
     "name": "stderr",
     "output_type": "stream",
     "text": [
      " 13%|█▎        | 66/500 [00:04<00:24, 17.53it/s]"
     ]
    },
    {
     "name": "stdout",
     "output_type": "stream",
     "text": [
      "Epoch 66/500, Loss: 2.0810458660125732\n",
      "Epoch 67/500, Loss: 2.0758376121520996\n"
     ]
    },
    {
     "name": "stderr",
     "output_type": "stream",
     "text": [
      " 14%|█▎        | 68/500 [00:04<00:24, 17.73it/s]"
     ]
    },
    {
     "name": "stdout",
     "output_type": "stream",
     "text": [
      "Epoch 68/500, Loss: 2.096675395965576\n",
      "Epoch 69/500, Loss: 2.0620079040527344\n"
     ]
    },
    {
     "name": "stderr",
     "output_type": "stream",
     "text": [
      " 14%|█▍        | 70/500 [00:04<00:23, 17.92it/s]"
     ]
    },
    {
     "name": "stdout",
     "output_type": "stream",
     "text": [
      "Epoch 70/500, Loss: 2.0687246322631836\n",
      "Epoch 71/500, Loss: 2.059007406234741\n"
     ]
    },
    {
     "name": "stderr",
     "output_type": "stream",
     "text": [
      " 14%|█▍        | 72/500 [00:04<00:23, 18.08it/s]"
     ]
    },
    {
     "name": "stdout",
     "output_type": "stream",
     "text": [
      "Epoch 72/500, Loss: 2.058030605316162\n",
      "Epoch 73/500, Loss: 2.0568408966064453\n"
     ]
    },
    {
     "name": "stderr",
     "output_type": "stream",
     "text": [
      " 15%|█▍        | 74/500 [00:04<00:23, 18.00it/s]"
     ]
    },
    {
     "name": "stdout",
     "output_type": "stream",
     "text": [
      "Epoch 74/500, Loss: 2.0549004077911377\n",
      "Epoch 75/500, Loss: 2.047065496444702\n"
     ]
    },
    {
     "name": "stderr",
     "output_type": "stream",
     "text": [
      " 15%|█▌        | 76/500 [00:04<00:23, 18.04it/s]"
     ]
    },
    {
     "name": "stdout",
     "output_type": "stream",
     "text": [
      "Epoch 76/500, Loss: 2.042208671569824\n",
      "Epoch 77/500, Loss: 2.043813467025757\n"
     ]
    },
    {
     "name": "stderr",
     "output_type": "stream",
     "text": [
      " 16%|█▌        | 78/500 [00:04<00:23, 18.24it/s]"
     ]
    },
    {
     "name": "stdout",
     "output_type": "stream",
     "text": [
      "Epoch 78/500, Loss: 2.0314435958862305\n",
      "Epoch 79/500, Loss: 2.0477819442749023\n"
     ]
    },
    {
     "name": "stderr",
     "output_type": "stream",
     "text": [
      " 16%|█▌        | 80/500 [00:04<00:22, 18.28it/s]"
     ]
    },
    {
     "name": "stdout",
     "output_type": "stream",
     "text": [
      "Epoch 80/500, Loss: 2.0243093967437744\n",
      "Epoch 81/500, Loss: 2.0342297554016113\n"
     ]
    },
    {
     "name": "stderr",
     "output_type": "stream",
     "text": [
      " 16%|█▋        | 82/500 [00:04<00:22, 18.24it/s]"
     ]
    },
    {
     "name": "stdout",
     "output_type": "stream",
     "text": [
      "Epoch 82/500, Loss: 2.022961378097534\n",
      "Epoch 83/500, Loss: 2.0432252883911133\n"
     ]
    },
    {
     "name": "stderr",
     "output_type": "stream",
     "text": [
      " 17%|█▋        | 84/500 [00:05<00:22, 18.30it/s]"
     ]
    },
    {
     "name": "stdout",
     "output_type": "stream",
     "text": [
      "Epoch 84/500, Loss: 2.02685809135437\n",
      "Epoch 85/500, Loss: 2.011132001876831\n"
     ]
    },
    {
     "name": "stderr",
     "output_type": "stream",
     "text": [
      " 17%|█▋        | 86/500 [00:05<00:23, 17.99it/s]"
     ]
    },
    {
     "name": "stdout",
     "output_type": "stream",
     "text": [
      "Epoch 86/500, Loss: 2.0205016136169434\n",
      "Epoch 87/500, Loss: 2.0209248065948486\n"
     ]
    },
    {
     "name": "stderr",
     "output_type": "stream",
     "text": [
      " 18%|█▊        | 90/500 [00:05<00:27, 15.16it/s]"
     ]
    },
    {
     "name": "stdout",
     "output_type": "stream",
     "text": [
      "Epoch 88/500, Loss: 2.0105507373809814\n",
      "Epoch 89/500, Loss: 2.019866943359375\n",
      "Epoch 90/500, Loss: 2.0025887489318848\n",
      "Epoch 91/500, Loss: 2.0105385780334473\n"
     ]
    },
    {
     "name": "stderr",
     "output_type": "stream",
     "text": [
      " 19%|█▉        | 94/500 [00:05<00:24, 16.86it/s]"
     ]
    },
    {
     "name": "stdout",
     "output_type": "stream",
     "text": [
      "Epoch 92/500, Loss: 2.004833698272705\n",
      "Epoch 93/500, Loss: 2.0031509399414062\n",
      "Epoch 94/500, Loss: 1.9879016876220703\n",
      "Epoch 95/500, Loss: 1.9883619546890259\n"
     ]
    },
    {
     "name": "stderr",
     "output_type": "stream",
     "text": [
      " 20%|█▉        | 98/500 [00:05<00:22, 17.49it/s]"
     ]
    },
    {
     "name": "stdout",
     "output_type": "stream",
     "text": [
      "Epoch 96/500, Loss: 1.9928960800170898\n",
      "Epoch 97/500, Loss: 1.9895246028900146\n",
      "Epoch 98/500, Loss: 1.9749585390090942\n",
      "Epoch 99/500, Loss: 1.9986560344696045\n"
     ]
    },
    {
     "name": "stderr",
     "output_type": "stream",
     "text": [
      " 20%|██        | 102/500 [00:06<00:22, 17.36it/s]"
     ]
    },
    {
     "name": "stdout",
     "output_type": "stream",
     "text": [
      "Epoch 100/500, Loss: 1.9666146039962769\n",
      "Epoch 101/500, Loss: 1.9748079776763916\n",
      "Epoch 102/500, Loss: 1.9682706594467163\n",
      "Epoch 103/500, Loss: 1.9809538125991821\n"
     ]
    },
    {
     "name": "stderr",
     "output_type": "stream",
     "text": [
      " 21%|██        | 106/500 [00:06<00:23, 16.68it/s]"
     ]
    },
    {
     "name": "stdout",
     "output_type": "stream",
     "text": [
      "Epoch 104/500, Loss: 1.9738277196884155\n",
      "Epoch 105/500, Loss: 1.9750162363052368\n",
      "Epoch 106/500, Loss: 1.9556633234024048\n",
      "Epoch 107/500, Loss: 1.945886254310608\n"
     ]
    },
    {
     "name": "stderr",
     "output_type": "stream",
     "text": [
      " 22%|██▏       | 110/500 [00:06<00:22, 17.24it/s]"
     ]
    },
    {
     "name": "stdout",
     "output_type": "stream",
     "text": [
      "Epoch 108/500, Loss: 1.9582651853561401\n",
      "Epoch 109/500, Loss: 1.9491193294525146\n",
      "Epoch 110/500, Loss: 1.9666107892990112\n",
      "Epoch 111/500, Loss: 1.952741026878357\n"
     ]
    },
    {
     "name": "stderr",
     "output_type": "stream",
     "text": [
      " 23%|██▎       | 114/500 [00:06<00:21, 18.03it/s]"
     ]
    },
    {
     "name": "stdout",
     "output_type": "stream",
     "text": [
      "Epoch 112/500, Loss: 1.9484264850616455\n",
      "Epoch 113/500, Loss: 1.9511128664016724\n",
      "Epoch 114/500, Loss: 1.9627243280410767\n",
      "Epoch 115/500, Loss: 1.9448304176330566\n"
     ]
    },
    {
     "name": "stderr",
     "output_type": "stream",
     "text": [
      " 24%|██▎       | 118/500 [00:07<00:21, 18.16it/s]"
     ]
    },
    {
     "name": "stdout",
     "output_type": "stream",
     "text": [
      "Epoch 116/500, Loss: 1.9348759651184082\n",
      "Epoch 117/500, Loss: 1.926054835319519\n",
      "Epoch 118/500, Loss: 1.9287052154541016\n",
      "Epoch 119/500, Loss: 1.925940752029419\n"
     ]
    },
    {
     "name": "stderr",
     "output_type": "stream",
     "text": [
      " 24%|██▍       | 122/500 [00:07<00:20, 18.22it/s]"
     ]
    },
    {
     "name": "stdout",
     "output_type": "stream",
     "text": [
      "Epoch 120/500, Loss: 1.9215213060379028\n",
      "Epoch 121/500, Loss: 1.940415382385254\n",
      "Epoch 122/500, Loss: 1.9243741035461426\n",
      "Epoch 123/500, Loss: 1.9068259000778198\n"
     ]
    },
    {
     "name": "stderr",
     "output_type": "stream",
     "text": [
      " 25%|██▌       | 126/500 [00:07<00:20, 17.85it/s]"
     ]
    },
    {
     "name": "stdout",
     "output_type": "stream",
     "text": [
      "Epoch 124/500, Loss: 1.913638710975647\n",
      "Epoch 125/500, Loss: 1.9134182929992676\n",
      "Epoch 126/500, Loss: 1.9310951232910156\n",
      "Epoch 127/500, Loss: 1.9145607948303223\n"
     ]
    },
    {
     "name": "stderr",
     "output_type": "stream",
     "text": [
      " 26%|██▌       | 130/500 [00:07<00:20, 17.83it/s]"
     ]
    },
    {
     "name": "stdout",
     "output_type": "stream",
     "text": [
      "Epoch 128/500, Loss: 1.9154945611953735\n",
      "Epoch 129/500, Loss: 1.9227330684661865\n",
      "Epoch 130/500, Loss: 1.9117803573608398\n",
      "Epoch 131/500, Loss: 1.897139310836792\n"
     ]
    },
    {
     "name": "stderr",
     "output_type": "stream",
     "text": [
      " 27%|██▋       | 134/500 [00:07<00:20, 17.58it/s]"
     ]
    },
    {
     "name": "stdout",
     "output_type": "stream",
     "text": [
      "Epoch 132/500, Loss: 1.937618374824524\n",
      "Epoch 133/500, Loss: 1.9165183305740356\n",
      "Epoch 134/500, Loss: 1.8970838785171509\n",
      "Epoch 135/500, Loss: 1.9060673713684082\n"
     ]
    },
    {
     "name": "stderr",
     "output_type": "stream",
     "text": [
      " 28%|██▊       | 138/500 [00:08<00:20, 17.76it/s]"
     ]
    },
    {
     "name": "stdout",
     "output_type": "stream",
     "text": [
      "Epoch 136/500, Loss: 1.8866435289382935\n",
      "Epoch 137/500, Loss: 1.8859643936157227\n",
      "Epoch 138/500, Loss: 1.898066520690918\n",
      "Epoch 139/500, Loss: 1.885090947151184\n"
     ]
    },
    {
     "name": "stderr",
     "output_type": "stream",
     "text": [
      " 28%|██▊       | 142/500 [00:08<00:20, 17.14it/s]"
     ]
    },
    {
     "name": "stdout",
     "output_type": "stream",
     "text": [
      "Epoch 140/500, Loss: 1.8863223791122437\n",
      "Epoch 141/500, Loss: 1.892491340637207\n",
      "Epoch 142/500, Loss: 1.8796614408493042\n",
      "Epoch 143/500, Loss: 1.8963639736175537\n"
     ]
    },
    {
     "name": "stderr",
     "output_type": "stream",
     "text": [
      " 29%|██▉       | 146/500 [00:08<00:22, 15.99it/s]"
     ]
    },
    {
     "name": "stdout",
     "output_type": "stream",
     "text": [
      "Epoch 144/500, Loss: 1.8918273448944092\n",
      "Epoch 145/500, Loss: 1.883327841758728\n",
      "Epoch 146/500, Loss: 1.8935143947601318\n",
      "Epoch 147/500, Loss: 1.9170410633087158\n"
     ]
    },
    {
     "name": "stderr",
     "output_type": "stream",
     "text": [
      " 30%|███       | 150/500 [00:08<00:20, 17.30it/s]"
     ]
    },
    {
     "name": "stdout",
     "output_type": "stream",
     "text": [
      "Epoch 148/500, Loss: 1.8597888946533203\n",
      "Epoch 149/500, Loss: 1.8817412853240967\n",
      "Epoch 150/500, Loss: 1.8894035816192627\n",
      "Epoch 151/500, Loss: 1.8791207075119019\n"
     ]
    },
    {
     "name": "stderr",
     "output_type": "stream",
     "text": [
      " 31%|███       | 153/500 [00:09<00:20, 17.33it/s]"
     ]
    },
    {
     "name": "stdout",
     "output_type": "stream",
     "text": [
      "Epoch 152/500, Loss: 1.886223316192627\n",
      "Epoch 153/500, Loss: 1.8504652976989746\n",
      "Epoch 154/500, Loss: 1.8663545846939087\n"
     ]
    },
    {
     "name": "stderr",
     "output_type": "stream",
     "text": [
      " 31%|███▏      | 157/500 [00:09<00:20, 17.09it/s]"
     ]
    },
    {
     "name": "stdout",
     "output_type": "stream",
     "text": [
      "Epoch 155/500, Loss: 1.8542225360870361\n",
      "Epoch 156/500, Loss: 1.8402303457260132\n",
      "Epoch 157/500, Loss: 1.851662278175354\n",
      "Epoch 158/500, Loss: 1.8497247695922852\n"
     ]
    },
    {
     "name": "stderr",
     "output_type": "stream",
     "text": [
      " 32%|███▏      | 161/500 [00:09<00:18, 17.99it/s]"
     ]
    },
    {
     "name": "stdout",
     "output_type": "stream",
     "text": [
      "Epoch 159/500, Loss: 1.8415473699569702\n",
      "Epoch 160/500, Loss: 1.8676965236663818\n",
      "Epoch 161/500, Loss: 1.8526016473770142\n",
      "Epoch 162/500, Loss: 1.8549251556396484\n"
     ]
    },
    {
     "name": "stderr",
     "output_type": "stream",
     "text": [
      " 33%|███▎      | 165/500 [00:09<00:18, 18.34it/s]"
     ]
    },
    {
     "name": "stdout",
     "output_type": "stream",
     "text": [
      "Epoch 163/500, Loss: 1.8521814346313477\n",
      "Epoch 164/500, Loss: 1.8494069576263428\n",
      "Epoch 165/500, Loss: 1.8708140850067139\n",
      "Epoch 166/500, Loss: 1.8396615982055664\n"
     ]
    },
    {
     "name": "stderr",
     "output_type": "stream",
     "text": [
      " 34%|███▍      | 169/500 [00:09<00:17, 18.67it/s]"
     ]
    },
    {
     "name": "stdout",
     "output_type": "stream",
     "text": [
      "Epoch 167/500, Loss: 1.8411022424697876\n",
      "Epoch 168/500, Loss: 1.8313559293746948\n",
      "Epoch 169/500, Loss: 1.8377692699432373\n",
      "Epoch 170/500, Loss: 1.8285776376724243\n"
     ]
    },
    {
     "name": "stderr",
     "output_type": "stream",
     "text": [
      " 35%|███▍      | 173/500 [00:10<00:18, 17.29it/s]"
     ]
    },
    {
     "name": "stdout",
     "output_type": "stream",
     "text": [
      "Epoch 171/500, Loss: 1.8287686109542847\n",
      "Epoch 172/500, Loss: 1.8437002897262573\n",
      "Epoch 173/500, Loss: 1.8123220205307007\n",
      "Epoch 174/500, Loss: 1.8687070608139038\n"
     ]
    },
    {
     "name": "stderr",
     "output_type": "stream",
     "text": [
      " 35%|███▌      | 177/500 [00:10<00:18, 17.84it/s]"
     ]
    },
    {
     "name": "stdout",
     "output_type": "stream",
     "text": [
      "Epoch 175/500, Loss: 1.8183923959732056\n",
      "Epoch 176/500, Loss: 1.8216369152069092\n",
      "Epoch 177/500, Loss: 1.8410513401031494\n",
      "Epoch 178/500, Loss: 1.8019720315933228\n"
     ]
    },
    {
     "name": "stderr",
     "output_type": "stream",
     "text": [
      " 36%|███▌      | 181/500 [00:10<00:18, 17.50it/s]"
     ]
    },
    {
     "name": "stdout",
     "output_type": "stream",
     "text": [
      "Epoch 179/500, Loss: 1.8260716199874878\n",
      "Epoch 180/500, Loss: 1.8179786205291748\n",
      "Epoch 181/500, Loss: 1.8341432809829712\n",
      "Epoch 182/500, Loss: 1.8158262968063354\n"
     ]
    },
    {
     "name": "stderr",
     "output_type": "stream",
     "text": [
      " 37%|███▋      | 185/500 [00:10<00:17, 18.19it/s]"
     ]
    },
    {
     "name": "stdout",
     "output_type": "stream",
     "text": [
      "Epoch 183/500, Loss: 1.8200149536132812\n",
      "Epoch 184/500, Loss: 1.8569434881210327\n",
      "Epoch 185/500, Loss: 1.8116507530212402\n",
      "Epoch 186/500, Loss: 1.8219468593597412\n"
     ]
    },
    {
     "name": "stderr",
     "output_type": "stream",
     "text": [
      " 38%|███▊      | 189/500 [00:11<00:16, 18.63it/s]"
     ]
    },
    {
     "name": "stdout",
     "output_type": "stream",
     "text": [
      "Epoch 187/500, Loss: 1.8253883123397827\n",
      "Epoch 188/500, Loss: 1.8167836666107178\n",
      "Epoch 189/500, Loss: 1.8261618614196777\n",
      "Epoch 190/500, Loss: 1.8102068901062012\n"
     ]
    },
    {
     "name": "stderr",
     "output_type": "stream",
     "text": [
      " 39%|███▊      | 193/500 [00:11<00:16, 18.32it/s]"
     ]
    },
    {
     "name": "stdout",
     "output_type": "stream",
     "text": [
      "Epoch 191/500, Loss: 1.8205554485321045\n",
      "Epoch 192/500, Loss: 1.7973495721817017\n",
      "Epoch 193/500, Loss: 1.7944684028625488\n",
      "Epoch 194/500, Loss: 1.7935773134231567\n"
     ]
    },
    {
     "name": "stderr",
     "output_type": "stream",
     "text": [
      " 39%|███▉      | 197/500 [00:11<00:16, 18.91it/s]"
     ]
    },
    {
     "name": "stdout",
     "output_type": "stream",
     "text": [
      "Epoch 195/500, Loss: 1.7829725742340088\n",
      "Epoch 196/500, Loss: 1.8014289140701294\n",
      "Epoch 197/500, Loss: 1.7923880815505981\n",
      "Epoch 198/500, Loss: 1.7718603610992432\n"
     ]
    },
    {
     "name": "stderr",
     "output_type": "stream",
     "text": [
      " 40%|████      | 201/500 [00:11<00:18, 15.85it/s]"
     ]
    },
    {
     "name": "stdout",
     "output_type": "stream",
     "text": [
      "Epoch 199/500, Loss: 1.7721275091171265\n",
      "Epoch 200/500, Loss: 1.7960059642791748\n",
      "Epoch 201/500, Loss: 1.785599708557129\n"
     ]
    },
    {
     "name": "stderr",
     "output_type": "stream",
     "text": [
      " 41%|████      | 205/500 [00:11<00:17, 16.94it/s]"
     ]
    },
    {
     "name": "stdout",
     "output_type": "stream",
     "text": [
      "Epoch 202/500, Loss: 1.7847175598144531\n",
      "Epoch 203/500, Loss: 1.782121181488037\n",
      "Epoch 204/500, Loss: 1.7764643430709839\n",
      "Epoch 205/500, Loss: 1.7568837404251099\n"
     ]
    },
    {
     "name": "stderr",
     "output_type": "stream",
     "text": [
      " 41%|████▏     | 207/500 [00:12<00:18, 15.81it/s]"
     ]
    },
    {
     "name": "stdout",
     "output_type": "stream",
     "text": [
      "Epoch 206/500, Loss: 1.7717056274414062\n",
      "Epoch 207/500, Loss: 1.8066996335983276\n",
      "Epoch 208/500, Loss: 1.8070557117462158\n"
     ]
    },
    {
     "name": "stderr",
     "output_type": "stream",
     "text": [
      " 42%|████▏     | 211/500 [00:12<00:37,  7.74it/s]"
     ]
    },
    {
     "name": "stdout",
     "output_type": "stream",
     "text": [
      "Epoch 209/500, Loss: 1.8183649778366089\n",
      "Epoch 210/500, Loss: 1.7982728481292725\n",
      "Epoch 211/500, Loss: 1.7593982219696045\n"
     ]
    },
    {
     "name": "stderr",
     "output_type": "stream",
     "text": [
      " 43%|████▎     | 215/500 [00:13<00:26, 10.79it/s]"
     ]
    },
    {
     "name": "stdout",
     "output_type": "stream",
     "text": [
      "Epoch 212/500, Loss: 1.7917169332504272\n",
      "Epoch 213/500, Loss: 1.756963849067688\n",
      "Epoch 214/500, Loss: 1.7750270366668701\n",
      "Epoch 215/500, Loss: 1.7655144929885864\n"
     ]
    },
    {
     "name": "stderr",
     "output_type": "stream",
     "text": [
      " 44%|████▍     | 219/500 [00:13<00:20, 13.54it/s]"
     ]
    },
    {
     "name": "stdout",
     "output_type": "stream",
     "text": [
      "Epoch 216/500, Loss: 1.7766399383544922\n",
      "Epoch 217/500, Loss: 1.7790279388427734\n",
      "Epoch 218/500, Loss: 1.7528207302093506\n",
      "Epoch 219/500, Loss: 1.7533117532730103\n"
     ]
    },
    {
     "name": "stderr",
     "output_type": "stream",
     "text": [
      " 45%|████▍     | 223/500 [00:13<00:17, 15.59it/s]"
     ]
    },
    {
     "name": "stdout",
     "output_type": "stream",
     "text": [
      "Epoch 220/500, Loss: 1.7875255346298218\n",
      "Epoch 221/500, Loss: 1.7547160387039185\n",
      "Epoch 222/500, Loss: 1.753542184829712\n",
      "Epoch 223/500, Loss: 1.758092999458313\n"
     ]
    },
    {
     "name": "stderr",
     "output_type": "stream",
     "text": [
      " 45%|████▌     | 227/500 [00:13<00:16, 16.71it/s]"
     ]
    },
    {
     "name": "stdout",
     "output_type": "stream",
     "text": [
      "Epoch 224/500, Loss: 1.7517038583755493\n",
      "Epoch 225/500, Loss: 1.7532024383544922\n",
      "Epoch 226/500, Loss: 1.7739359140396118\n",
      "Epoch 227/500, Loss: 1.74318265914917\n"
     ]
    },
    {
     "name": "stderr",
     "output_type": "stream",
     "text": [
      " 46%|████▌     | 231/500 [00:14<00:15, 17.48it/s]"
     ]
    },
    {
     "name": "stdout",
     "output_type": "stream",
     "text": [
      "Epoch 228/500, Loss: 1.7686024904251099\n",
      "Epoch 229/500, Loss: 1.7763588428497314\n",
      "Epoch 230/500, Loss: 1.7276870012283325\n",
      "Epoch 231/500, Loss: 1.7449978590011597\n"
     ]
    },
    {
     "name": "stderr",
     "output_type": "stream",
     "text": [
      " 47%|████▋     | 235/500 [00:14<00:15, 17.22it/s]"
     ]
    },
    {
     "name": "stdout",
     "output_type": "stream",
     "text": [
      "Epoch 232/500, Loss: 1.75539231300354\n",
      "Epoch 233/500, Loss: 1.7572683095932007\n",
      "Epoch 234/500, Loss: 1.7547862529754639\n",
      "Epoch 235/500, Loss: 1.7624382972717285\n"
     ]
    },
    {
     "name": "stderr",
     "output_type": "stream",
     "text": [
      " 48%|████▊     | 239/500 [00:14<00:14, 17.52it/s]"
     ]
    },
    {
     "name": "stdout",
     "output_type": "stream",
     "text": [
      "Epoch 236/500, Loss: 1.7486708164215088\n",
      "Epoch 237/500, Loss: 1.7275424003601074\n",
      "Epoch 238/500, Loss: 1.754286766052246\n",
      "Epoch 239/500, Loss: 1.722235918045044\n"
     ]
    },
    {
     "name": "stderr",
     "output_type": "stream",
     "text": [
      " 49%|████▊     | 243/500 [00:14<00:14, 17.88it/s]"
     ]
    },
    {
     "name": "stdout",
     "output_type": "stream",
     "text": [
      "Epoch 240/500, Loss: 1.7078303098678589\n",
      "Epoch 241/500, Loss: 1.7184077501296997\n",
      "Epoch 242/500, Loss: 1.742882251739502\n",
      "Epoch 243/500, Loss: 1.7173757553100586\n"
     ]
    },
    {
     "name": "stderr",
     "output_type": "stream",
     "text": [
      " 49%|████▉     | 247/500 [00:15<00:14, 17.05it/s]"
     ]
    },
    {
     "name": "stdout",
     "output_type": "stream",
     "text": [
      "Epoch 244/500, Loss: 1.7491263151168823\n",
      "Epoch 245/500, Loss: 1.7510839700698853\n",
      "Epoch 246/500, Loss: 1.7352852821350098\n",
      "Epoch 247/500, Loss: 1.748047113418579\n"
     ]
    },
    {
     "name": "stderr",
     "output_type": "stream",
     "text": [
      " 50%|████▉     | 249/500 [00:15<00:14, 17.30it/s]"
     ]
    },
    {
     "name": "stdout",
     "output_type": "stream",
     "text": [
      "Epoch 248/500, Loss: 1.7622318267822266\n",
      "Epoch 249/500, Loss: 1.7352931499481201\n",
      "Epoch 250/500, Loss: 1.7474299669265747\n"
     ]
    },
    {
     "name": "stderr",
     "output_type": "stream",
     "text": [
      " 51%|█████     | 253/500 [00:15<00:16, 14.63it/s]"
     ]
    },
    {
     "name": "stdout",
     "output_type": "stream",
     "text": [
      "Epoch 251/500, Loss: 1.7296953201293945\n",
      "Epoch 252/500, Loss: 1.7407325506210327\n",
      "Epoch 253/500, Loss: 1.7329485416412354\n",
      "Epoch 254/500, Loss: 1.7169991731643677\n"
     ]
    },
    {
     "name": "stderr",
     "output_type": "stream",
     "text": [
      " 51%|█████▏    | 257/500 [00:15<00:15, 15.52it/s]"
     ]
    },
    {
     "name": "stdout",
     "output_type": "stream",
     "text": [
      "Epoch 255/500, Loss: 1.7046235799789429\n",
      "Epoch 256/500, Loss: 1.722536563873291\n",
      "Epoch 257/500, Loss: 1.7003048658370972\n",
      "Epoch 258/500, Loss: 1.7050408124923706\n"
     ]
    },
    {
     "name": "stderr",
     "output_type": "stream",
     "text": [
      " 52%|█████▏    | 261/500 [00:15<00:14, 16.71it/s]"
     ]
    },
    {
     "name": "stdout",
     "output_type": "stream",
     "text": [
      "Epoch 259/500, Loss: 1.6938607692718506\n",
      "Epoch 260/500, Loss: 1.7222983837127686\n",
      "Epoch 261/500, Loss: 1.7006781101226807\n",
      "Epoch 262/500, Loss: 1.7031816244125366\n"
     ]
    },
    {
     "name": "stderr",
     "output_type": "stream",
     "text": [
      " 53%|█████▎    | 266/500 [00:16<00:13, 17.64it/s]"
     ]
    },
    {
     "name": "stdout",
     "output_type": "stream",
     "text": [
      "Epoch 263/500, Loss: 1.7294747829437256\n",
      "Epoch 264/500, Loss: 1.6801644563674927\n",
      "Epoch 265/500, Loss: 1.6859148740768433\n",
      "Epoch 266/500, Loss: 1.7144666910171509\n"
     ]
    },
    {
     "name": "stderr",
     "output_type": "stream",
     "text": [
      " 54%|█████▍    | 270/500 [00:16<00:13, 17.20it/s]"
     ]
    },
    {
     "name": "stdout",
     "output_type": "stream",
     "text": [
      "Epoch 267/500, Loss: 1.7138700485229492\n",
      "Epoch 268/500, Loss: 1.7141517400741577\n",
      "Epoch 269/500, Loss: 1.703977346420288\n",
      "Epoch 270/500, Loss: 1.7133104801177979\n"
     ]
    },
    {
     "name": "stderr",
     "output_type": "stream",
     "text": [
      " 55%|█████▍    | 274/500 [00:16<00:12, 17.62it/s]"
     ]
    },
    {
     "name": "stdout",
     "output_type": "stream",
     "text": [
      "Epoch 271/500, Loss: 1.7254939079284668\n",
      "Epoch 272/500, Loss: 1.725838541984558\n",
      "Epoch 273/500, Loss: 1.7439388036727905\n",
      "Epoch 274/500, Loss: 1.7310394048690796\n"
     ]
    },
    {
     "name": "stderr",
     "output_type": "stream",
     "text": [
      " 56%|█████▌    | 278/500 [00:16<00:12, 17.85it/s]"
     ]
    },
    {
     "name": "stdout",
     "output_type": "stream",
     "text": [
      "Epoch 275/500, Loss: 1.6817243099212646\n",
      "Epoch 276/500, Loss: 1.6954319477081299\n",
      "Epoch 277/500, Loss: 1.7196191549301147\n",
      "Epoch 278/500, Loss: 1.7097796201705933\n"
     ]
    },
    {
     "name": "stderr",
     "output_type": "stream",
     "text": [
      " 56%|█████▌    | 280/500 [00:16<00:12, 17.91it/s]"
     ]
    },
    {
     "name": "stdout",
     "output_type": "stream",
     "text": [
      "Epoch 279/500, Loss: 1.6960941553115845\n",
      "Epoch 280/500, Loss: 1.7056708335876465\n",
      "Epoch 281/500, Loss: 1.6978893280029297\n"
     ]
    },
    {
     "name": "stderr",
     "output_type": "stream",
     "text": [
      " 57%|█████▋    | 284/500 [00:17<00:13, 16.12it/s]"
     ]
    },
    {
     "name": "stdout",
     "output_type": "stream",
     "text": [
      "Epoch 282/500, Loss: 1.6786506175994873\n",
      "Epoch 283/500, Loss: 1.675881266593933\n",
      "Epoch 284/500, Loss: 1.6834520101547241\n",
      "Epoch 285/500, Loss: 1.7003858089447021\n"
     ]
    },
    {
     "name": "stderr",
     "output_type": "stream",
     "text": [
      " 58%|█████▊    | 288/500 [00:17<00:12, 16.58it/s]"
     ]
    },
    {
     "name": "stdout",
     "output_type": "stream",
     "text": [
      "Epoch 286/500, Loss: 1.6975948810577393\n",
      "Epoch 287/500, Loss: 1.6656900644302368\n",
      "Epoch 288/500, Loss: 1.67137610912323\n",
      "Epoch 289/500, Loss: 1.6913471221923828\n"
     ]
    },
    {
     "name": "stderr",
     "output_type": "stream",
     "text": [
      " 58%|█████▊    | 292/500 [00:17<00:12, 16.59it/s]"
     ]
    },
    {
     "name": "stdout",
     "output_type": "stream",
     "text": [
      "Epoch 290/500, Loss: 1.7004504203796387\n",
      "Epoch 291/500, Loss: 1.6517599821090698\n",
      "Epoch 292/500, Loss: 1.6619476079940796\n",
      "Epoch 293/500, Loss: 1.6938320398330688\n"
     ]
    },
    {
     "name": "stderr",
     "output_type": "stream",
     "text": [
      " 59%|█████▉    | 296/500 [00:17<00:11, 17.23it/s]"
     ]
    },
    {
     "name": "stdout",
     "output_type": "stream",
     "text": [
      "Epoch 294/500, Loss: 1.6911495923995972\n",
      "Epoch 295/500, Loss: 1.6801072359085083\n",
      "Epoch 296/500, Loss: 1.6755197048187256\n",
      "Epoch 297/500, Loss: 1.6805413961410522\n"
     ]
    },
    {
     "name": "stderr",
     "output_type": "stream",
     "text": [
      " 60%|██████    | 300/500 [00:18<00:11, 17.97it/s]"
     ]
    },
    {
     "name": "stdout",
     "output_type": "stream",
     "text": [
      "Epoch 298/500, Loss: 1.6473366022109985\n",
      "Epoch 299/500, Loss: 1.6654062271118164\n",
      "Epoch 300/500, Loss: 1.685872197151184\n",
      "Epoch 301/500, Loss: 1.655505895614624\n"
     ]
    },
    {
     "name": "stderr",
     "output_type": "stream",
     "text": [
      " 61%|██████    | 304/500 [00:18<00:11, 17.61it/s]"
     ]
    },
    {
     "name": "stdout",
     "output_type": "stream",
     "text": [
      "Epoch 302/500, Loss: 1.691769003868103\n",
      "Epoch 303/500, Loss: 1.6810259819030762\n",
      "Epoch 304/500, Loss: 1.6943327188491821\n",
      "Epoch 305/500, Loss: 1.6364926099777222\n"
     ]
    },
    {
     "name": "stderr",
     "output_type": "stream",
     "text": [
      " 62%|██████▏   | 308/500 [00:18<00:10, 18.04it/s]"
     ]
    },
    {
     "name": "stdout",
     "output_type": "stream",
     "text": [
      "Epoch 306/500, Loss: 1.6503188610076904\n",
      "Epoch 307/500, Loss: 1.6441211700439453\n",
      "Epoch 308/500, Loss: 1.6830034255981445\n",
      "Epoch 309/500, Loss: 1.6615259647369385\n"
     ]
    },
    {
     "name": "stderr",
     "output_type": "stream",
     "text": [
      " 62%|██████▏   | 312/500 [00:18<00:10, 18.35it/s]"
     ]
    },
    {
     "name": "stdout",
     "output_type": "stream",
     "text": [
      "Epoch 310/500, Loss: 1.7254204750061035\n",
      "Epoch 311/500, Loss: 1.6759532690048218\n",
      "Epoch 312/500, Loss: 1.706402063369751\n",
      "Epoch 313/500, Loss: 1.6649417877197266\n"
     ]
    },
    {
     "name": "stderr",
     "output_type": "stream",
     "text": [
      " 63%|██████▎   | 316/500 [00:19<00:09, 18.65it/s]"
     ]
    },
    {
     "name": "stdout",
     "output_type": "stream",
     "text": [
      "Epoch 314/500, Loss: 1.6770027875900269\n",
      "Epoch 315/500, Loss: 1.6637638807296753\n",
      "Epoch 316/500, Loss: 1.652734398841858\n",
      "Epoch 317/500, Loss: 1.6692050695419312\n"
     ]
    },
    {
     "name": "stderr",
     "output_type": "stream",
     "text": [
      " 64%|██████▍   | 320/500 [00:19<00:09, 18.36it/s]"
     ]
    },
    {
     "name": "stdout",
     "output_type": "stream",
     "text": [
      "Epoch 318/500, Loss: 1.677281141281128\n",
      "Epoch 319/500, Loss: 1.6740511655807495\n",
      "Epoch 320/500, Loss: 1.6289968490600586\n",
      "Epoch 321/500, Loss: 1.6466162204742432\n"
     ]
    },
    {
     "name": "stderr",
     "output_type": "stream",
     "text": [
      " 65%|██████▍   | 324/500 [00:19<00:09, 17.74it/s]"
     ]
    },
    {
     "name": "stdout",
     "output_type": "stream",
     "text": [
      "Epoch 322/500, Loss: 1.6773191690444946\n",
      "Epoch 323/500, Loss: 1.6786328554153442\n",
      "Epoch 324/500, Loss: 1.6201647520065308\n",
      "Epoch 325/500, Loss: 1.6317673921585083\n"
     ]
    },
    {
     "name": "stderr",
     "output_type": "stream",
     "text": [
      " 66%|██████▌   | 328/500 [00:19<00:09, 18.16it/s]"
     ]
    },
    {
     "name": "stdout",
     "output_type": "stream",
     "text": [
      "Epoch 326/500, Loss: 1.6902961730957031\n",
      "Epoch 327/500, Loss: 1.6445355415344238\n",
      "Epoch 328/500, Loss: 1.644055724143982\n",
      "Epoch 329/500, Loss: 1.6733899116516113\n"
     ]
    },
    {
     "name": "stderr",
     "output_type": "stream",
     "text": [
      " 66%|██████▋   | 332/500 [00:19<00:09, 18.37it/s]"
     ]
    },
    {
     "name": "stdout",
     "output_type": "stream",
     "text": [
      "Epoch 330/500, Loss: 1.6356652975082397\n",
      "Epoch 331/500, Loss: 1.648017406463623\n",
      "Epoch 332/500, Loss: 1.6760581731796265\n",
      "Epoch 333/500, Loss: 1.6385456323623657\n"
     ]
    },
    {
     "name": "stderr",
     "output_type": "stream",
     "text": [
      " 67%|██████▋   | 336/500 [00:20<00:10, 15.87it/s]"
     ]
    },
    {
     "name": "stdout",
     "output_type": "stream",
     "text": [
      "Epoch 334/500, Loss: 1.6307525634765625\n",
      "Epoch 335/500, Loss: 1.5950254201889038\n",
      "Epoch 336/500, Loss: 1.6114455461502075\n"
     ]
    },
    {
     "name": "stderr",
     "output_type": "stream",
     "text": [
      " 68%|██████▊   | 340/500 [00:20<00:09, 17.11it/s]"
     ]
    },
    {
     "name": "stdout",
     "output_type": "stream",
     "text": [
      "Epoch 337/500, Loss: 1.6228280067443848\n",
      "Epoch 338/500, Loss: 1.6157797574996948\n",
      "Epoch 339/500, Loss: 1.6488704681396484\n",
      "Epoch 340/500, Loss: 1.6569710969924927\n"
     ]
    },
    {
     "name": "stderr",
     "output_type": "stream",
     "text": [
      " 69%|██████▉   | 344/500 [00:20<00:08, 17.93it/s]"
     ]
    },
    {
     "name": "stdout",
     "output_type": "stream",
     "text": [
      "Epoch 341/500, Loss: 1.6417198181152344\n",
      "Epoch 342/500, Loss: 1.6249239444732666\n",
      "Epoch 343/500, Loss: 1.6152750253677368\n",
      "Epoch 344/500, Loss: 1.6145683526992798\n"
     ]
    },
    {
     "name": "stderr",
     "output_type": "stream",
     "text": [
      " 70%|██████▉   | 348/500 [00:20<00:08, 18.42it/s]"
     ]
    },
    {
     "name": "stdout",
     "output_type": "stream",
     "text": [
      "Epoch 345/500, Loss: 1.6138768196105957\n",
      "Epoch 346/500, Loss: 1.6030598878860474\n",
      "Epoch 347/500, Loss: 1.6699299812316895\n",
      "Epoch 348/500, Loss: 1.6355931758880615\n"
     ]
    },
    {
     "name": "stderr",
     "output_type": "stream",
     "text": [
      " 70%|███████   | 352/500 [00:21<00:08, 18.13it/s]"
     ]
    },
    {
     "name": "stdout",
     "output_type": "stream",
     "text": [
      "Epoch 349/500, Loss: 1.6761844158172607\n",
      "Epoch 350/500, Loss: 1.6209465265274048\n",
      "Epoch 351/500, Loss: 1.6285467147827148\n",
      "Epoch 352/500, Loss: 1.6158422231674194\n"
     ]
    },
    {
     "name": "stderr",
     "output_type": "stream",
     "text": [
      " 71%|███████   | 354/500 [00:21<00:07, 18.38it/s]"
     ]
    },
    {
     "name": "stdout",
     "output_type": "stream",
     "text": [
      "Epoch 353/500, Loss: 1.6220747232437134\n",
      "Epoch 354/500, Loss: 1.6379612684249878\n",
      "Epoch 355/500, Loss: 1.642066478729248\n"
     ]
    },
    {
     "name": "stderr",
     "output_type": "stream",
     "text": [
      " 72%|███████▏  | 358/500 [00:21<00:09, 14.41it/s]"
     ]
    },
    {
     "name": "stdout",
     "output_type": "stream",
     "text": [
      "Epoch 356/500, Loss: 1.6253024339675903\n",
      "Epoch 357/500, Loss: 1.5795124769210815\n",
      "Epoch 358/500, Loss: 1.6364606618881226\n"
     ]
    },
    {
     "name": "stderr",
     "output_type": "stream",
     "text": [
      " 72%|███████▏  | 362/500 [00:21<00:08, 15.69it/s]"
     ]
    },
    {
     "name": "stdout",
     "output_type": "stream",
     "text": [
      "Epoch 359/500, Loss: 1.6309762001037598\n",
      "Epoch 360/500, Loss: 1.6319564580917358\n",
      "Epoch 361/500, Loss: 1.6137615442276\n",
      "Epoch 362/500, Loss: 1.627305269241333\n"
     ]
    },
    {
     "name": "stderr",
     "output_type": "stream",
     "text": [
      " 73%|███████▎  | 366/500 [00:21<00:07, 17.09it/s]"
     ]
    },
    {
     "name": "stdout",
     "output_type": "stream",
     "text": [
      "Epoch 363/500, Loss: 1.6017889976501465\n",
      "Epoch 364/500, Loss: 1.602937936782837\n",
      "Epoch 365/500, Loss: 1.6104826927185059\n",
      "Epoch 366/500, Loss: 1.6176049709320068\n"
     ]
    },
    {
     "name": "stderr",
     "output_type": "stream",
     "text": [
      " 74%|███████▍  | 370/500 [00:22<00:07, 17.78it/s]"
     ]
    },
    {
     "name": "stdout",
     "output_type": "stream",
     "text": [
      "Epoch 367/500, Loss: 1.6286512613296509\n",
      "Epoch 368/500, Loss: 1.6304377317428589\n",
      "Epoch 369/500, Loss: 1.590143084526062\n",
      "Epoch 370/500, Loss: 1.6399247646331787\n"
     ]
    },
    {
     "name": "stderr",
     "output_type": "stream",
     "text": [
      " 75%|███████▍  | 374/500 [00:22<00:07, 17.19it/s]"
     ]
    },
    {
     "name": "stdout",
     "output_type": "stream",
     "text": [
      "Epoch 371/500, Loss: 1.5869877338409424\n",
      "Epoch 372/500, Loss: 1.56968355178833\n",
      "Epoch 373/500, Loss: 1.5765072107315063\n",
      "Epoch 374/500, Loss: 1.624184012413025\n"
     ]
    },
    {
     "name": "stderr",
     "output_type": "stream",
     "text": [
      " 76%|███████▌  | 378/500 [00:22<00:06, 17.45it/s]"
     ]
    },
    {
     "name": "stdout",
     "output_type": "stream",
     "text": [
      "Epoch 375/500, Loss: 1.6202484369277954\n",
      "Epoch 376/500, Loss: 1.6122554540634155\n",
      "Epoch 377/500, Loss: 1.5704021453857422\n",
      "Epoch 378/500, Loss: 1.6034168004989624\n"
     ]
    },
    {
     "name": "stderr",
     "output_type": "stream",
     "text": [
      " 76%|███████▋  | 382/500 [00:22<00:06, 17.83it/s]"
     ]
    },
    {
     "name": "stdout",
     "output_type": "stream",
     "text": [
      "Epoch 379/500, Loss: 1.5559123754501343\n",
      "Epoch 380/500, Loss: 1.5901511907577515\n",
      "Epoch 381/500, Loss: 1.6238919496536255\n",
      "Epoch 382/500, Loss: 1.5807833671569824\n"
     ]
    },
    {
     "name": "stderr",
     "output_type": "stream",
     "text": [
      " 77%|███████▋  | 384/500 [00:22<00:07, 15.95it/s]"
     ]
    },
    {
     "name": "stdout",
     "output_type": "stream",
     "text": [
      "Epoch 383/500, Loss: 1.6031898260116577\n",
      "Epoch 384/500, Loss: 1.575931429862976\n",
      "Epoch 385/500, Loss: 1.5781444311141968\n"
     ]
    },
    {
     "name": "stderr",
     "output_type": "stream",
     "text": [
      " 78%|███████▊  | 388/500 [00:23<00:06, 16.96it/s]"
     ]
    },
    {
     "name": "stdout",
     "output_type": "stream",
     "text": [
      "Epoch 386/500, Loss: 1.5762535333633423\n",
      "Epoch 387/500, Loss: 1.5974509716033936\n",
      "Epoch 388/500, Loss: 1.571199893951416\n",
      "Epoch 389/500, Loss: 1.5891937017440796\n"
     ]
    },
    {
     "name": "stderr",
     "output_type": "stream",
     "text": [
      " 78%|███████▊  | 392/500 [00:23<00:06, 17.78it/s]"
     ]
    },
    {
     "name": "stdout",
     "output_type": "stream",
     "text": [
      "Epoch 390/500, Loss: 1.6222578287124634\n",
      "Epoch 391/500, Loss: 1.5758122205734253\n",
      "Epoch 392/500, Loss: 1.5918980836868286\n",
      "Epoch 393/500, Loss: 1.572021245956421\n"
     ]
    },
    {
     "name": "stderr",
     "output_type": "stream",
     "text": [
      " 79%|███████▉  | 396/500 [00:23<00:05, 18.30it/s]"
     ]
    },
    {
     "name": "stdout",
     "output_type": "stream",
     "text": [
      "Epoch 394/500, Loss: 1.5959126949310303\n",
      "Epoch 395/500, Loss: 1.5722267627716064\n",
      "Epoch 396/500, Loss: 1.5811012983322144\n",
      "Epoch 397/500, Loss: 1.6151219606399536\n"
     ]
    },
    {
     "name": "stderr",
     "output_type": "stream",
     "text": [
      " 80%|████████  | 400/500 [00:23<00:05, 18.51it/s]"
     ]
    },
    {
     "name": "stdout",
     "output_type": "stream",
     "text": [
      "Epoch 398/500, Loss: 1.6028270721435547\n",
      "Epoch 399/500, Loss: 1.578236699104309\n",
      "Epoch 400/500, Loss: 1.6079210042953491\n",
      "Epoch 401/500, Loss: 1.578966736793518\n"
     ]
    },
    {
     "name": "stderr",
     "output_type": "stream",
     "text": [
      " 81%|████████  | 404/500 [00:24<00:05, 18.66it/s]"
     ]
    },
    {
     "name": "stdout",
     "output_type": "stream",
     "text": [
      "Epoch 402/500, Loss: 1.5936048030853271\n",
      "Epoch 403/500, Loss: 1.586807370185852\n",
      "Epoch 404/500, Loss: 1.5710512399673462\n",
      "Epoch 405/500, Loss: 1.5654847621917725\n"
     ]
    },
    {
     "name": "stderr",
     "output_type": "stream",
     "text": [
      " 82%|████████▏ | 408/500 [00:24<00:04, 18.58it/s]"
     ]
    },
    {
     "name": "stdout",
     "output_type": "stream",
     "text": [
      "Epoch 406/500, Loss: 1.5702006816864014\n",
      "Epoch 407/500, Loss: 1.5935075283050537\n",
      "Epoch 408/500, Loss: 1.5787488222122192\n",
      "Epoch 409/500, Loss: 1.6032947301864624\n"
     ]
    },
    {
     "name": "stderr",
     "output_type": "stream",
     "text": [
      " 82%|████████▏ | 412/500 [00:24<00:04, 17.65it/s]"
     ]
    },
    {
     "name": "stdout",
     "output_type": "stream",
     "text": [
      "Epoch 410/500, Loss: 1.6091063022613525\n",
      "Epoch 411/500, Loss: 1.6333001852035522\n",
      "Epoch 412/500, Loss: 1.571629524230957\n",
      "Epoch 413/500, Loss: 1.6016913652420044\n"
     ]
    },
    {
     "name": "stderr",
     "output_type": "stream",
     "text": [
      " 83%|████████▎ | 416/500 [00:24<00:04, 18.21it/s]"
     ]
    },
    {
     "name": "stdout",
     "output_type": "stream",
     "text": [
      "Epoch 414/500, Loss: 1.5918387174606323\n",
      "Epoch 415/500, Loss: 1.5850865840911865\n",
      "Epoch 416/500, Loss: 1.5679621696472168\n",
      "Epoch 417/500, Loss: 1.5726934671401978\n"
     ]
    },
    {
     "name": "stderr",
     "output_type": "stream",
     "text": [
      " 84%|████████▍ | 420/500 [00:24<00:04, 18.23it/s]"
     ]
    },
    {
     "name": "stdout",
     "output_type": "stream",
     "text": [
      "Epoch 418/500, Loss: 1.5502734184265137\n",
      "Epoch 419/500, Loss: 1.6451605558395386\n",
      "Epoch 420/500, Loss: 1.5427755117416382\n",
      "Epoch 421/500, Loss: 1.5582468509674072\n"
     ]
    },
    {
     "name": "stderr",
     "output_type": "stream",
     "text": [
      " 85%|████████▍ | 424/500 [00:25<00:04, 18.39it/s]"
     ]
    },
    {
     "name": "stdout",
     "output_type": "stream",
     "text": [
      "Epoch 422/500, Loss: 1.582362174987793\n",
      "Epoch 423/500, Loss: 1.6027835607528687\n",
      "Epoch 424/500, Loss: 1.6155980825424194\n",
      "Epoch 425/500, Loss: 1.5612766742706299\n"
     ]
    },
    {
     "name": "stderr",
     "output_type": "stream",
     "text": [
      " 86%|████████▌ | 428/500 [00:25<00:04, 16.93it/s]"
     ]
    },
    {
     "name": "stdout",
     "output_type": "stream",
     "text": [
      "Epoch 426/500, Loss: 1.561636209487915\n",
      "Epoch 427/500, Loss: 1.569811463356018\n",
      "Epoch 428/500, Loss: 1.572581171989441\n",
      "Epoch 429/500, Loss: 1.5852551460266113\n"
     ]
    },
    {
     "name": "stderr",
     "output_type": "stream",
     "text": [
      " 86%|████████▋ | 432/500 [00:25<00:03, 17.41it/s]"
     ]
    },
    {
     "name": "stdout",
     "output_type": "stream",
     "text": [
      "Epoch 430/500, Loss: 1.546298623085022\n",
      "Epoch 431/500, Loss: 1.5937219858169556\n",
      "Epoch 432/500, Loss: 1.5551140308380127\n",
      "Epoch 433/500, Loss: 1.5889968872070312\n"
     ]
    },
    {
     "name": "stderr",
     "output_type": "stream",
     "text": [
      " 87%|████████▋ | 436/500 [00:25<00:04, 15.94it/s]"
     ]
    },
    {
     "name": "stdout",
     "output_type": "stream",
     "text": [
      "Epoch 434/500, Loss: 1.5712761878967285\n",
      "Epoch 435/500, Loss: 1.5171523094177246\n",
      "Epoch 436/500, Loss: 1.632678508758545\n"
     ]
    },
    {
     "name": "stderr",
     "output_type": "stream",
     "text": [
      " 88%|████████▊ | 440/500 [00:26<00:03, 16.52it/s]"
     ]
    },
    {
     "name": "stdout",
     "output_type": "stream",
     "text": [
      "Epoch 437/500, Loss: 1.5449550151824951\n",
      "Epoch 438/500, Loss: 1.5780304670333862\n",
      "Epoch 439/500, Loss: 1.516812801361084\n",
      "Epoch 440/500, Loss: 1.574987530708313\n"
     ]
    },
    {
     "name": "stderr",
     "output_type": "stream",
     "text": [
      " 89%|████████▉ | 444/500 [00:26<00:03, 17.43it/s]"
     ]
    },
    {
     "name": "stdout",
     "output_type": "stream",
     "text": [
      "Epoch 441/500, Loss: 1.5520155429840088\n",
      "Epoch 442/500, Loss: 1.5722475051879883\n",
      "Epoch 443/500, Loss: 1.6220303773880005\n",
      "Epoch 444/500, Loss: 1.54432213306427\n"
     ]
    },
    {
     "name": "stderr",
     "output_type": "stream",
     "text": [
      " 90%|████████▉ | 448/500 [00:26<00:02, 17.38it/s]"
     ]
    },
    {
     "name": "stdout",
     "output_type": "stream",
     "text": [
      "Epoch 445/500, Loss: 1.5704573392868042\n",
      "Epoch 446/500, Loss: 1.6055080890655518\n",
      "Epoch 447/500, Loss: 1.5396018028259277\n",
      "Epoch 448/500, Loss: 1.5125572681427002\n"
     ]
    },
    {
     "name": "stderr",
     "output_type": "stream",
     "text": [
      " 90%|█████████ | 452/500 [00:26<00:02, 17.87it/s]"
     ]
    },
    {
     "name": "stdout",
     "output_type": "stream",
     "text": [
      "Epoch 449/500, Loss: 1.5576115846633911\n",
      "Epoch 450/500, Loss: 1.5608824491500854\n",
      "Epoch 451/500, Loss: 1.5293290615081787\n",
      "Epoch 452/500, Loss: 1.5356625318527222\n"
     ]
    },
    {
     "name": "stderr",
     "output_type": "stream",
     "text": [
      " 91%|█████████ | 456/500 [00:27<00:02, 17.91it/s]"
     ]
    },
    {
     "name": "stdout",
     "output_type": "stream",
     "text": [
      "Epoch 453/500, Loss: 1.5454591512680054\n",
      "Epoch 454/500, Loss: 1.5508036613464355\n",
      "Epoch 455/500, Loss: 1.5367101430892944\n",
      "Epoch 456/500, Loss: 1.570984959602356\n"
     ]
    },
    {
     "name": "stderr",
     "output_type": "stream",
     "text": [
      " 92%|█████████▏| 460/500 [00:27<00:02, 18.05it/s]"
     ]
    },
    {
     "name": "stdout",
     "output_type": "stream",
     "text": [
      "Epoch 457/500, Loss: 1.568569302558899\n",
      "Epoch 458/500, Loss: 1.5445795059204102\n",
      "Epoch 459/500, Loss: 1.5304040908813477\n",
      "Epoch 460/500, Loss: 1.511959195137024\n"
     ]
    },
    {
     "name": "stderr",
     "output_type": "stream",
     "text": [
      " 93%|█████████▎| 464/500 [00:27<00:01, 18.26it/s]"
     ]
    },
    {
     "name": "stdout",
     "output_type": "stream",
     "text": [
      "Epoch 461/500, Loss: 1.5442389249801636\n",
      "Epoch 462/500, Loss: 1.5286662578582764\n",
      "Epoch 463/500, Loss: 1.570899486541748\n",
      "Epoch 464/500, Loss: 1.5555577278137207\n"
     ]
    },
    {
     "name": "stderr",
     "output_type": "stream",
     "text": [
      " 94%|█████████▎| 468/500 [00:27<00:01, 18.10it/s]"
     ]
    },
    {
     "name": "stdout",
     "output_type": "stream",
     "text": [
      "Epoch 465/500, Loss: 1.5587407350540161\n",
      "Epoch 466/500, Loss: 1.518727421760559\n",
      "Epoch 467/500, Loss: 1.5757664442062378\n",
      "Epoch 468/500, Loss: 1.5185436010360718\n"
     ]
    },
    {
     "name": "stderr",
     "output_type": "stream",
     "text": [
      " 94%|█████████▍| 472/500 [00:27<00:01, 18.08it/s]"
     ]
    },
    {
     "name": "stdout",
     "output_type": "stream",
     "text": [
      "Epoch 469/500, Loss: 1.5251476764678955\n",
      "Epoch 470/500, Loss: 1.529099941253662\n",
      "Epoch 471/500, Loss: 1.5309475660324097\n",
      "Epoch 472/500, Loss: 1.5399761199951172\n"
     ]
    },
    {
     "name": "stderr",
     "output_type": "stream",
     "text": [
      " 95%|█████████▌| 476/500 [00:28<00:01, 18.32it/s]"
     ]
    },
    {
     "name": "stdout",
     "output_type": "stream",
     "text": [
      "Epoch 473/500, Loss: 1.536512017250061\n",
      "Epoch 474/500, Loss: 1.5915367603302002\n",
      "Epoch 475/500, Loss: 1.5991485118865967\n",
      "Epoch 476/500, Loss: 1.5210199356079102\n"
     ]
    },
    {
     "name": "stderr",
     "output_type": "stream",
     "text": [
      " 96%|█████████▌| 478/500 [00:28<00:01, 16.69it/s]"
     ]
    },
    {
     "name": "stdout",
     "output_type": "stream",
     "text": [
      "Epoch 477/500, Loss: 1.52466881275177\n",
      "Epoch 478/500, Loss: 1.588670253753662\n"
     ]
    },
    {
     "name": "stderr",
     "output_type": "stream",
     "text": [
      " 96%|█████████▌| 480/500 [00:28<00:01, 13.78it/s]"
     ]
    },
    {
     "name": "stdout",
     "output_type": "stream",
     "text": [
      "Epoch 479/500, Loss: 1.5831553936004639\n",
      "Epoch 480/500, Loss: 1.5680468082427979\n",
      "Epoch 481/500, Loss: 1.5321286916732788\n"
     ]
    },
    {
     "name": "stderr",
     "output_type": "stream",
     "text": [
      " 97%|█████████▋| 484/500 [00:28<00:01, 14.31it/s]"
     ]
    },
    {
     "name": "stdout",
     "output_type": "stream",
     "text": [
      "Epoch 482/500, Loss: 1.566127896308899\n",
      "Epoch 483/500, Loss: 1.5576828718185425\n",
      "Epoch 484/500, Loss: 1.557536244392395\n",
      "Epoch 485/500, Loss: 1.5613336563110352\n"
     ]
    },
    {
     "name": "stderr",
     "output_type": "stream",
     "text": [
      " 98%|█████████▊| 488/500 [00:28<00:00, 16.25it/s]"
     ]
    },
    {
     "name": "stdout",
     "output_type": "stream",
     "text": [
      "Epoch 486/500, Loss: 1.577595591545105\n",
      "Epoch 487/500, Loss: 1.535296082496643\n",
      "Epoch 488/500, Loss: 1.5558630228042603\n",
      "Epoch 489/500, Loss: 1.5886164903640747\n"
     ]
    },
    {
     "name": "stderr",
     "output_type": "stream",
     "text": [
      " 98%|█████████▊| 492/500 [00:29<00:00, 17.14it/s]"
     ]
    },
    {
     "name": "stdout",
     "output_type": "stream",
     "text": [
      "Epoch 490/500, Loss: 1.527122974395752\n",
      "Epoch 491/500, Loss: 1.5528901815414429\n",
      "Epoch 492/500, Loss: 1.5554232597351074\n",
      "Epoch 493/500, Loss: 1.5241092443466187\n"
     ]
    },
    {
     "name": "stderr",
     "output_type": "stream",
     "text": [
      " 99%|█████████▉| 496/500 [00:29<00:00, 16.32it/s]"
     ]
    },
    {
     "name": "stdout",
     "output_type": "stream",
     "text": [
      "Epoch 494/500, Loss: 1.568840503692627\n",
      "Epoch 495/500, Loss: 1.5145045518875122\n",
      "Epoch 496/500, Loss: 1.5474169254302979\n"
     ]
    },
    {
     "name": "stderr",
     "output_type": "stream",
     "text": [
      "100%|██████████| 500/500 [00:29<00:00, 16.87it/s]"
     ]
    },
    {
     "name": "stdout",
     "output_type": "stream",
     "text": [
      "Epoch 497/500, Loss: 1.5250825881958008\n",
      "Epoch 498/500, Loss: 1.52247953414917\n",
      "Epoch 499/500, Loss: 1.5545563697814941\n",
      "Epoch 500/500, Loss: 1.5543512105941772\n"
     ]
    },
    {
     "name": "stderr",
     "output_type": "stream",
     "text": [
      "\n"
     ]
    }
   ],
   "source": [
    "from tqdm import tqdm\n",
    "%load_ext autoreload\n",
    "%autoreload 2\n",
    "num_epochs = 500\n",
    "edge_types = [\n",
    "    ('User', 'REVIEWS', 'Product'),\n",
    "    ('Product', 'rev_REVIEWS', 'User')\n",
    "]\n",
    "\n",
    "for epoch in range(num_epochs):\n",
    "    model.train()\n",
    "    optimizer.zero_grad()\n",
    "\n",
    "    total_loss = 0\n",
    "    for edge_type in edge_types:\n",
    "        node_type_1, relation, node_type_2 = edge_type\n",
    "        num_nodes_1 = train_split[node_type_1]['x'].size(0)\n",
    "        num_nodes_2 = train_split[node_type_2]['x'].size(0)\n",
    "\n",
    "        # Sample negative edges\n",
    "        neg_edge_index, _ = sample_negative_edges_hetero(\n",
    "            train_split, relation, num_nodes_1, num_nodes_2, device=device\n",
    "        )\n",
    "\n",
    "        # Get the positive edges\n",
    "        pos_edge_index = train_split[edge_type]['edge_index'].to(device)\n",
    "\n",
    "        # Compute scores for positive and negative edges\n",
    "        # print(pos_edge_index)\n",
    "        pos_scores = model(pos_edge_index)\n",
    "        neg_scores = model(neg_edge_index)\n",
    "\n",
    "        # Calculate BPR loss for this edge type\n",
    "        loss = bpr_loss(pos_scores, neg_scores, model.parameters())\n",
    "        total_loss += loss\n",
    "\n",
    "    # Backward pass\n",
    "    total_loss.backward()\n",
    "    optimizer.step()\n",
    "\n",
    "    # Print loss every epoch (or every few epochs)\n",
    "    print(f\"Epoch {epoch+1}/{num_epochs}, Loss: {total_loss.item()}\")\n"
   ]
  },
  {
   "cell_type": "code",
   "execution_count": null,
   "metadata": {},
   "outputs": [],
   "source": []
  }
 ],
 "metadata": {
  "kernelspec": {
   "display_name": "homeworkenv",
   "language": "python",
   "name": "python3"
  },
  "language_info": {
   "codemirror_mode": {
    "name": "ipython",
    "version": 3
   },
   "file_extension": ".py",
   "mimetype": "text/x-python",
   "name": "python",
   "nbconvert_exporter": "python",
   "pygments_lexer": "ipython3",
   "version": "3.9.18"
  }
 },
 "nbformat": 4,
 "nbformat_minor": 2
}
